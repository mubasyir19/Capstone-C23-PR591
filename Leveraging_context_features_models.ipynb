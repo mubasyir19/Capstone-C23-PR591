{
  "cells": [
    {
      "cell_type": "code",
      "execution_count": 1,
      "metadata": {
        "id": "uw-2w1jxHiBA"
      },
      "outputs": [],
      "source": [
        "import numpy as np\n",
        "import pandas as pd"
      ]
    },
    {
      "cell_type": "code",
      "execution_count": 2,
      "metadata": {
        "colab": {
          "base_uri": "https://localhost:8080/"
        },
        "id": "1oCH86G1Rupa",
        "outputId": "6368a1e1-faef-4499-d3f0-1ef50cac7338"
      },
      "outputs": [
        {
          "output_type": "stream",
          "name": "stdout",
          "text": [
            "Mounted at /content/drive\n"
          ]
        }
      ],
      "source": [
        "from google.colab import drive\n",
        "drive.mount('/content/drive')"
      ]
    },
    {
      "cell_type": "code",
      "execution_count": 3,
      "metadata": {
        "colab": {
          "base_uri": "https://localhost:8080/",
          "height": 206
        },
        "id": "HTPq8c1hI6GV",
        "outputId": "a0f39f8b-cf24-4909-e482-f4790c1d3270"
      },
      "outputs": [
        {
          "output_type": "execute_result",
          "data": {
            "text/plain": [
              "   mountain_id     Daerah             Nama_Gunung  Ketinggian   \\\n",
              "0          101  Jawa barat          Gunung Cermai        3,078   \n",
              "1          102  Jawa barat          Gunung Puntang       2,223   \n",
              "2          103  Jawa barat      Gunung Papandayan        2,666   \n",
              "3          104  Jawa barat  Gunung Gede Pangrango        2,958   \n",
              "4          105  Jawa barat        Gunung Pangrango       3,019   \n",
              "\n",
              "                               Lokasi            Trek  \\\n",
              "0  Kuningan, Majalengka, dan Cirebon.    Tanah Kering   \n",
              "1                         Kab. Bandung   Tanah kering   \n",
              "2                          Kab. Garut.      bebatuan    \n",
              "3                                Bogor  Tangga Buatan   \n",
              "4                              Cibodas   Akar Pohon     \n",
              "\n",
              "                                          Jalur  Simaksi   Level  \n",
              "0  Jalur Apuy, Linggarjati dan Jalur Palutungan  Rp30.000      1  \n",
              "1                                             -  Rp40.000      1  \n",
              "2                                             -  Rp60.000      1  \n",
              "3                Jalur Cibodas dan Jalur Putri   Rp75.000      1  \n",
              "4                                 Jalur Cibodas  Rp75.000      2  "
            ],
            "text/html": [
              "\n",
              "  <div id=\"df-774b2b54-3781-49ec-88ac-91618152c968\">\n",
              "    <div class=\"colab-df-container\">\n",
              "      <div>\n",
              "<style scoped>\n",
              "    .dataframe tbody tr th:only-of-type {\n",
              "        vertical-align: middle;\n",
              "    }\n",
              "\n",
              "    .dataframe tbody tr th {\n",
              "        vertical-align: top;\n",
              "    }\n",
              "\n",
              "    .dataframe thead th {\n",
              "        text-align: right;\n",
              "    }\n",
              "</style>\n",
              "<table border=\"1\" class=\"dataframe\">\n",
              "  <thead>\n",
              "    <tr style=\"text-align: right;\">\n",
              "      <th></th>\n",
              "      <th>mountain_id</th>\n",
              "      <th>Daerah</th>\n",
              "      <th>Nama_Gunung</th>\n",
              "      <th>Ketinggian</th>\n",
              "      <th>Lokasi</th>\n",
              "      <th>Trek</th>\n",
              "      <th>Jalur</th>\n",
              "      <th>Simaksi</th>\n",
              "      <th>Level</th>\n",
              "    </tr>\n",
              "  </thead>\n",
              "  <tbody>\n",
              "    <tr>\n",
              "      <th>0</th>\n",
              "      <td>101</td>\n",
              "      <td>Jawa barat</td>\n",
              "      <td>Gunung Cermai</td>\n",
              "      <td>3,078</td>\n",
              "      <td>Kuningan, Majalengka, dan Cirebon.</td>\n",
              "      <td>Tanah Kering</td>\n",
              "      <td>Jalur Apuy, Linggarjati dan Jalur Palutungan</td>\n",
              "      <td>Rp30.000</td>\n",
              "      <td>1</td>\n",
              "    </tr>\n",
              "    <tr>\n",
              "      <th>1</th>\n",
              "      <td>102</td>\n",
              "      <td>Jawa barat</td>\n",
              "      <td>Gunung Puntang</td>\n",
              "      <td>2,223</td>\n",
              "      <td>Kab. Bandung</td>\n",
              "      <td>Tanah kering</td>\n",
              "      <td>-</td>\n",
              "      <td>Rp40.000</td>\n",
              "      <td>1</td>\n",
              "    </tr>\n",
              "    <tr>\n",
              "      <th>2</th>\n",
              "      <td>103</td>\n",
              "      <td>Jawa barat</td>\n",
              "      <td>Gunung Papandayan</td>\n",
              "      <td>2,666</td>\n",
              "      <td>Kab. Garut.</td>\n",
              "      <td>bebatuan</td>\n",
              "      <td>-</td>\n",
              "      <td>Rp60.000</td>\n",
              "      <td>1</td>\n",
              "    </tr>\n",
              "    <tr>\n",
              "      <th>3</th>\n",
              "      <td>104</td>\n",
              "      <td>Jawa barat</td>\n",
              "      <td>Gunung Gede Pangrango</td>\n",
              "      <td>2,958</td>\n",
              "      <td>Bogor</td>\n",
              "      <td>Tangga Buatan</td>\n",
              "      <td>Jalur Cibodas dan Jalur Putri</td>\n",
              "      <td>Rp75.000</td>\n",
              "      <td>1</td>\n",
              "    </tr>\n",
              "    <tr>\n",
              "      <th>4</th>\n",
              "      <td>105</td>\n",
              "      <td>Jawa barat</td>\n",
              "      <td>Gunung Pangrango</td>\n",
              "      <td>3,019</td>\n",
              "      <td>Cibodas</td>\n",
              "      <td>Akar Pohon</td>\n",
              "      <td>Jalur Cibodas</td>\n",
              "      <td>Rp75.000</td>\n",
              "      <td>2</td>\n",
              "    </tr>\n",
              "  </tbody>\n",
              "</table>\n",
              "</div>\n",
              "      <button class=\"colab-df-convert\" onclick=\"convertToInteractive('df-774b2b54-3781-49ec-88ac-91618152c968')\"\n",
              "              title=\"Convert this dataframe to an interactive table.\"\n",
              "              style=\"display:none;\">\n",
              "        \n",
              "  <svg xmlns=\"http://www.w3.org/2000/svg\" height=\"24px\"viewBox=\"0 0 24 24\"\n",
              "       width=\"24px\">\n",
              "    <path d=\"M0 0h24v24H0V0z\" fill=\"none\"/>\n",
              "    <path d=\"M18.56 5.44l.94 2.06.94-2.06 2.06-.94-2.06-.94-.94-2.06-.94 2.06-2.06.94zm-11 1L8.5 8.5l.94-2.06 2.06-.94-2.06-.94L8.5 2.5l-.94 2.06-2.06.94zm10 10l.94 2.06.94-2.06 2.06-.94-2.06-.94-.94-2.06-.94 2.06-2.06.94z\"/><path d=\"M17.41 7.96l-1.37-1.37c-.4-.4-.92-.59-1.43-.59-.52 0-1.04.2-1.43.59L10.3 9.45l-7.72 7.72c-.78.78-.78 2.05 0 2.83L4 21.41c.39.39.9.59 1.41.59.51 0 1.02-.2 1.41-.59l7.78-7.78 2.81-2.81c.8-.78.8-2.07 0-2.86zM5.41 20L4 18.59l7.72-7.72 1.47 1.35L5.41 20z\"/>\n",
              "  </svg>\n",
              "      </button>\n",
              "      \n",
              "  <style>\n",
              "    .colab-df-container {\n",
              "      display:flex;\n",
              "      flex-wrap:wrap;\n",
              "      gap: 12px;\n",
              "    }\n",
              "\n",
              "    .colab-df-convert {\n",
              "      background-color: #E8F0FE;\n",
              "      border: none;\n",
              "      border-radius: 50%;\n",
              "      cursor: pointer;\n",
              "      display: none;\n",
              "      fill: #1967D2;\n",
              "      height: 32px;\n",
              "      padding: 0 0 0 0;\n",
              "      width: 32px;\n",
              "    }\n",
              "\n",
              "    .colab-df-convert:hover {\n",
              "      background-color: #E2EBFA;\n",
              "      box-shadow: 0px 1px 2px rgba(60, 64, 67, 0.3), 0px 1px 3px 1px rgba(60, 64, 67, 0.15);\n",
              "      fill: #174EA6;\n",
              "    }\n",
              "\n",
              "    [theme=dark] .colab-df-convert {\n",
              "      background-color: #3B4455;\n",
              "      fill: #D2E3FC;\n",
              "    }\n",
              "\n",
              "    [theme=dark] .colab-df-convert:hover {\n",
              "      background-color: #434B5C;\n",
              "      box-shadow: 0px 1px 3px 1px rgba(0, 0, 0, 0.15);\n",
              "      filter: drop-shadow(0px 1px 2px rgba(0, 0, 0, 0.3));\n",
              "      fill: #FFFFFF;\n",
              "    }\n",
              "  </style>\n",
              "\n",
              "      <script>\n",
              "        const buttonEl =\n",
              "          document.querySelector('#df-774b2b54-3781-49ec-88ac-91618152c968 button.colab-df-convert');\n",
              "        buttonEl.style.display =\n",
              "          google.colab.kernel.accessAllowed ? 'block' : 'none';\n",
              "\n",
              "        async function convertToInteractive(key) {\n",
              "          const element = document.querySelector('#df-774b2b54-3781-49ec-88ac-91618152c968');\n",
              "          const dataTable =\n",
              "            await google.colab.kernel.invokeFunction('convertToInteractive',\n",
              "                                                     [key], {});\n",
              "          if (!dataTable) return;\n",
              "\n",
              "          const docLinkHtml = 'Like what you see? Visit the ' +\n",
              "            '<a target=\"_blank\" href=https://colab.research.google.com/notebooks/data_table.ipynb>data table notebook</a>'\n",
              "            + ' to learn more about interactive tables.';\n",
              "          element.innerHTML = '';\n",
              "          dataTable['output_type'] = 'display_data';\n",
              "          await google.colab.output.renderOutput(dataTable, element);\n",
              "          const docLink = document.createElement('div');\n",
              "          docLink.innerHTML = docLinkHtml;\n",
              "          element.appendChild(docLink);\n",
              "        }\n",
              "      </script>\n",
              "    </div>\n",
              "  </div>\n",
              "  "
            ]
          },
          "metadata": {},
          "execution_count": 3
        }
      ],
      "source": [
        "df_gunung = pd.read_csv('/content/drive/My Drive/dataset/datagunung_lvl.csv',delimiter=',')\n",
        "df_gunung = df_gunung.rename(columns={\"Id\": \"mountain_id\"})\n",
        "df_gunung.head()"
      ]
    },
    {
      "cell_type": "code",
      "execution_count": null,
      "metadata": {
        "colab": {
          "base_uri": "https://localhost:8080/"
        },
        "id": "siydG1HsJiY-",
        "outputId": "b5717324-2c92-4fbe-e053-5225cafd2c32"
      },
      "outputs": [
        {
          "data": {
            "text/plain": [
              "(17, 9)"
            ]
          },
          "execution_count": 4,
          "metadata": {},
          "output_type": "execute_result"
        }
      ],
      "source": [
        "df_gunung.shape"
      ]
    },
    {
      "cell_type": "code",
      "execution_count": 4,
      "metadata": {
        "colab": {
          "base_uri": "https://localhost:8080/",
          "height": 206
        },
        "id": "wWPkrehxJqcR",
        "outputId": "b50cd97a-cbd1-4ed2-8297-9da1d9fb2201"
      },
      "outputs": [
        {
          "output_type": "execute_result",
          "data": {
            "text/plain": [
              "   Id                 Nama                         Email      Password  \\\n",
              "0   1  Harcourt Leppington    hleppington0@reference.com        Zjvy1t   \n",
              "1   2         Cristi Weeds     cweeds1@blogtalkradio.com     GRjASvqhv   \n",
              "2   3        Thorny Gidden  tgidden2@acquirethisname.com  hTBgDny2C2p7   \n",
              "3   4     Thibaut Spurdens       tspurdens3@omniture.com     aUz4mmfRq   \n",
              "4   5      Cristionna Gaul            cgaul4@storify.com       5dU6hdn   \n",
              "\n",
              "     Domisili Jenis Kelamin  Umur  Pengalaman  \n",
              "0  Yogyakarta     Perempuan    24          12  \n",
              "1     Cilacap     Laki-laki    18           5  \n",
              "2    Semarang     Perempuan    48           9  \n",
              "3     Cilacap     Perempuan    54          10  \n",
              "4      Malang     Laki-laki    61          18  "
            ],
            "text/html": [
              "\n",
              "  <div id=\"df-6955e776-ebe2-4218-ae01-74e966682daf\">\n",
              "    <div class=\"colab-df-container\">\n",
              "      <div>\n",
              "<style scoped>\n",
              "    .dataframe tbody tr th:only-of-type {\n",
              "        vertical-align: middle;\n",
              "    }\n",
              "\n",
              "    .dataframe tbody tr th {\n",
              "        vertical-align: top;\n",
              "    }\n",
              "\n",
              "    .dataframe thead th {\n",
              "        text-align: right;\n",
              "    }\n",
              "</style>\n",
              "<table border=\"1\" class=\"dataframe\">\n",
              "  <thead>\n",
              "    <tr style=\"text-align: right;\">\n",
              "      <th></th>\n",
              "      <th>Id</th>\n",
              "      <th>Nama</th>\n",
              "      <th>Email</th>\n",
              "      <th>Password</th>\n",
              "      <th>Domisili</th>\n",
              "      <th>Jenis Kelamin</th>\n",
              "      <th>Umur</th>\n",
              "      <th>Pengalaman</th>\n",
              "    </tr>\n",
              "  </thead>\n",
              "  <tbody>\n",
              "    <tr>\n",
              "      <th>0</th>\n",
              "      <td>1</td>\n",
              "      <td>Harcourt Leppington</td>\n",
              "      <td>hleppington0@reference.com</td>\n",
              "      <td>Zjvy1t</td>\n",
              "      <td>Yogyakarta</td>\n",
              "      <td>Perempuan</td>\n",
              "      <td>24</td>\n",
              "      <td>12</td>\n",
              "    </tr>\n",
              "    <tr>\n",
              "      <th>1</th>\n",
              "      <td>2</td>\n",
              "      <td>Cristi Weeds</td>\n",
              "      <td>cweeds1@blogtalkradio.com</td>\n",
              "      <td>GRjASvqhv</td>\n",
              "      <td>Cilacap</td>\n",
              "      <td>Laki-laki</td>\n",
              "      <td>18</td>\n",
              "      <td>5</td>\n",
              "    </tr>\n",
              "    <tr>\n",
              "      <th>2</th>\n",
              "      <td>3</td>\n",
              "      <td>Thorny Gidden</td>\n",
              "      <td>tgidden2@acquirethisname.com</td>\n",
              "      <td>hTBgDny2C2p7</td>\n",
              "      <td>Semarang</td>\n",
              "      <td>Perempuan</td>\n",
              "      <td>48</td>\n",
              "      <td>9</td>\n",
              "    </tr>\n",
              "    <tr>\n",
              "      <th>3</th>\n",
              "      <td>4</td>\n",
              "      <td>Thibaut Spurdens</td>\n",
              "      <td>tspurdens3@omniture.com</td>\n",
              "      <td>aUz4mmfRq</td>\n",
              "      <td>Cilacap</td>\n",
              "      <td>Perempuan</td>\n",
              "      <td>54</td>\n",
              "      <td>10</td>\n",
              "    </tr>\n",
              "    <tr>\n",
              "      <th>4</th>\n",
              "      <td>5</td>\n",
              "      <td>Cristionna Gaul</td>\n",
              "      <td>cgaul4@storify.com</td>\n",
              "      <td>5dU6hdn</td>\n",
              "      <td>Malang</td>\n",
              "      <td>Laki-laki</td>\n",
              "      <td>61</td>\n",
              "      <td>18</td>\n",
              "    </tr>\n",
              "  </tbody>\n",
              "</table>\n",
              "</div>\n",
              "      <button class=\"colab-df-convert\" onclick=\"convertToInteractive('df-6955e776-ebe2-4218-ae01-74e966682daf')\"\n",
              "              title=\"Convert this dataframe to an interactive table.\"\n",
              "              style=\"display:none;\">\n",
              "        \n",
              "  <svg xmlns=\"http://www.w3.org/2000/svg\" height=\"24px\"viewBox=\"0 0 24 24\"\n",
              "       width=\"24px\">\n",
              "    <path d=\"M0 0h24v24H0V0z\" fill=\"none\"/>\n",
              "    <path d=\"M18.56 5.44l.94 2.06.94-2.06 2.06-.94-2.06-.94-.94-2.06-.94 2.06-2.06.94zm-11 1L8.5 8.5l.94-2.06 2.06-.94-2.06-.94L8.5 2.5l-.94 2.06-2.06.94zm10 10l.94 2.06.94-2.06 2.06-.94-2.06-.94-.94-2.06-.94 2.06-2.06.94z\"/><path d=\"M17.41 7.96l-1.37-1.37c-.4-.4-.92-.59-1.43-.59-.52 0-1.04.2-1.43.59L10.3 9.45l-7.72 7.72c-.78.78-.78 2.05 0 2.83L4 21.41c.39.39.9.59 1.41.59.51 0 1.02-.2 1.41-.59l7.78-7.78 2.81-2.81c.8-.78.8-2.07 0-2.86zM5.41 20L4 18.59l7.72-7.72 1.47 1.35L5.41 20z\"/>\n",
              "  </svg>\n",
              "      </button>\n",
              "      \n",
              "  <style>\n",
              "    .colab-df-container {\n",
              "      display:flex;\n",
              "      flex-wrap:wrap;\n",
              "      gap: 12px;\n",
              "    }\n",
              "\n",
              "    .colab-df-convert {\n",
              "      background-color: #E8F0FE;\n",
              "      border: none;\n",
              "      border-radius: 50%;\n",
              "      cursor: pointer;\n",
              "      display: none;\n",
              "      fill: #1967D2;\n",
              "      height: 32px;\n",
              "      padding: 0 0 0 0;\n",
              "      width: 32px;\n",
              "    }\n",
              "\n",
              "    .colab-df-convert:hover {\n",
              "      background-color: #E2EBFA;\n",
              "      box-shadow: 0px 1px 2px rgba(60, 64, 67, 0.3), 0px 1px 3px 1px rgba(60, 64, 67, 0.15);\n",
              "      fill: #174EA6;\n",
              "    }\n",
              "\n",
              "    [theme=dark] .colab-df-convert {\n",
              "      background-color: #3B4455;\n",
              "      fill: #D2E3FC;\n",
              "    }\n",
              "\n",
              "    [theme=dark] .colab-df-convert:hover {\n",
              "      background-color: #434B5C;\n",
              "      box-shadow: 0px 1px 3px 1px rgba(0, 0, 0, 0.15);\n",
              "      filter: drop-shadow(0px 1px 2px rgba(0, 0, 0, 0.3));\n",
              "      fill: #FFFFFF;\n",
              "    }\n",
              "  </style>\n",
              "\n",
              "      <script>\n",
              "        const buttonEl =\n",
              "          document.querySelector('#df-6955e776-ebe2-4218-ae01-74e966682daf button.colab-df-convert');\n",
              "        buttonEl.style.display =\n",
              "          google.colab.kernel.accessAllowed ? 'block' : 'none';\n",
              "\n",
              "        async function convertToInteractive(key) {\n",
              "          const element = document.querySelector('#df-6955e776-ebe2-4218-ae01-74e966682daf');\n",
              "          const dataTable =\n",
              "            await google.colab.kernel.invokeFunction('convertToInteractive',\n",
              "                                                     [key], {});\n",
              "          if (!dataTable) return;\n",
              "\n",
              "          const docLinkHtml = 'Like what you see? Visit the ' +\n",
              "            '<a target=\"_blank\" href=https://colab.research.google.com/notebooks/data_table.ipynb>data table notebook</a>'\n",
              "            + ' to learn more about interactive tables.';\n",
              "          element.innerHTML = '';\n",
              "          dataTable['output_type'] = 'display_data';\n",
              "          await google.colab.output.renderOutput(dataTable, element);\n",
              "          const docLink = document.createElement('div');\n",
              "          docLink.innerHTML = docLinkHtml;\n",
              "          element.appendChild(docLink);\n",
              "        }\n",
              "      </script>\n",
              "    </div>\n",
              "  </div>\n",
              "  "
            ]
          },
          "metadata": {},
          "execution_count": 4
        }
      ],
      "source": [
        "df_user = pd.read_csv('/content/drive/My Drive/dataset/MOCK_DATA.csv',delimiter=',')\n",
        "df_user.head()"
      ]
    },
    {
      "cell_type": "code",
      "execution_count": 5,
      "metadata": {
        "colab": {
          "base_uri": "https://localhost:8080/"
        },
        "id": "6xq0POI7Ie-D",
        "outputId": "107ea875-4a21-4d65-884d-135f446e74e6"
      },
      "outputs": [
        {
          "output_type": "execute_result",
          "data": {
            "text/plain": [
              "(1000, 8)"
            ]
          },
          "metadata": {},
          "execution_count": 5
        }
      ],
      "source": [
        "df_user.shape"
      ]
    },
    {
      "cell_type": "code",
      "execution_count": 6,
      "metadata": {
        "colab": {
          "base_uri": "https://localhost:8080/",
          "height": 206
        },
        "id": "B5jrtZ9eJNma",
        "outputId": "e7de1eb4-e489-45bd-f747-197ad43eea43"
      },
      "outputs": [
        {
          "output_type": "execute_result",
          "data": {
            "text/plain": [
              "   user_id  mountain_id  rating\n",
              "0      284          113       2\n",
              "1       33          111       5\n",
              "2      167          108       1\n",
              "3      623          105       5\n",
              "4      378          110       1"
            ],
            "text/html": [
              "\n",
              "  <div id=\"df-84c1a44b-1b05-4bb4-95be-5b68e7dd0871\">\n",
              "    <div class=\"colab-df-container\">\n",
              "      <div>\n",
              "<style scoped>\n",
              "    .dataframe tbody tr th:only-of-type {\n",
              "        vertical-align: middle;\n",
              "    }\n",
              "\n",
              "    .dataframe tbody tr th {\n",
              "        vertical-align: top;\n",
              "    }\n",
              "\n",
              "    .dataframe thead th {\n",
              "        text-align: right;\n",
              "    }\n",
              "</style>\n",
              "<table border=\"1\" class=\"dataframe\">\n",
              "  <thead>\n",
              "    <tr style=\"text-align: right;\">\n",
              "      <th></th>\n",
              "      <th>user_id</th>\n",
              "      <th>mountain_id</th>\n",
              "      <th>rating</th>\n",
              "    </tr>\n",
              "  </thead>\n",
              "  <tbody>\n",
              "    <tr>\n",
              "      <th>0</th>\n",
              "      <td>284</td>\n",
              "      <td>113</td>\n",
              "      <td>2</td>\n",
              "    </tr>\n",
              "    <tr>\n",
              "      <th>1</th>\n",
              "      <td>33</td>\n",
              "      <td>111</td>\n",
              "      <td>5</td>\n",
              "    </tr>\n",
              "    <tr>\n",
              "      <th>2</th>\n",
              "      <td>167</td>\n",
              "      <td>108</td>\n",
              "      <td>1</td>\n",
              "    </tr>\n",
              "    <tr>\n",
              "      <th>3</th>\n",
              "      <td>623</td>\n",
              "      <td>105</td>\n",
              "      <td>5</td>\n",
              "    </tr>\n",
              "    <tr>\n",
              "      <th>4</th>\n",
              "      <td>378</td>\n",
              "      <td>110</td>\n",
              "      <td>1</td>\n",
              "    </tr>\n",
              "  </tbody>\n",
              "</table>\n",
              "</div>\n",
              "      <button class=\"colab-df-convert\" onclick=\"convertToInteractive('df-84c1a44b-1b05-4bb4-95be-5b68e7dd0871')\"\n",
              "              title=\"Convert this dataframe to an interactive table.\"\n",
              "              style=\"display:none;\">\n",
              "        \n",
              "  <svg xmlns=\"http://www.w3.org/2000/svg\" height=\"24px\"viewBox=\"0 0 24 24\"\n",
              "       width=\"24px\">\n",
              "    <path d=\"M0 0h24v24H0V0z\" fill=\"none\"/>\n",
              "    <path d=\"M18.56 5.44l.94 2.06.94-2.06 2.06-.94-2.06-.94-.94-2.06-.94 2.06-2.06.94zm-11 1L8.5 8.5l.94-2.06 2.06-.94-2.06-.94L8.5 2.5l-.94 2.06-2.06.94zm10 10l.94 2.06.94-2.06 2.06-.94-2.06-.94-.94-2.06-.94 2.06-2.06.94z\"/><path d=\"M17.41 7.96l-1.37-1.37c-.4-.4-.92-.59-1.43-.59-.52 0-1.04.2-1.43.59L10.3 9.45l-7.72 7.72c-.78.78-.78 2.05 0 2.83L4 21.41c.39.39.9.59 1.41.59.51 0 1.02-.2 1.41-.59l7.78-7.78 2.81-2.81c.8-.78.8-2.07 0-2.86zM5.41 20L4 18.59l7.72-7.72 1.47 1.35L5.41 20z\"/>\n",
              "  </svg>\n",
              "      </button>\n",
              "      \n",
              "  <style>\n",
              "    .colab-df-container {\n",
              "      display:flex;\n",
              "      flex-wrap:wrap;\n",
              "      gap: 12px;\n",
              "    }\n",
              "\n",
              "    .colab-df-convert {\n",
              "      background-color: #E8F0FE;\n",
              "      border: none;\n",
              "      border-radius: 50%;\n",
              "      cursor: pointer;\n",
              "      display: none;\n",
              "      fill: #1967D2;\n",
              "      height: 32px;\n",
              "      padding: 0 0 0 0;\n",
              "      width: 32px;\n",
              "    }\n",
              "\n",
              "    .colab-df-convert:hover {\n",
              "      background-color: #E2EBFA;\n",
              "      box-shadow: 0px 1px 2px rgba(60, 64, 67, 0.3), 0px 1px 3px 1px rgba(60, 64, 67, 0.15);\n",
              "      fill: #174EA6;\n",
              "    }\n",
              "\n",
              "    [theme=dark] .colab-df-convert {\n",
              "      background-color: #3B4455;\n",
              "      fill: #D2E3FC;\n",
              "    }\n",
              "\n",
              "    [theme=dark] .colab-df-convert:hover {\n",
              "      background-color: #434B5C;\n",
              "      box-shadow: 0px 1px 3px 1px rgba(0, 0, 0, 0.15);\n",
              "      filter: drop-shadow(0px 1px 2px rgba(0, 0, 0, 0.3));\n",
              "      fill: #FFFFFF;\n",
              "    }\n",
              "  </style>\n",
              "\n",
              "      <script>\n",
              "        const buttonEl =\n",
              "          document.querySelector('#df-84c1a44b-1b05-4bb4-95be-5b68e7dd0871 button.colab-df-convert');\n",
              "        buttonEl.style.display =\n",
              "          google.colab.kernel.accessAllowed ? 'block' : 'none';\n",
              "\n",
              "        async function convertToInteractive(key) {\n",
              "          const element = document.querySelector('#df-84c1a44b-1b05-4bb4-95be-5b68e7dd0871');\n",
              "          const dataTable =\n",
              "            await google.colab.kernel.invokeFunction('convertToInteractive',\n",
              "                                                     [key], {});\n",
              "          if (!dataTable) return;\n",
              "\n",
              "          const docLinkHtml = 'Like what you see? Visit the ' +\n",
              "            '<a target=\"_blank\" href=https://colab.research.google.com/notebooks/data_table.ipynb>data table notebook</a>'\n",
              "            + ' to learn more about interactive tables.';\n",
              "          element.innerHTML = '';\n",
              "          dataTable['output_type'] = 'display_data';\n",
              "          await google.colab.output.renderOutput(dataTable, element);\n",
              "          const docLink = document.createElement('div');\n",
              "          docLink.innerHTML = docLinkHtml;\n",
              "          element.appendChild(docLink);\n",
              "        }\n",
              "      </script>\n",
              "    </div>\n",
              "  </div>\n",
              "  "
            ]
          },
          "metadata": {},
          "execution_count": 6
        }
      ],
      "source": [
        "df_rating = pd.read_csv('/content/drive/My Drive/dataset/rating_data.csv',delimiter=',')\n",
        "df_rating['mountain_id'] = df_rating['mountain_id']+100 \n",
        "df_rating.head()"
      ]
    },
    {
      "cell_type": "code",
      "execution_count": null,
      "metadata": {
        "id": "TrlMh87CvE5w"
      },
      "outputs": [],
      "source": []
    },
    {
      "cell_type": "code",
      "execution_count": 7,
      "metadata": {
        "colab": {
          "base_uri": "https://localhost:8080/"
        },
        "id": "EKc50eK5Iwvo",
        "outputId": "5ad565ea-4607-48c5-b675-71c80b4757d3"
      },
      "outputs": [
        {
          "output_type": "execute_result",
          "data": {
            "text/plain": [
              "(5000, 3)"
            ]
          },
          "metadata": {},
          "execution_count": 7
        }
      ],
      "source": [
        "df_rating.shape"
      ]
    },
    {
      "cell_type": "code",
      "execution_count": 8,
      "metadata": {
        "id": "ApNDvzMpDe0t"
      },
      "outputs": [],
      "source": [
        "mountain_id = df_rating['mountain_id']\n",
        "# List of conditions\n",
        "conditions = [\n",
        "    (mountain_id == 101),\n",
        "    (mountain_id == 102),\n",
        "    (mountain_id == 103),\n",
        "    (mountain_id == 104),\n",
        "    (mountain_id == 105),\n",
        "    (mountain_id == 106),\n",
        "    (mountain_id == 107),\n",
        "    (mountain_id == 108),\n",
        "    (mountain_id == 109),\n",
        "    (mountain_id == 110),\n",
        "    (mountain_id == 111),\n",
        "    (mountain_id == 112),\n",
        "    (mountain_id == 113),\n",
        "    (mountain_id == 114),\n",
        "    (mountain_id == 115),\n",
        "    (mountain_id == 116),\n",
        "    (mountain_id == 117)]\n",
        "# List of values to return\n",
        "choices  = [\n",
        "    \"Gunung Cermai\",\n",
        "    \"Gunung Puntang\",\n",
        "    \"Gunung Papandayan\",\n",
        "    \"Gunung Gede\",\n",
        "    \"Gunung Pangrango\",\n",
        "    \"Gunung Cikuray\",\n",
        "    \"Gunung Prau\",\n",
        "    \"Gunung Merbabu\",\n",
        "    \"Gunung Sindoro\",\n",
        "    \"Gunung Slamet\",\n",
        "    \"Gunung Sumbing\",\n",
        "    \"Gunung Arjuno\",\n",
        "    \"Gunung Argopuro\",\n",
        "    \"Gunung Lawu\",\n",
        "    \"Gunung Semeru\",\n",
        "    \"Gunung Raung\",\n",
        "    \"Gunung Panderman\",\n",
        "    \n",
        "]\n",
        "# create a new column in the DF based on the conditions\n",
        "df_rating.insert(2, 'mount_name', np.select(conditions, choices, \"ERROR\")) "
      ]
    },
    {
      "cell_type": "code",
      "execution_count": 9,
      "metadata": {
        "id": "h8FWZHeRKjle"
      },
      "outputs": [],
      "source": [
        "mountain_id = df_rating['mountain_id']\n",
        "# List of conditions\n",
        "conditions = [\n",
        "    (mountain_id == 101),\n",
        "    (mountain_id == 102),\n",
        "    (mountain_id == 103),\n",
        "    (mountain_id == 104),\n",
        "    (mountain_id == 105),\n",
        "    (mountain_id == 106),\n",
        "    (mountain_id == 107),\n",
        "    (mountain_id == 108),\n",
        "    (mountain_id == 109),\n",
        "    (mountain_id == 110),\n",
        "    (mountain_id == 111),\n",
        "    (mountain_id == 112),\n",
        "    (mountain_id == 113),\n",
        "    (mountain_id == 114),\n",
        "    (mountain_id == 115),\n",
        "    (mountain_id == 116),\n",
        "    (mountain_id == 117)]\n",
        "# List of values to return\n",
        "choices  = [\n",
        "    1,1,1,1,2,1,1,2,2,2,3,3,3,2,3,3,2\n",
        "    \n",
        "]\n",
        "# create a new column in the DF based on the conditions\n",
        "df_rating.insert(3, 'level', np.select(conditions, choices, \"ERROR\")) "
      ]
    },
    {
      "cell_type": "code",
      "execution_count": 10,
      "metadata": {
        "colab": {
          "base_uri": "https://localhost:8080/",
          "height": 520
        },
        "id": "o1AHQavFJ0VN",
        "outputId": "813c1f75-b06c-4172-bce2-56aaf31f8d87"
      },
      "outputs": [
        {
          "output_type": "execute_result",
          "data": {
            "text/plain": [
              "    user_id  mountain_id     mount_name level  rating\n",
              "0       210          101  Gunung Cermai     1       4\n",
              "1       851          101  Gunung Cermai     1       4\n",
              "2       760          101  Gunung Cermai     1       1\n",
              "3       723          101  Gunung Cermai     1       5\n",
              "4       660          101  Gunung Cermai     1       1\n",
              "5       725          101  Gunung Cermai     1       2\n",
              "6       844          101  Gunung Cermai     1       2\n",
              "7       450          101  Gunung Cermai     1       5\n",
              "8       520          101  Gunung Cermai     1       5\n",
              "9       513          101  Gunung Cermai     1       5\n",
              "10      353          101  Gunung Cermai     1       5\n",
              "11      832          101  Gunung Cermai     1       5\n",
              "12      597          101  Gunung Cermai     1       1\n",
              "13      485          101  Gunung Cermai     1       3\n",
              "14       47          101  Gunung Cermai     1       2"
            ],
            "text/html": [
              "\n",
              "  <div id=\"df-b5a6510c-50ea-4c35-979c-187866eeb28a\">\n",
              "    <div class=\"colab-df-container\">\n",
              "      <div>\n",
              "<style scoped>\n",
              "    .dataframe tbody tr th:only-of-type {\n",
              "        vertical-align: middle;\n",
              "    }\n",
              "\n",
              "    .dataframe tbody tr th {\n",
              "        vertical-align: top;\n",
              "    }\n",
              "\n",
              "    .dataframe thead th {\n",
              "        text-align: right;\n",
              "    }\n",
              "</style>\n",
              "<table border=\"1\" class=\"dataframe\">\n",
              "  <thead>\n",
              "    <tr style=\"text-align: right;\">\n",
              "      <th></th>\n",
              "      <th>user_id</th>\n",
              "      <th>mountain_id</th>\n",
              "      <th>mount_name</th>\n",
              "      <th>level</th>\n",
              "      <th>rating</th>\n",
              "    </tr>\n",
              "  </thead>\n",
              "  <tbody>\n",
              "    <tr>\n",
              "      <th>0</th>\n",
              "      <td>210</td>\n",
              "      <td>101</td>\n",
              "      <td>Gunung Cermai</td>\n",
              "      <td>1</td>\n",
              "      <td>4</td>\n",
              "    </tr>\n",
              "    <tr>\n",
              "      <th>1</th>\n",
              "      <td>851</td>\n",
              "      <td>101</td>\n",
              "      <td>Gunung Cermai</td>\n",
              "      <td>1</td>\n",
              "      <td>4</td>\n",
              "    </tr>\n",
              "    <tr>\n",
              "      <th>2</th>\n",
              "      <td>760</td>\n",
              "      <td>101</td>\n",
              "      <td>Gunung Cermai</td>\n",
              "      <td>1</td>\n",
              "      <td>1</td>\n",
              "    </tr>\n",
              "    <tr>\n",
              "      <th>3</th>\n",
              "      <td>723</td>\n",
              "      <td>101</td>\n",
              "      <td>Gunung Cermai</td>\n",
              "      <td>1</td>\n",
              "      <td>5</td>\n",
              "    </tr>\n",
              "    <tr>\n",
              "      <th>4</th>\n",
              "      <td>660</td>\n",
              "      <td>101</td>\n",
              "      <td>Gunung Cermai</td>\n",
              "      <td>1</td>\n",
              "      <td>1</td>\n",
              "    </tr>\n",
              "    <tr>\n",
              "      <th>5</th>\n",
              "      <td>725</td>\n",
              "      <td>101</td>\n",
              "      <td>Gunung Cermai</td>\n",
              "      <td>1</td>\n",
              "      <td>2</td>\n",
              "    </tr>\n",
              "    <tr>\n",
              "      <th>6</th>\n",
              "      <td>844</td>\n",
              "      <td>101</td>\n",
              "      <td>Gunung Cermai</td>\n",
              "      <td>1</td>\n",
              "      <td>2</td>\n",
              "    </tr>\n",
              "    <tr>\n",
              "      <th>7</th>\n",
              "      <td>450</td>\n",
              "      <td>101</td>\n",
              "      <td>Gunung Cermai</td>\n",
              "      <td>1</td>\n",
              "      <td>5</td>\n",
              "    </tr>\n",
              "    <tr>\n",
              "      <th>8</th>\n",
              "      <td>520</td>\n",
              "      <td>101</td>\n",
              "      <td>Gunung Cermai</td>\n",
              "      <td>1</td>\n",
              "      <td>5</td>\n",
              "    </tr>\n",
              "    <tr>\n",
              "      <th>9</th>\n",
              "      <td>513</td>\n",
              "      <td>101</td>\n",
              "      <td>Gunung Cermai</td>\n",
              "      <td>1</td>\n",
              "      <td>5</td>\n",
              "    </tr>\n",
              "    <tr>\n",
              "      <th>10</th>\n",
              "      <td>353</td>\n",
              "      <td>101</td>\n",
              "      <td>Gunung Cermai</td>\n",
              "      <td>1</td>\n",
              "      <td>5</td>\n",
              "    </tr>\n",
              "    <tr>\n",
              "      <th>11</th>\n",
              "      <td>832</td>\n",
              "      <td>101</td>\n",
              "      <td>Gunung Cermai</td>\n",
              "      <td>1</td>\n",
              "      <td>5</td>\n",
              "    </tr>\n",
              "    <tr>\n",
              "      <th>12</th>\n",
              "      <td>597</td>\n",
              "      <td>101</td>\n",
              "      <td>Gunung Cermai</td>\n",
              "      <td>1</td>\n",
              "      <td>1</td>\n",
              "    </tr>\n",
              "    <tr>\n",
              "      <th>13</th>\n",
              "      <td>485</td>\n",
              "      <td>101</td>\n",
              "      <td>Gunung Cermai</td>\n",
              "      <td>1</td>\n",
              "      <td>3</td>\n",
              "    </tr>\n",
              "    <tr>\n",
              "      <th>14</th>\n",
              "      <td>47</td>\n",
              "      <td>101</td>\n",
              "      <td>Gunung Cermai</td>\n",
              "      <td>1</td>\n",
              "      <td>2</td>\n",
              "    </tr>\n",
              "  </tbody>\n",
              "</table>\n",
              "</div>\n",
              "      <button class=\"colab-df-convert\" onclick=\"convertToInteractive('df-b5a6510c-50ea-4c35-979c-187866eeb28a')\"\n",
              "              title=\"Convert this dataframe to an interactive table.\"\n",
              "              style=\"display:none;\">\n",
              "        \n",
              "  <svg xmlns=\"http://www.w3.org/2000/svg\" height=\"24px\"viewBox=\"0 0 24 24\"\n",
              "       width=\"24px\">\n",
              "    <path d=\"M0 0h24v24H0V0z\" fill=\"none\"/>\n",
              "    <path d=\"M18.56 5.44l.94 2.06.94-2.06 2.06-.94-2.06-.94-.94-2.06-.94 2.06-2.06.94zm-11 1L8.5 8.5l.94-2.06 2.06-.94-2.06-.94L8.5 2.5l-.94 2.06-2.06.94zm10 10l.94 2.06.94-2.06 2.06-.94-2.06-.94-.94-2.06-.94 2.06-2.06.94z\"/><path d=\"M17.41 7.96l-1.37-1.37c-.4-.4-.92-.59-1.43-.59-.52 0-1.04.2-1.43.59L10.3 9.45l-7.72 7.72c-.78.78-.78 2.05 0 2.83L4 21.41c.39.39.9.59 1.41.59.51 0 1.02-.2 1.41-.59l7.78-7.78 2.81-2.81c.8-.78.8-2.07 0-2.86zM5.41 20L4 18.59l7.72-7.72 1.47 1.35L5.41 20z\"/>\n",
              "  </svg>\n",
              "      </button>\n",
              "      \n",
              "  <style>\n",
              "    .colab-df-container {\n",
              "      display:flex;\n",
              "      flex-wrap:wrap;\n",
              "      gap: 12px;\n",
              "    }\n",
              "\n",
              "    .colab-df-convert {\n",
              "      background-color: #E8F0FE;\n",
              "      border: none;\n",
              "      border-radius: 50%;\n",
              "      cursor: pointer;\n",
              "      display: none;\n",
              "      fill: #1967D2;\n",
              "      height: 32px;\n",
              "      padding: 0 0 0 0;\n",
              "      width: 32px;\n",
              "    }\n",
              "\n",
              "    .colab-df-convert:hover {\n",
              "      background-color: #E2EBFA;\n",
              "      box-shadow: 0px 1px 2px rgba(60, 64, 67, 0.3), 0px 1px 3px 1px rgba(60, 64, 67, 0.15);\n",
              "      fill: #174EA6;\n",
              "    }\n",
              "\n",
              "    [theme=dark] .colab-df-convert {\n",
              "      background-color: #3B4455;\n",
              "      fill: #D2E3FC;\n",
              "    }\n",
              "\n",
              "    [theme=dark] .colab-df-convert:hover {\n",
              "      background-color: #434B5C;\n",
              "      box-shadow: 0px 1px 3px 1px rgba(0, 0, 0, 0.15);\n",
              "      filter: drop-shadow(0px 1px 2px rgba(0, 0, 0, 0.3));\n",
              "      fill: #FFFFFF;\n",
              "    }\n",
              "  </style>\n",
              "\n",
              "      <script>\n",
              "        const buttonEl =\n",
              "          document.querySelector('#df-b5a6510c-50ea-4c35-979c-187866eeb28a button.colab-df-convert');\n",
              "        buttonEl.style.display =\n",
              "          google.colab.kernel.accessAllowed ? 'block' : 'none';\n",
              "\n",
              "        async function convertToInteractive(key) {\n",
              "          const element = document.querySelector('#df-b5a6510c-50ea-4c35-979c-187866eeb28a');\n",
              "          const dataTable =\n",
              "            await google.colab.kernel.invokeFunction('convertToInteractive',\n",
              "                                                     [key], {});\n",
              "          if (!dataTable) return;\n",
              "\n",
              "          const docLinkHtml = 'Like what you see? Visit the ' +\n",
              "            '<a target=\"_blank\" href=https://colab.research.google.com/notebooks/data_table.ipynb>data table notebook</a>'\n",
              "            + ' to learn more about interactive tables.';\n",
              "          element.innerHTML = '';\n",
              "          dataTable['output_type'] = 'display_data';\n",
              "          await google.colab.output.renderOutput(dataTable, element);\n",
              "          const docLink = document.createElement('div');\n",
              "          docLink.innerHTML = docLinkHtml;\n",
              "          element.appendChild(docLink);\n",
              "        }\n",
              "      </script>\n",
              "    </div>\n",
              "  </div>\n",
              "  "
            ]
          },
          "metadata": {},
          "execution_count": 10
        }
      ],
      "source": [
        "df_rating = df_rating.sort_values(['mountain_id']).reset_index(drop=True)\n",
        "df_rating.head(15)"
      ]
    },
    {
      "cell_type": "code",
      "execution_count": 11,
      "metadata": {
        "colab": {
          "base_uri": "https://localhost:8080/",
          "height": 206
        },
        "id": "I3hItgpfBRZR",
        "outputId": "19ae3f43-52e8-4d0f-fabb-1b113375e0c9"
      },
      "outputs": [
        {
          "output_type": "execute_result",
          "data": {
            "text/plain": [
              "   user_id  mountain_id  rating\n",
              "0      210          101       4\n",
              "1      851          101       4\n",
              "2      760          101       1\n",
              "3      723          101       5\n",
              "4      660          101       1"
            ],
            "text/html": [
              "\n",
              "  <div id=\"df-44eac526-d28f-4693-8e2b-06ce156d4b99\">\n",
              "    <div class=\"colab-df-container\">\n",
              "      <div>\n",
              "<style scoped>\n",
              "    .dataframe tbody tr th:only-of-type {\n",
              "        vertical-align: middle;\n",
              "    }\n",
              "\n",
              "    .dataframe tbody tr th {\n",
              "        vertical-align: top;\n",
              "    }\n",
              "\n",
              "    .dataframe thead th {\n",
              "        text-align: right;\n",
              "    }\n",
              "</style>\n",
              "<table border=\"1\" class=\"dataframe\">\n",
              "  <thead>\n",
              "    <tr style=\"text-align: right;\">\n",
              "      <th></th>\n",
              "      <th>user_id</th>\n",
              "      <th>mountain_id</th>\n",
              "      <th>rating</th>\n",
              "    </tr>\n",
              "  </thead>\n",
              "  <tbody>\n",
              "    <tr>\n",
              "      <th>0</th>\n",
              "      <td>210</td>\n",
              "      <td>101</td>\n",
              "      <td>4</td>\n",
              "    </tr>\n",
              "    <tr>\n",
              "      <th>1</th>\n",
              "      <td>851</td>\n",
              "      <td>101</td>\n",
              "      <td>4</td>\n",
              "    </tr>\n",
              "    <tr>\n",
              "      <th>2</th>\n",
              "      <td>760</td>\n",
              "      <td>101</td>\n",
              "      <td>1</td>\n",
              "    </tr>\n",
              "    <tr>\n",
              "      <th>3</th>\n",
              "      <td>723</td>\n",
              "      <td>101</td>\n",
              "      <td>5</td>\n",
              "    </tr>\n",
              "    <tr>\n",
              "      <th>4</th>\n",
              "      <td>660</td>\n",
              "      <td>101</td>\n",
              "      <td>1</td>\n",
              "    </tr>\n",
              "  </tbody>\n",
              "</table>\n",
              "</div>\n",
              "      <button class=\"colab-df-convert\" onclick=\"convertToInteractive('df-44eac526-d28f-4693-8e2b-06ce156d4b99')\"\n",
              "              title=\"Convert this dataframe to an interactive table.\"\n",
              "              style=\"display:none;\">\n",
              "        \n",
              "  <svg xmlns=\"http://www.w3.org/2000/svg\" height=\"24px\"viewBox=\"0 0 24 24\"\n",
              "       width=\"24px\">\n",
              "    <path d=\"M0 0h24v24H0V0z\" fill=\"none\"/>\n",
              "    <path d=\"M18.56 5.44l.94 2.06.94-2.06 2.06-.94-2.06-.94-.94-2.06-.94 2.06-2.06.94zm-11 1L8.5 8.5l.94-2.06 2.06-.94-2.06-.94L8.5 2.5l-.94 2.06-2.06.94zm10 10l.94 2.06.94-2.06 2.06-.94-2.06-.94-.94-2.06-.94 2.06-2.06.94z\"/><path d=\"M17.41 7.96l-1.37-1.37c-.4-.4-.92-.59-1.43-.59-.52 0-1.04.2-1.43.59L10.3 9.45l-7.72 7.72c-.78.78-.78 2.05 0 2.83L4 21.41c.39.39.9.59 1.41.59.51 0 1.02-.2 1.41-.59l7.78-7.78 2.81-2.81c.8-.78.8-2.07 0-2.86zM5.41 20L4 18.59l7.72-7.72 1.47 1.35L5.41 20z\"/>\n",
              "  </svg>\n",
              "      </button>\n",
              "      \n",
              "  <style>\n",
              "    .colab-df-container {\n",
              "      display:flex;\n",
              "      flex-wrap:wrap;\n",
              "      gap: 12px;\n",
              "    }\n",
              "\n",
              "    .colab-df-convert {\n",
              "      background-color: #E8F0FE;\n",
              "      border: none;\n",
              "      border-radius: 50%;\n",
              "      cursor: pointer;\n",
              "      display: none;\n",
              "      fill: #1967D2;\n",
              "      height: 32px;\n",
              "      padding: 0 0 0 0;\n",
              "      width: 32px;\n",
              "    }\n",
              "\n",
              "    .colab-df-convert:hover {\n",
              "      background-color: #E2EBFA;\n",
              "      box-shadow: 0px 1px 2px rgba(60, 64, 67, 0.3), 0px 1px 3px 1px rgba(60, 64, 67, 0.15);\n",
              "      fill: #174EA6;\n",
              "    }\n",
              "\n",
              "    [theme=dark] .colab-df-convert {\n",
              "      background-color: #3B4455;\n",
              "      fill: #D2E3FC;\n",
              "    }\n",
              "\n",
              "    [theme=dark] .colab-df-convert:hover {\n",
              "      background-color: #434B5C;\n",
              "      box-shadow: 0px 1px 3px 1px rgba(0, 0, 0, 0.15);\n",
              "      filter: drop-shadow(0px 1px 2px rgba(0, 0, 0, 0.3));\n",
              "      fill: #FFFFFF;\n",
              "    }\n",
              "  </style>\n",
              "\n",
              "      <script>\n",
              "        const buttonEl =\n",
              "          document.querySelector('#df-44eac526-d28f-4693-8e2b-06ce156d4b99 button.colab-df-convert');\n",
              "        buttonEl.style.display =\n",
              "          google.colab.kernel.accessAllowed ? 'block' : 'none';\n",
              "\n",
              "        async function convertToInteractive(key) {\n",
              "          const element = document.querySelector('#df-44eac526-d28f-4693-8e2b-06ce156d4b99');\n",
              "          const dataTable =\n",
              "            await google.colab.kernel.invokeFunction('convertToInteractive',\n",
              "                                                     [key], {});\n",
              "          if (!dataTable) return;\n",
              "\n",
              "          const docLinkHtml = 'Like what you see? Visit the ' +\n",
              "            '<a target=\"_blank\" href=https://colab.research.google.com/notebooks/data_table.ipynb>data table notebook</a>'\n",
              "            + ' to learn more about interactive tables.';\n",
              "          element.innerHTML = '';\n",
              "          dataTable['output_type'] = 'display_data';\n",
              "          await google.colab.output.renderOutput(dataTable, element);\n",
              "          const docLink = document.createElement('div');\n",
              "          docLink.innerHTML = docLinkHtml;\n",
              "          element.appendChild(docLink);\n",
              "        }\n",
              "      </script>\n",
              "    </div>\n",
              "  </div>\n",
              "  "
            ]
          },
          "metadata": {},
          "execution_count": 11
        }
      ],
      "source": [
        "data_rating = df_rating.drop(['level','mount_name'],axis=1)\n",
        "data_rating.head()"
      ]
    },
    {
      "cell_type": "code",
      "execution_count": null,
      "metadata": {
        "colab": {
          "base_uri": "https://localhost:8080/",
          "height": 17
        },
        "id": "sC-K1IwdCPqG",
        "outputId": "bd29ea1b-bcd3-4cad-8219-01e01f785257"
      },
      "outputs": [
        {
          "data": {
            "application/javascript": [
              "\n",
              "    async function download(id, filename, size) {\n",
              "      if (!google.colab.kernel.accessAllowed) {\n",
              "        return;\n",
              "      }\n",
              "      const div = document.createElement('div');\n",
              "      const label = document.createElement('label');\n",
              "      label.textContent = `Downloading \"${filename}\": `;\n",
              "      div.appendChild(label);\n",
              "      const progress = document.createElement('progress');\n",
              "      progress.max = size;\n",
              "      div.appendChild(progress);\n",
              "      document.body.appendChild(div);\n",
              "\n",
              "      const buffers = [];\n",
              "      let downloaded = 0;\n",
              "\n",
              "      const channel = await google.colab.kernel.comms.open(id);\n",
              "      // Send a message to notify the kernel that we're ready.\n",
              "      channel.send({})\n",
              "\n",
              "      for await (const message of channel.messages) {\n",
              "        // Send a message to notify the kernel that we're ready.\n",
              "        channel.send({})\n",
              "        if (message.buffers) {\n",
              "          for (const buffer of message.buffers) {\n",
              "            buffers.push(buffer);\n",
              "            downloaded += buffer.byteLength;\n",
              "            progress.value = downloaded;\n",
              "          }\n",
              "        }\n",
              "      }\n",
              "      const blob = new Blob(buffers, {type: 'application/binary'});\n",
              "      const a = document.createElement('a');\n",
              "      a.href = window.URL.createObjectURL(blob);\n",
              "      a.download = filename;\n",
              "      div.appendChild(a);\n",
              "      a.click();\n",
              "      div.remove();\n",
              "    }\n",
              "  "
            ],
            "text/plain": [
              "<IPython.core.display.Javascript object>"
            ]
          },
          "metadata": {},
          "output_type": "display_data"
        },
        {
          "data": {
            "application/javascript": [
              "download(\"download_dca24df5-776d-4739-b629-c94395e69806\", \"rating_data.csv\", 73371)"
            ],
            "text/plain": [
              "<IPython.core.display.Javascript object>"
            ]
          },
          "metadata": {},
          "output_type": "display_data"
        }
      ],
      "source": [
        "# from google.colab import files\n",
        "# data_rating.to_csv('rating_data.csv',index=True,encoding = 'utf-8-sig')\n",
        "# files.download('rating_data.csv')"
      ]
    },
    {
      "cell_type": "code",
      "execution_count": 12,
      "metadata": {
        "id": "4qq0G1Rlmev-"
      },
      "outputs": [],
      "source": [
        "convert_dict = {'level': int}\n",
        " \n",
        "df_rating = df_rating.astype(convert_dict)"
      ]
    },
    {
      "cell_type": "code",
      "execution_count": 13,
      "metadata": {
        "colab": {
          "base_uri": "https://localhost:8080/"
        },
        "id": "X5RuLCHxDUiQ",
        "outputId": "487027ee-83d5-459b-8e2b-87158f302b67"
      },
      "outputs": [
        {
          "output_type": "stream",
          "name": "stdout",
          "text": [
            "   user_id  mountain_id        mount_name  level  rating\n",
            "0        1          113   Gunung Argopuro      3       1\n",
            "1        1          112     Gunung Arjuno      3       2\n",
            "2        1          109    Gunung Sindoro      2       1\n",
            "3        1          117  Gunung Panderman      2       4\n",
            "4        2          109    Gunung Sindoro      2       4\n",
            "(5000, 5)\n",
            "<class 'pandas.core.frame.DataFrame'>\n",
            "RangeIndex: 5000 entries, 0 to 4999\n",
            "Data columns (total 5 columns):\n",
            " #   Column       Non-Null Count  Dtype \n",
            "---  ------       --------------  ----- \n",
            " 0   user_id      5000 non-null   int64 \n",
            " 1   mountain_id  5000 non-null   int64 \n",
            " 2   mount_name   5000 non-null   object\n",
            " 3   level        5000 non-null   int64 \n",
            " 4   rating       5000 non-null   int64 \n",
            "dtypes: int64(4), object(1)\n",
            "memory usage: 195.4+ KB\n",
            "None\n"
          ]
        }
      ],
      "source": [
        "df_rating = df_rating.sort_values(['user_id']).reset_index(drop=True)\n",
        "print(df_rating.head())\n",
        "print(df_rating.shape)\n",
        "print(df_rating.info())"
      ]
    },
    {
      "cell_type": "code",
      "execution_count": 14,
      "metadata": {
        "colab": {
          "base_uri": "https://localhost:8080/",
          "height": 293
        },
        "id": "dFUXMZpkLjlp",
        "outputId": "e65a89a7-ae58-4285-ea63-2201a3127f90"
      },
      "outputs": [
        {
          "output_type": "stream",
          "name": "stderr",
          "text": [
            "<ipython-input-14-6b694f445c44>:1: FutureWarning: The default value of numeric_only in DataFrameGroupBy.mean is deprecated. In a future version, numeric_only will default to False. Either specify numeric_only or select only columns which should be valid for the function.\n",
            "  avg_mount_rate = df_rating.groupby(['mountain_id']).mean()\n"
          ]
        },
        {
          "output_type": "execute_result",
          "data": {
            "text/plain": [
              "             level    rating\n",
              "mountain_id                 \n",
              "117            2.0  3.190000\n",
              "114            2.0  3.151724\n",
              "103            1.0  3.104418\n",
              "107            1.0  3.048544\n",
              "101            1.0  3.045752"
            ],
            "text/html": [
              "\n",
              "  <div id=\"df-38580b15-3f97-4ab2-87d9-21e28ddc5c80\">\n",
              "    <div class=\"colab-df-container\">\n",
              "      <div>\n",
              "<style scoped>\n",
              "    .dataframe tbody tr th:only-of-type {\n",
              "        vertical-align: middle;\n",
              "    }\n",
              "\n",
              "    .dataframe tbody tr th {\n",
              "        vertical-align: top;\n",
              "    }\n",
              "\n",
              "    .dataframe thead th {\n",
              "        text-align: right;\n",
              "    }\n",
              "</style>\n",
              "<table border=\"1\" class=\"dataframe\">\n",
              "  <thead>\n",
              "    <tr style=\"text-align: right;\">\n",
              "      <th></th>\n",
              "      <th>level</th>\n",
              "      <th>rating</th>\n",
              "    </tr>\n",
              "    <tr>\n",
              "      <th>mountain_id</th>\n",
              "      <th></th>\n",
              "      <th></th>\n",
              "    </tr>\n",
              "  </thead>\n",
              "  <tbody>\n",
              "    <tr>\n",
              "      <th>117</th>\n",
              "      <td>2.0</td>\n",
              "      <td>3.190000</td>\n",
              "    </tr>\n",
              "    <tr>\n",
              "      <th>114</th>\n",
              "      <td>2.0</td>\n",
              "      <td>3.151724</td>\n",
              "    </tr>\n",
              "    <tr>\n",
              "      <th>103</th>\n",
              "      <td>1.0</td>\n",
              "      <td>3.104418</td>\n",
              "    </tr>\n",
              "    <tr>\n",
              "      <th>107</th>\n",
              "      <td>1.0</td>\n",
              "      <td>3.048544</td>\n",
              "    </tr>\n",
              "    <tr>\n",
              "      <th>101</th>\n",
              "      <td>1.0</td>\n",
              "      <td>3.045752</td>\n",
              "    </tr>\n",
              "  </tbody>\n",
              "</table>\n",
              "</div>\n",
              "      <button class=\"colab-df-convert\" onclick=\"convertToInteractive('df-38580b15-3f97-4ab2-87d9-21e28ddc5c80')\"\n",
              "              title=\"Convert this dataframe to an interactive table.\"\n",
              "              style=\"display:none;\">\n",
              "        \n",
              "  <svg xmlns=\"http://www.w3.org/2000/svg\" height=\"24px\"viewBox=\"0 0 24 24\"\n",
              "       width=\"24px\">\n",
              "    <path d=\"M0 0h24v24H0V0z\" fill=\"none\"/>\n",
              "    <path d=\"M18.56 5.44l.94 2.06.94-2.06 2.06-.94-2.06-.94-.94-2.06-.94 2.06-2.06.94zm-11 1L8.5 8.5l.94-2.06 2.06-.94-2.06-.94L8.5 2.5l-.94 2.06-2.06.94zm10 10l.94 2.06.94-2.06 2.06-.94-2.06-.94-.94-2.06-.94 2.06-2.06.94z\"/><path d=\"M17.41 7.96l-1.37-1.37c-.4-.4-.92-.59-1.43-.59-.52 0-1.04.2-1.43.59L10.3 9.45l-7.72 7.72c-.78.78-.78 2.05 0 2.83L4 21.41c.39.39.9.59 1.41.59.51 0 1.02-.2 1.41-.59l7.78-7.78 2.81-2.81c.8-.78.8-2.07 0-2.86zM5.41 20L4 18.59l7.72-7.72 1.47 1.35L5.41 20z\"/>\n",
              "  </svg>\n",
              "      </button>\n",
              "      \n",
              "  <style>\n",
              "    .colab-df-container {\n",
              "      display:flex;\n",
              "      flex-wrap:wrap;\n",
              "      gap: 12px;\n",
              "    }\n",
              "\n",
              "    .colab-df-convert {\n",
              "      background-color: #E8F0FE;\n",
              "      border: none;\n",
              "      border-radius: 50%;\n",
              "      cursor: pointer;\n",
              "      display: none;\n",
              "      fill: #1967D2;\n",
              "      height: 32px;\n",
              "      padding: 0 0 0 0;\n",
              "      width: 32px;\n",
              "    }\n",
              "\n",
              "    .colab-df-convert:hover {\n",
              "      background-color: #E2EBFA;\n",
              "      box-shadow: 0px 1px 2px rgba(60, 64, 67, 0.3), 0px 1px 3px 1px rgba(60, 64, 67, 0.15);\n",
              "      fill: #174EA6;\n",
              "    }\n",
              "\n",
              "    [theme=dark] .colab-df-convert {\n",
              "      background-color: #3B4455;\n",
              "      fill: #D2E3FC;\n",
              "    }\n",
              "\n",
              "    [theme=dark] .colab-df-convert:hover {\n",
              "      background-color: #434B5C;\n",
              "      box-shadow: 0px 1px 3px 1px rgba(0, 0, 0, 0.15);\n",
              "      filter: drop-shadow(0px 1px 2px rgba(0, 0, 0, 0.3));\n",
              "      fill: #FFFFFF;\n",
              "    }\n",
              "  </style>\n",
              "\n",
              "      <script>\n",
              "        const buttonEl =\n",
              "          document.querySelector('#df-38580b15-3f97-4ab2-87d9-21e28ddc5c80 button.colab-df-convert');\n",
              "        buttonEl.style.display =\n",
              "          google.colab.kernel.accessAllowed ? 'block' : 'none';\n",
              "\n",
              "        async function convertToInteractive(key) {\n",
              "          const element = document.querySelector('#df-38580b15-3f97-4ab2-87d9-21e28ddc5c80');\n",
              "          const dataTable =\n",
              "            await google.colab.kernel.invokeFunction('convertToInteractive',\n",
              "                                                     [key], {});\n",
              "          if (!dataTable) return;\n",
              "\n",
              "          const docLinkHtml = 'Like what you see? Visit the ' +\n",
              "            '<a target=\"_blank\" href=https://colab.research.google.com/notebooks/data_table.ipynb>data table notebook</a>'\n",
              "            + ' to learn more about interactive tables.';\n",
              "          element.innerHTML = '';\n",
              "          dataTable['output_type'] = 'display_data';\n",
              "          await google.colab.output.renderOutput(dataTable, element);\n",
              "          const docLink = document.createElement('div');\n",
              "          docLink.innerHTML = docLinkHtml;\n",
              "          element.appendChild(docLink);\n",
              "        }\n",
              "      </script>\n",
              "    </div>\n",
              "  </div>\n",
              "  "
            ]
          },
          "metadata": {},
          "execution_count": 14
        }
      ],
      "source": [
        "avg_mount_rate = df_rating.groupby(['mountain_id']).mean()\n",
        "avg_mount_rate = avg_mount_rate.drop(['user_id'],axis=1)\n",
        "avg_mount_rate = avg_mount_rate.sort_values(['rating'], ascending=False)\n",
        "avg_mount_rate.head()"
      ]
    },
    {
      "cell_type": "code",
      "execution_count": 15,
      "metadata": {
        "colab": {
          "base_uri": "https://localhost:8080/",
          "height": 238
        },
        "id": "FZmo_jAavltt",
        "outputId": "0347a05a-e899-49d8-ca70-e15bd5b8a32e"
      },
      "outputs": [
        {
          "output_type": "execute_result",
          "data": {
            "text/plain": [
              "         mount_name  level  rating\n",
              "user_id                           \n",
              "1000              4      4       4\n",
              "999               6      6       6\n",
              "998              10     10      10\n",
              "997               2      2       2\n",
              "996               8      8       8"
            ],
            "text/html": [
              "\n",
              "  <div id=\"df-af880fe1-41b9-4c28-87dd-fb87c0e4d7e4\">\n",
              "    <div class=\"colab-df-container\">\n",
              "      <div>\n",
              "<style scoped>\n",
              "    .dataframe tbody tr th:only-of-type {\n",
              "        vertical-align: middle;\n",
              "    }\n",
              "\n",
              "    .dataframe tbody tr th {\n",
              "        vertical-align: top;\n",
              "    }\n",
              "\n",
              "    .dataframe thead th {\n",
              "        text-align: right;\n",
              "    }\n",
              "</style>\n",
              "<table border=\"1\" class=\"dataframe\">\n",
              "  <thead>\n",
              "    <tr style=\"text-align: right;\">\n",
              "      <th></th>\n",
              "      <th>mount_name</th>\n",
              "      <th>level</th>\n",
              "      <th>rating</th>\n",
              "    </tr>\n",
              "    <tr>\n",
              "      <th>user_id</th>\n",
              "      <th></th>\n",
              "      <th></th>\n",
              "      <th></th>\n",
              "    </tr>\n",
              "  </thead>\n",
              "  <tbody>\n",
              "    <tr>\n",
              "      <th>1000</th>\n",
              "      <td>4</td>\n",
              "      <td>4</td>\n",
              "      <td>4</td>\n",
              "    </tr>\n",
              "    <tr>\n",
              "      <th>999</th>\n",
              "      <td>6</td>\n",
              "      <td>6</td>\n",
              "      <td>6</td>\n",
              "    </tr>\n",
              "    <tr>\n",
              "      <th>998</th>\n",
              "      <td>10</td>\n",
              "      <td>10</td>\n",
              "      <td>10</td>\n",
              "    </tr>\n",
              "    <tr>\n",
              "      <th>997</th>\n",
              "      <td>2</td>\n",
              "      <td>2</td>\n",
              "      <td>2</td>\n",
              "    </tr>\n",
              "    <tr>\n",
              "      <th>996</th>\n",
              "      <td>8</td>\n",
              "      <td>8</td>\n",
              "      <td>8</td>\n",
              "    </tr>\n",
              "  </tbody>\n",
              "</table>\n",
              "</div>\n",
              "      <button class=\"colab-df-convert\" onclick=\"convertToInteractive('df-af880fe1-41b9-4c28-87dd-fb87c0e4d7e4')\"\n",
              "              title=\"Convert this dataframe to an interactive table.\"\n",
              "              style=\"display:none;\">\n",
              "        \n",
              "  <svg xmlns=\"http://www.w3.org/2000/svg\" height=\"24px\"viewBox=\"0 0 24 24\"\n",
              "       width=\"24px\">\n",
              "    <path d=\"M0 0h24v24H0V0z\" fill=\"none\"/>\n",
              "    <path d=\"M18.56 5.44l.94 2.06.94-2.06 2.06-.94-2.06-.94-.94-2.06-.94 2.06-2.06.94zm-11 1L8.5 8.5l.94-2.06 2.06-.94-2.06-.94L8.5 2.5l-.94 2.06-2.06.94zm10 10l.94 2.06.94-2.06 2.06-.94-2.06-.94-.94-2.06-.94 2.06-2.06.94z\"/><path d=\"M17.41 7.96l-1.37-1.37c-.4-.4-.92-.59-1.43-.59-.52 0-1.04.2-1.43.59L10.3 9.45l-7.72 7.72c-.78.78-.78 2.05 0 2.83L4 21.41c.39.39.9.59 1.41.59.51 0 1.02-.2 1.41-.59l7.78-7.78 2.81-2.81c.8-.78.8-2.07 0-2.86zM5.41 20L4 18.59l7.72-7.72 1.47 1.35L5.41 20z\"/>\n",
              "  </svg>\n",
              "      </button>\n",
              "      \n",
              "  <style>\n",
              "    .colab-df-container {\n",
              "      display:flex;\n",
              "      flex-wrap:wrap;\n",
              "      gap: 12px;\n",
              "    }\n",
              "\n",
              "    .colab-df-convert {\n",
              "      background-color: #E8F0FE;\n",
              "      border: none;\n",
              "      border-radius: 50%;\n",
              "      cursor: pointer;\n",
              "      display: none;\n",
              "      fill: #1967D2;\n",
              "      height: 32px;\n",
              "      padding: 0 0 0 0;\n",
              "      width: 32px;\n",
              "    }\n",
              "\n",
              "    .colab-df-convert:hover {\n",
              "      background-color: #E2EBFA;\n",
              "      box-shadow: 0px 1px 2px rgba(60, 64, 67, 0.3), 0px 1px 3px 1px rgba(60, 64, 67, 0.15);\n",
              "      fill: #174EA6;\n",
              "    }\n",
              "\n",
              "    [theme=dark] .colab-df-convert {\n",
              "      background-color: #3B4455;\n",
              "      fill: #D2E3FC;\n",
              "    }\n",
              "\n",
              "    [theme=dark] .colab-df-convert:hover {\n",
              "      background-color: #434B5C;\n",
              "      box-shadow: 0px 1px 3px 1px rgba(0, 0, 0, 0.15);\n",
              "      filter: drop-shadow(0px 1px 2px rgba(0, 0, 0, 0.3));\n",
              "      fill: #FFFFFF;\n",
              "    }\n",
              "  </style>\n",
              "\n",
              "      <script>\n",
              "        const buttonEl =\n",
              "          document.querySelector('#df-af880fe1-41b9-4c28-87dd-fb87c0e4d7e4 button.colab-df-convert');\n",
              "        buttonEl.style.display =\n",
              "          google.colab.kernel.accessAllowed ? 'block' : 'none';\n",
              "\n",
              "        async function convertToInteractive(key) {\n",
              "          const element = document.querySelector('#df-af880fe1-41b9-4c28-87dd-fb87c0e4d7e4');\n",
              "          const dataTable =\n",
              "            await google.colab.kernel.invokeFunction('convertToInteractive',\n",
              "                                                     [key], {});\n",
              "          if (!dataTable) return;\n",
              "\n",
              "          const docLinkHtml = 'Like what you see? Visit the ' +\n",
              "            '<a target=\"_blank\" href=https://colab.research.google.com/notebooks/data_table.ipynb>data table notebook</a>'\n",
              "            + ' to learn more about interactive tables.';\n",
              "          element.innerHTML = '';\n",
              "          dataTable['output_type'] = 'display_data';\n",
              "          await google.colab.output.renderOutput(dataTable, element);\n",
              "          const docLink = document.createElement('div');\n",
              "          docLink.innerHTML = docLinkHtml;\n",
              "          element.appendChild(docLink);\n",
              "        }\n",
              "      </script>\n",
              "    </div>\n",
              "  </div>\n",
              "  "
            ]
          },
          "metadata": {},
          "execution_count": 15
        }
      ],
      "source": [
        "count_user = df_rating.groupby(['user_id']).count()\n",
        "count_user = count_user.drop(['mountain_id'],axis=1)\n",
        "count_user = count_user.sort_values(['user_id'], ascending=False)\n",
        "count_user.head()\n"
      ]
    },
    {
      "cell_type": "code",
      "execution_count": 16,
      "metadata": {
        "colab": {
          "base_uri": "https://localhost:8080/"
        },
        "id": "ZUUlVQugNYK_",
        "outputId": "9ba29289-2b2a-4e28-99c7-714446d7ad79"
      },
      "outputs": [
        {
          "output_type": "execute_result",
          "data": {
            "text/plain": [
              "(17, 2)"
            ]
          },
          "metadata": {},
          "execution_count": 16
        }
      ],
      "source": [
        "avg_mount_rate.shape"
      ]
    },
    {
      "cell_type": "code",
      "execution_count": 17,
      "metadata": {
        "id": "-j6vyA6HSKx1"
      },
      "outputs": [],
      "source": [
        "import tensorflow as tf"
      ]
    },
    {
      "cell_type": "code",
      "execution_count": 18,
      "metadata": {
        "id": "w0O_wF5VSXmo"
      },
      "outputs": [],
      "source": [
        "## Convert Pandas Dataset to Tensorflow dataset\n",
        "\n",
        "tf_rating = tf.data.Dataset.from_tensor_slices(dict(df_rating))\n",
        "tf_gunung = tf.data.Dataset.from_tensor_slices(dict(df_gunung))\n",
        "tf_user = tf.data.Dataset.from_tensor_slices(dict(df_user))"
      ]
    },
    {
      "cell_type": "code",
      "execution_count": 19,
      "metadata": {
        "colab": {
          "base_uri": "https://localhost:8080/"
        },
        "id": "12j5oz1vS1kE",
        "outputId": "f291f75c-2041-48c0-99b9-e91f568eee02"
      },
      "outputs": [
        {
          "output_type": "stream",
          "name": "stdout",
          "text": [
            "{'user_id': <tf.Tensor: shape=(), dtype=int64, numpy=1>, 'mountain_id': <tf.Tensor: shape=(), dtype=int64, numpy=113>, 'mount_name': <tf.Tensor: shape=(), dtype=string, numpy=b'Gunung Argopuro'>, 'level': <tf.Tensor: shape=(), dtype=int64, numpy=3>, 'rating': <tf.Tensor: shape=(), dtype=int64, numpy=1>}\n",
            "{'user_id': <tf.Tensor: shape=(), dtype=int64, numpy=1>, 'mountain_id': <tf.Tensor: shape=(), dtype=int64, numpy=112>, 'mount_name': <tf.Tensor: shape=(), dtype=string, numpy=b'Gunung Arjuno'>, 'level': <tf.Tensor: shape=(), dtype=int64, numpy=3>, 'rating': <tf.Tensor: shape=(), dtype=int64, numpy=2>}\n",
            "{'user_id': <tf.Tensor: shape=(), dtype=int64, numpy=1>, 'mountain_id': <tf.Tensor: shape=(), dtype=int64, numpy=109>, 'mount_name': <tf.Tensor: shape=(), dtype=string, numpy=b'Gunung Sindoro'>, 'level': <tf.Tensor: shape=(), dtype=int64, numpy=2>, 'rating': <tf.Tensor: shape=(), dtype=int64, numpy=1>}\n",
            "{'user_id': <tf.Tensor: shape=(), dtype=int64, numpy=1>, 'mountain_id': <tf.Tensor: shape=(), dtype=int64, numpy=117>, 'mount_name': <tf.Tensor: shape=(), dtype=string, numpy=b'Gunung Panderman'>, 'level': <tf.Tensor: shape=(), dtype=int64, numpy=2>, 'rating': <tf.Tensor: shape=(), dtype=int64, numpy=4>}\n",
            "{'user_id': <tf.Tensor: shape=(), dtype=int64, numpy=2>, 'mountain_id': <tf.Tensor: shape=(), dtype=int64, numpy=109>, 'mount_name': <tf.Tensor: shape=(), dtype=string, numpy=b'Gunung Sindoro'>, 'level': <tf.Tensor: shape=(), dtype=int64, numpy=2>, 'rating': <tf.Tensor: shape=(), dtype=int64, numpy=4>}\n"
          ]
        }
      ],
      "source": [
        "# get the first rows of the gunung dataset\n",
        "for m in tf_rating.take(5):\n",
        "  print(m)"
      ]
    },
    {
      "cell_type": "code",
      "execution_count": 20,
      "metadata": {
        "id": "NDBtID9uS67I"
      },
      "outputs": [],
      "source": [
        "## feature selection\n",
        "# we just use column mount_name and user_id from ratings dataset \n",
        "# and Nama_Gunung column from gunung dataset\n",
        "\n",
        "ratings = tf_rating.map(lambda x: {\n",
        "    \"mount_name\": x[\"mount_name\"],\n",
        "    \"user_id\": x[\"user_id\"],\n",
        "    \"rating\": x[\"rating\"],\n",
        "    \"level\": x[\"level\"]\n",
        "    \n",
        "})\n",
        "gunung = tf_gunung.map(lambda x: x[\"Nama_Gunung \"])"
      ]
    },
    {
      "cell_type": "code",
      "execution_count": 21,
      "metadata": {
        "id": "WKmH596VQlyn"
      },
      "outputs": [],
      "source": [
        "# separate dataset to the training and testing\n",
        "\n",
        "# tf.random.set_seed(42)\n",
        "# shuffled = ratings.shuffle(100_000, seed=42, reshuffle_each_iteration=False)\n",
        "\n",
        "# train = shuffled.take(80_000)\n",
        "# test = shuffled.take(80_000).take(20_000)\n",
        "\n",
        "## Split dataset randomly (80% for train and 20% for test)\n",
        "trainset_size = 0.8 * ratings.__len__().numpy()\n",
        "# In an industrial recommender system, this would most likely be done by time:\n",
        "# The data up to time T would be used to predict interactions after T.\n",
        "\n",
        "# set the global seed:\n",
        "tf.random.set_seed(42)\n",
        "# More info: https://www.tensorflow.org/api_docs/python/tf/random/set_seed\n",
        "\n",
        "# Shuffle the elements of the dataset randomly.\n",
        "ratings_dataset_shuffled = ratings.shuffle(\n",
        "    # the new dataset will be sampled from a buffer window of first `buffer_size`\n",
        "    # elements of the dataset\n",
        "    buffer_size=100_000,\n",
        "    # set the random seed that will be used to create the distribution.\n",
        "    seed=42,\n",
        "    # `list(dataset.as_numpy_iterator()` yields different result for each call\n",
        "    # Because reshuffle_each_iteration defaults to True.\n",
        "    reshuffle_each_iteration=False\n",
        ")\n",
        "# More info: https://www.tensorflow.org/api_docs/python/tf/data/Dataset#shuffle\n",
        " \n",
        "ratings_trainset = ratings_dataset_shuffled.take(trainset_size)\n",
        "ratings_testset = ratings_dataset_shuffled.skip(trainset_size)\n",
        "\n",
        "\n"
      ]
    },
    {
      "cell_type": "code",
      "execution_count": 22,
      "metadata": {
        "colab": {
          "base_uri": "https://localhost:8080/"
        },
        "id": "8fm5RaRxxGt4",
        "outputId": "fc60f97b-d6fa-4dc5-a8ce-1578d6b267cf"
      },
      "outputs": [
        {
          "output_type": "stream",
          "name": "stdout",
          "text": [
            "{'level': 1, 'mount_name': b'Gunung Gede', 'rating': 2, 'user_id': 128}\n"
          ]
        }
      ],
      "source": [
        "\n",
        "from pprint import pprint\n",
        "\n",
        "for rating in ratings_trainset.take(1).as_numpy_iterator():\n",
        "  pprint(rating)"
      ]
    },
    {
      "cell_type": "code",
      "execution_count": 23,
      "metadata": {
        "id": "c2zOlQLfXBCw"
      },
      "outputs": [],
      "source": [
        "rating_vocab = np.unique(np.concatenate(list(ratings_trainset.map(lambda x: x[\"rating\"]).batch(100))))\n",
        "level_vocab = np.unique(np.concatenate(list(ratings_trainset.map(lambda x: x[\"level\"]).batch(100))))\n",
        "\n",
        "\n",
        "unique_mount_names = np.unique(np.concatenate(list(gunung.batch(1000))))\n",
        "unique_user_ids = np.unique(np.concatenate(list(ratings_trainset.batch(1_000).map(\n",
        "    lambda x: x[\"user_id\"]))))"
      ]
    },
    {
      "cell_type": "code",
      "execution_count": null,
      "metadata": {
        "id": "8ciFev-sTWqQ"
      },
      "outputs": [],
      "source": [
        "# user_ids_vocabulary = tf.keras.layers.IntegerLookup(mask_token=None)\n",
        "# user_ids_vocabulary.adapt(ratings_trainset.map(lambda x: x[\"user_id\"]))\n",
        " \n",
        " \n",
        "# gunung_name_vocabulary = tf.keras.layers.StringLookup(mask_token=None)\n",
        "# gunung_name_vocabulary.adapt(gunung)"
      ]
    },
    {
      "cell_type": "code",
      "execution_count": 24,
      "metadata": {
        "id": "ftVvX7tJTjev",
        "colab": {
          "base_uri": "https://localhost:8080/"
        },
        "outputId": "21823002-b4a6-4543-acf2-2649c9db0248"
      },
      "outputs": [
        {
          "output_type": "stream",
          "name": "stdout",
          "text": [
            "\u001b[?25l     \u001b[90m━━━━━━━━━━━━━━━━━━━━━━━━━━━━━━━━━━━━━━━━\u001b[0m \u001b[32m0.0/96.2 kB\u001b[0m \u001b[31m?\u001b[0m eta \u001b[36m-:--:--\u001b[0m\r\u001b[2K     \u001b[90m━━━━━━━━━━━━━━━━━━━━━━━━━━━━━━━━━━━━━━━━\u001b[0m \u001b[32m96.2/96.2 kB\u001b[0m \u001b[31m5.3 MB/s\u001b[0m eta \u001b[36m0:00:00\u001b[0m\n",
            "\u001b[?25h"
          ]
        }
      ],
      "source": [
        "!pip install -q tensorflow-recommenders"
      ]
    },
    {
      "cell_type": "code",
      "execution_count": 25,
      "metadata": {
        "id": "2OgObcYDTmWY"
      },
      "outputs": [],
      "source": [
        "\n",
        "import tensorflow_recommenders as tfrs "
      ]
    },
    {
      "cell_type": "code",
      "execution_count": 26,
      "metadata": {
        "id": "3I8b9X5JXdHh"
      },
      "outputs": [],
      "source": [
        "# Query Model\n",
        "\n",
        "\n",
        "class UserModel(tf.keras.Model):\n",
        "\n",
        "  def __init__(self, use_ratings):\n",
        "    super().__init__()\n",
        "\n",
        "    self._use_ratings = use_ratings\n",
        "\n",
        "    self.user_embedding = tf.keras.Sequential([\n",
        "        tf.keras.layers.IntegerLookup(\n",
        "            vocabulary=unique_user_ids, mask_token=None),\n",
        "        tf.keras.layers.Embedding(len(unique_user_ids) + 1, 32),\n",
        "    ])\n",
        "\n",
        "    self.level_embedding = tf.keras.Sequential([\n",
        "          tf.keras.layers.IntegerLookup(\n",
        "              vocabulary=level_vocab, mask_token=None),\n",
        "          tf.keras.layers.Embedding(len(level_vocab) + 1, 32),\n",
        "      ])\n",
        "\n",
        "\n",
        "    if use_ratings:\n",
        "      self.ratings_embedding = tf.keras.Sequential([\n",
        "          tf.keras.layers.IntegerLookup(\n",
        "              vocabulary=rating_vocab, mask_token=None),\n",
        "          tf.keras.layers.Embedding(len(rating_vocab) + 1, 32),\n",
        "      ])\n",
        "\n",
        "  def call(self, inputs):\n",
        "    if not self._use_ratings:\n",
        "      return tf.concat([\n",
        "        self.user_embedding(inputs[\"user_id\"]),\n",
        "        self.level_embedding(inputs[\"level\"])\n",
        "    ], axis=1)\n",
        "\n",
        "    return tf.concat([\n",
        "        self.user_embedding(inputs[\"user_id\"]),\n",
        "        self.level_embedding(inputs[\"level\"]),\n",
        "        self.ratings_embedding(inputs[\"rating\"])\n",
        "    ], axis=1)"
      ]
    },
    {
      "cell_type": "code",
      "execution_count": 27,
      "metadata": {
        "id": "momKid1nYjtH"
      },
      "outputs": [],
      "source": [
        "# Candidate Model\n",
        "\n",
        "class GunungModel(tf.keras.Model):\n",
        "\n",
        "  def __init__(self):\n",
        "    super().__init__()\n",
        "\n",
        "    max_tokens = 10_000\n",
        "\n",
        "    self.title_embedding = tf.keras.Sequential([\n",
        "      tf.keras.layers.StringLookup(\n",
        "          vocabulary=unique_mount_names, mask_token=None),\n",
        "      tf.keras.layers.Embedding(len(unique_mount_names) + 1, 32)\n",
        "    ])\n",
        "\n",
        "    self.title_vectorizer = tf.keras.layers.TextVectorization(\n",
        "        max_tokens=max_tokens)\n",
        "\n",
        "    self.title_text_embedding = tf.keras.Sequential([\n",
        "      self.title_vectorizer,\n",
        "      tf.keras.layers.Embedding(max_tokens, 32, mask_zero=True),\n",
        "      tf.keras.layers.GlobalAveragePooling1D(),\n",
        "    ])\n",
        "\n",
        "    self.title_vectorizer.adapt(gunung)\n",
        "\n",
        "  def call(self, titles):\n",
        "    return tf.concat([\n",
        "        self.title_embedding(titles),\n",
        "        self.title_text_embedding(titles),\n",
        "    ], axis=1)"
      ]
    },
    {
      "cell_type": "code",
      "execution_count": 28,
      "metadata": {
        "id": "hOc3zFMKZPL0"
      },
      "outputs": [],
      "source": [
        "# Combined Model\n",
        "\n",
        "class MountLensModel(tfrs.models.Model):\n",
        "\n",
        "  def __init__(self, use_ratings):\n",
        "    super().__init__()\n",
        "    self.query_model = tf.keras.Sequential([\n",
        "      UserModel(use_ratings),\n",
        "      tf.keras.layers.Dense(16)\n",
        "    ])\n",
        "    self.candidate_model = tf.keras.Sequential([\n",
        "      GunungModel(),\n",
        "      tf.keras.layers.Dense(16)\n",
        "    ])\n",
        "    self.task = tfrs.tasks.Retrieval(\n",
        "        metrics=tfrs.metrics.FactorizedTopK(\n",
        "            candidates=gunung.batch(69).map(self.candidate_model),\n",
        "        ),\n",
        "    )\n",
        "    self.dropout_layer = tf.keras.layers.Dropout(0.2)\n",
        "\n",
        "  def compute_loss(self, features, training=False):\n",
        "    # We only pass the user id and timestamp features into the query model. This\n",
        "    # is to ensure that the training inputs would have the same keys as the\n",
        "    # query inputs. Otherwise the discrepancy in input structure would cause an\n",
        "    # error when loading the query model after saving it.\n",
        "    query_embeddings = self.dropout_layer(self.query_model({\n",
        "        \"user_id\": features[\"user_id\"],\n",
        "        \"level\": features[\"level\"],\n",
        "        \"rating\": features[\"rating\"]\n",
        "    }))\n",
        "    movie_embeddings = self.dropout_layer(self.candidate_model(features[\"mount_name\"]))\n",
        "\n",
        "    return self.task(query_embeddings, movie_embeddings)"
      ]
    },
    {
      "cell_type": "code",
      "execution_count": 29,
      "metadata": {
        "id": "IChYhsJoaWUX"
      },
      "outputs": [],
      "source": [
        "cached_train = ratings_trainset.shuffle(100_000).batch(512)\n",
        "cached_test = ratings_testset.batch(256).cache()"
      ]
    },
    {
      "cell_type": "code",
      "execution_count": null,
      "metadata": {
        "colab": {
          "base_uri": "https://localhost:8080/"
        },
        "id": "Tn0obgNGapC6",
        "outputId": "e8f51329-1cc7-477f-a507-7cf672f7353a"
      },
      "outputs": [
        {
          "output_type": "stream",
          "name": "stdout",
          "text": [
            "Epoch 1/3\n"
          ]
        },
        {
          "output_type": "stream",
          "name": "stderr",
          "text": [
            "WARNING:tensorflow:Layers in a Sequential model should only have a single input tensor. Received: inputs={'user_id': <tf.Tensor 'IteratorGetNext:3' shape=(None,) dtype=int64>, 'level': <tf.Tensor 'IteratorGetNext:0' shape=(None,) dtype=int64>, 'rating': <tf.Tensor 'IteratorGetNext:2' shape=(None,) dtype=int64>}. Consider rewriting this model with the Functional API.\n",
            "WARNING:tensorflow:Layers in a Sequential model should only have a single input tensor. Received: inputs={'user_id': <tf.Tensor 'IteratorGetNext:3' shape=(None,) dtype=int64>, 'level': <tf.Tensor 'IteratorGetNext:0' shape=(None,) dtype=int64>, 'rating': <tf.Tensor 'IteratorGetNext:2' shape=(None,) dtype=int64>}. Consider rewriting this model with the Functional API.\n"
          ]
        },
        {
          "output_type": "stream",
          "name": "stdout",
          "text": [
            "8/8 [==============================] - ETA: 0s - factorized_top_k/top_1_categorical_accuracy: 0.1620 - factorized_top_k/top_5_categorical_accuracy: 0.5435 - factorized_top_k/top_10_categorical_accuracy: 0.7815 - factorized_top_k/top_50_categorical_accuracy: 1.0000 - factorized_top_k/top_100_categorical_accuracy: 1.0000 - loss: 3106.1959 - regularization_loss: 0.0000e+00 - total_loss: 3106.1959"
          ]
        },
        {
          "output_type": "stream",
          "name": "stderr",
          "text": [
            "WARNING:tensorflow:Layers in a Sequential model should only have a single input tensor. Received: inputs={'user_id': <tf.Tensor 'IteratorGetNext:3' shape=(None,) dtype=int64>, 'level': <tf.Tensor 'IteratorGetNext:0' shape=(None,) dtype=int64>, 'rating': <tf.Tensor 'IteratorGetNext:2' shape=(None,) dtype=int64>}. Consider rewriting this model with the Functional API.\n"
          ]
        },
        {
          "output_type": "stream",
          "name": "stdout",
          "text": [
            "\b\b\b\b\b\b\b\b\b\b\b\b\b\b\b\b\b\b\b\b\b\b\b\b\b\b\b\b\b\b\b\b\b\b\b\b\b\b\b\b\b\b\b\b\b\b\b\b\b\b\b\b\b\b\b\b\b\b\b\b\b\b\b\b\b\b\b\b\b\b\b\b\b\b\b\b\b\b\b\b\b\b\b\b\b\b\b\b\b\b\b\b\b\b\b\b\b\b\b\b\b\b\b\b\b\b\b\b\b\b\b\b\b\b\b\b\b\b\b\b\b\b\b\b\b\b\b\b\b\b\b\b\b\b\b\b\b\b\b\b\b\b\b\b\b\b\b\b\b\b\b\b\b\b\b\b\b\b\b\b\b\b\b\b\b\b\b\b\b\b\b\b\b\b\b\b\b\b\b\b\b\b\b\b\b\b\b\b\b\b\b\b\b\b\b\b\b\b\b\b\b\b\b\b\b\b\b\b\b\b\b\b\b\b\b\b\b\b\b\b\b\b\b\b\b\b\b\b\b\b\b\b\b\b\b\b\b\b\b\b\b\b\b\b\b\b\b\b\b\b\b\b\b\b\b\b\b\b\b\b\b\b\b\b\b\b\b\b\b\b\b\b\b\b\b\b\b\b\b\b\b\b\b\b\b\b\b\b\b\b\b\b\b\b\b\b\b\b\b\b\b\b\b\b\b\b\b\b\b\b\b\b\b\b\b\b\b\b\b\b\b\b\b\b\b\b\b\b\b\b\b\b\b\b\b\b\b\b\b\b\b\b\b\b\b\b\b\b\b\b\b\b\b\b\b\b\b\b\b\b\b\b\b\b\b\b\b\b\b\b\b\b\b\b\b\b\b\b\b\b\b\b\b\b\b\b\b\b\b\b\b\b\b\b\b\b\r8/8 [==============================] - 5s 352ms/step - factorized_top_k/top_1_categorical_accuracy: 0.1620 - factorized_top_k/top_5_categorical_accuracy: 0.5435 - factorized_top_k/top_10_categorical_accuracy: 0.7815 - factorized_top_k/top_50_categorical_accuracy: 1.0000 - factorized_top_k/top_100_categorical_accuracy: 1.0000 - loss: 3039.4185 - regularization_loss: 0.0000e+00 - total_loss: 3039.4185 - val_factorized_top_k/top_1_categorical_accuracy: 0.3700 - val_factorized_top_k/top_5_categorical_accuracy: 0.7880 - val_factorized_top_k/top_10_categorical_accuracy: 0.9320 - val_factorized_top_k/top_50_categorical_accuracy: 1.0000 - val_factorized_top_k/top_100_categorical_accuracy: 1.0000 - val_loss: 1261.6130 - val_regularization_loss: 0.0000e+00 - val_total_loss: 1261.6130\n",
            "Epoch 2/3\n",
            "8/8 [==============================] - 2s 195ms/step - factorized_top_k/top_1_categorical_accuracy: 0.2882 - factorized_top_k/top_5_categorical_accuracy: 0.7958 - factorized_top_k/top_10_categorical_accuracy: 0.9423 - factorized_top_k/top_50_categorical_accuracy: 1.0000 - factorized_top_k/top_100_categorical_accuracy: 1.0000 - loss: 3032.8822 - regularization_loss: 0.0000e+00 - total_loss: 3032.8822 - val_factorized_top_k/top_1_categorical_accuracy: 0.4170 - val_factorized_top_k/top_5_categorical_accuracy: 0.8530 - val_factorized_top_k/top_10_categorical_accuracy: 0.9530 - val_factorized_top_k/top_50_categorical_accuracy: 1.0000 - val_factorized_top_k/top_100_categorical_accuracy: 1.0000 - val_loss: 1257.8984 - val_regularization_loss: 0.0000e+00 - val_total_loss: 1257.8984\n",
            "Epoch 3/3\n",
            "8/8 [==============================] - 2s 195ms/step - factorized_top_k/top_1_categorical_accuracy: 0.2915 - factorized_top_k/top_5_categorical_accuracy: 0.8152 - factorized_top_k/top_10_categorical_accuracy: 0.9578 - factorized_top_k/top_50_categorical_accuracy: 1.0000 - factorized_top_k/top_100_categorical_accuracy: 1.0000 - loss: 3020.3746 - regularization_loss: 0.0000e+00 - total_loss: 3020.3746 - val_factorized_top_k/top_1_categorical_accuracy: 0.4220 - val_factorized_top_k/top_5_categorical_accuracy: 0.8620 - val_factorized_top_k/top_10_categorical_accuracy: 0.9570 - val_factorized_top_k/top_50_categorical_accuracy: 1.0000 - val_factorized_top_k/top_100_categorical_accuracy: 1.0000 - val_loss: 1250.6707 - val_regularization_loss: 0.0000e+00 - val_total_loss: 1250.6707\n",
            "8/8 [==============================] - 1s 94ms/step - factorized_top_k/top_1_categorical_accuracy: 0.4552 - factorized_top_k/top_5_categorical_accuracy: 0.8890 - factorized_top_k/top_10_categorical_accuracy: 0.9643 - factorized_top_k/top_50_categorical_accuracy: 1.0000 - factorized_top_k/top_100_categorical_accuracy: 1.0000 - loss: 3009.9293 - regularization_loss: 0.0000e+00 - total_loss: 3009.9293\n",
            "4/4 [==============================] - 0s 93ms/step - factorized_top_k/top_1_categorical_accuracy: 0.4220 - factorized_top_k/top_5_categorical_accuracy: 0.8620 - factorized_top_k/top_10_categorical_accuracy: 0.9570 - factorized_top_k/top_50_categorical_accuracy: 1.0000 - factorized_top_k/top_100_categorical_accuracy: 1.0000 - loss: 1343.0394 - regularization_loss: 0.0000e+00 - total_loss: 1343.0394\n",
            "Top-100 accuracy (train): 1.00.\n",
            "Top-100 accuracy (test): 1.00.\n"
          ]
        }
      ],
      "source": [
        "#without rating\n",
        "\n",
        "model = MountLensModel(use_ratings=False)\n",
        "\n",
        "#model.compile(optimizer=tf.keras.optimizers.Adagrad(0.1))\n",
        "\n",
        "model.compile(optimizer='adam')\n",
        "\n",
        "history1 = model.fit(cached_train,validation_data=cached_test,\n",
        "    validation_freq=1, epochs=3)\n",
        "\n",
        "train_accuracy = model.evaluate(\n",
        "    cached_train, return_dict=True)[\"factorized_top_k/top_100_categorical_accuracy\"]\n",
        "test_accuracy = model.evaluate(\n",
        "    cached_test, return_dict=True)[\"factorized_top_k/top_100_categorical_accuracy\"]\n",
        "\n",
        "print(f\"Top-100 accuracy (train): {train_accuracy:.2f}.\")\n",
        "print(f\"Top-100 accuracy (test): {test_accuracy:.2f}.\")"
      ]
    },
    {
      "cell_type": "code",
      "execution_count": null,
      "metadata": {
        "colab": {
          "base_uri": "https://localhost:8080/",
          "height": 472
        },
        "id": "R6yqsLAqoj6R",
        "outputId": "84d19a96-3214-4d8f-f3fc-3fb6cd183a3b"
      },
      "outputs": [
        {
          "output_type": "display_data",
          "data": {
            "text/plain": [
              "<Figure size 640x480 with 1 Axes>"
            ],
            "image/png": "[encoded data removed]"
          },
          "metadata": {}
        }
      ],
      "source": [
        "import matplotlib.pyplot as plt\n",
        "\n",
        "# Plot changes in model loss during training\n",
        "plt.plot(history1.history[\"loss\"])\n",
        "plt.plot(history1.history[\"val_loss\"])\n",
        "plt.title(\"Model losses during training\")\n",
        "plt.xlabel(\"epoch\")\n",
        "plt.ylabel(\"loss\")\n",
        "plt.legend([\"train\", \"test\"], loc=\"upper right\")\n",
        "plt.show()"
      ]
    },
    {
      "cell_type": "code",
      "execution_count": 30,
      "metadata": {
        "colab": {
          "base_uri": "https://localhost:8080/"
        },
        "id": "4PdLO8MvcbVU",
        "outputId": "433422f6-ffa1-4ea2-e5f5-aacdf741ec0a"
      },
      "outputs": [
        {
          "output_type": "stream",
          "name": "stdout",
          "text": [
            "Epoch 1/20\n"
          ]
        },
        {
          "output_type": "stream",
          "name": "stderr",
          "text": [
            "WARNING:tensorflow:Layers in a Sequential model should only have a single input tensor. Received: inputs={'user_id': <tf.Tensor 'IteratorGetNext:3' shape=(None,) dtype=int64>, 'level': <tf.Tensor 'IteratorGetNext:0' shape=(None,) dtype=int64>, 'rating': <tf.Tensor 'IteratorGetNext:2' shape=(None,) dtype=int64>}. Consider rewriting this model with the Functional API.\n",
            "WARNING:tensorflow:Layers in a Sequential model should only have a single input tensor. Received: inputs={'user_id': <tf.Tensor 'IteratorGetNext:3' shape=(None,) dtype=int64>, 'level': <tf.Tensor 'IteratorGetNext:0' shape=(None,) dtype=int64>, 'rating': <tf.Tensor 'IteratorGetNext:2' shape=(None,) dtype=int64>}. Consider rewriting this model with the Functional API.\n"
          ]
        },
        {
          "output_type": "stream",
          "name": "stdout",
          "text": [
            "8/8 [==============================] - ETA: 0s - factorized_top_k/top_1_categorical_accuracy: 0.0760 - factorized_top_k/top_5_categorical_accuracy: 0.4442 - factorized_top_k/top_10_categorical_accuracy: 0.7305 - factorized_top_k/top_50_categorical_accuracy: 1.0000 - factorized_top_k/top_100_categorical_accuracy: 1.0000 - loss: 3106.9442 - regularization_loss: 0.0000e+00 - total_loss: 3106.9442"
          ]
        },
        {
          "output_type": "stream",
          "name": "stderr",
          "text": [
            "WARNING:tensorflow:Layers in a Sequential model should only have a single input tensor. Received: inputs={'user_id': <tf.Tensor 'IteratorGetNext:3' shape=(None,) dtype=int64>, 'level': <tf.Tensor 'IteratorGetNext:0' shape=(None,) dtype=int64>, 'rating': <tf.Tensor 'IteratorGetNext:2' shape=(None,) dtype=int64>}. Consider rewriting this model with the Functional API.\n"
          ]
        },
        {
          "output_type": "stream",
          "name": "stdout",
          "text": [
            "\b\b\b\b\b\b\b\b\b\b\b\b\b\b\b\b\b\b\b\b\b\b\b\b\b\b\b\b\b\b\b\b\b\b\b\b\b\b\b\b\b\b\b\b\b\b\b\b\b\b\b\b\b\b\b\b\b\b\b\b\b\b\b\b\b\b\b\b\b\b\b\b\b\b\b\b\b\b\b\b\b\b\b\b\b\b\b\b\b\b\b\b\b\b\b\b\b\b\b\b\b\b\b\b\b\b\b\b\b\b\b\b\b\b\b\b\b\b\b\b\b\b\b\b\b\b\b\b\b\b\b\b\b\b\b\b\b\b\b\b\b\b\b\b\b\b\b\b\b\b\b\b\b\b\b\b\b\b\b\b\b\b\b\b\b\b\b\b\b\b\b\b\b\b\b\b\b\b\b\b\b\b\b\b\b\b\b\b\b\b\b\b\b\b\b\b\b\b\b\b\b\b\b\b\b\b\b\b\b\b\b\b\b\b\b\b\b\b\b\b\b\b\b\b\b\b\b\b\b\b\b\b\b\b\b\b\b\b\b\b\b\b\b\b\b\b\b\b\b\b\b\b\b\b\b\b\b\b\b\b\b\b\b\b\b\b\b\b\b\b\b\b\b\b\b\b\b\b\b\b\b\b\b\b\b\b\b\b\b\b\b\b\b\b\b\b\b\b\b\b\b\b\b\b\b\b\b\b\b\b\b\b\b\b\b\b\b\b\b\b\b\b\b\b\b\b\b\b\b\b\b\b\b\b\b\b\b\b\b\b\b\b\b\b\b\b\b\b\b\b\b\b\b\b\b\b\b\b\b\b\b\b\b\b\b\b\b\b\b\b\b\b\b\b\b\b\b\b\b\b\b\b\b\b\b\b\b\b\b\b\b\b\b\b\b\b\r8/8 [==============================] - 7s 420ms/step - factorized_top_k/top_1_categorical_accuracy: 0.0760 - factorized_top_k/top_5_categorical_accuracy: 0.4442 - factorized_top_k/top_10_categorical_accuracy: 0.7305 - factorized_top_k/top_50_categorical_accuracy: 1.0000 - factorized_top_k/top_100_categorical_accuracy: 1.0000 - loss: 3040.2144 - regularization_loss: 0.0000e+00 - total_loss: 3040.2144 - val_factorized_top_k/top_1_categorical_accuracy: 0.2720 - val_factorized_top_k/top_5_categorical_accuracy: 0.7010 - val_factorized_top_k/top_10_categorical_accuracy: 0.9050 - val_factorized_top_k/top_50_categorical_accuracy: 1.0000 - val_factorized_top_k/top_100_categorical_accuracy: 1.0000 - val_loss: 1262.0200 - val_regularization_loss: 0.0000e+00 - val_total_loss: 1262.0200\n",
            "Epoch 2/20\n",
            "8/8 [==============================] - 2s 271ms/step - factorized_top_k/top_1_categorical_accuracy: 0.2663 - factorized_top_k/top_5_categorical_accuracy: 0.7623 - factorized_top_k/top_10_categorical_accuracy: 0.9438 - factorized_top_k/top_50_categorical_accuracy: 1.0000 - factorized_top_k/top_100_categorical_accuracy: 1.0000 - loss: 3035.1515 - regularization_loss: 0.0000e+00 - total_loss: 3035.1515 - val_factorized_top_k/top_1_categorical_accuracy: 0.3870 - val_factorized_top_k/top_5_categorical_accuracy: 0.8390 - val_factorized_top_k/top_10_categorical_accuracy: 0.9600 - val_factorized_top_k/top_50_categorical_accuracy: 1.0000 - val_factorized_top_k/top_100_categorical_accuracy: 1.0000 - val_loss: 1258.9570 - val_regularization_loss: 0.0000e+00 - val_total_loss: 1258.9570\n",
            "Epoch 3/20\n",
            "8/8 [==============================] - 2s 211ms/step - factorized_top_k/top_1_categorical_accuracy: 0.2907 - factorized_top_k/top_5_categorical_accuracy: 0.8130 - factorized_top_k/top_10_categorical_accuracy: 0.9737 - factorized_top_k/top_50_categorical_accuracy: 1.0000 - factorized_top_k/top_100_categorical_accuracy: 1.0000 - loss: 3025.0292 - regularization_loss: 0.0000e+00 - total_loss: 3025.0292 - val_factorized_top_k/top_1_categorical_accuracy: 0.3960 - val_factorized_top_k/top_5_categorical_accuracy: 0.8570 - val_factorized_top_k/top_10_categorical_accuracy: 0.9680 - val_factorized_top_k/top_50_categorical_accuracy: 1.0000 - val_factorized_top_k/top_100_categorical_accuracy: 1.0000 - val_loss: 1252.8710 - val_regularization_loss: 0.0000e+00 - val_total_loss: 1252.8710\n",
            "Epoch 4/20\n",
            "8/8 [==============================] - 2s 214ms/step - factorized_top_k/top_1_categorical_accuracy: 0.2915 - factorized_top_k/top_5_categorical_accuracy: 0.8067 - factorized_top_k/top_10_categorical_accuracy: 0.9705 - factorized_top_k/top_50_categorical_accuracy: 1.0000 - factorized_top_k/top_100_categorical_accuracy: 1.0000 - loss: 3005.8339 - regularization_loss: 0.0000e+00 - total_loss: 3005.8339 - val_factorized_top_k/top_1_categorical_accuracy: 0.3930 - val_factorized_top_k/top_5_categorical_accuracy: 0.8640 - val_factorized_top_k/top_10_categorical_accuracy: 0.9620 - val_factorized_top_k/top_50_categorical_accuracy: 1.0000 - val_factorized_top_k/top_100_categorical_accuracy: 1.0000 - val_loss: 1241.5988 - val_regularization_loss: 0.0000e+00 - val_total_loss: 1241.5988\n",
            "Epoch 5/20\n",
            "8/8 [==============================] - 2s 181ms/step - factorized_top_k/top_1_categorical_accuracy: 0.2915 - factorized_top_k/top_5_categorical_accuracy: 0.7860 - factorized_top_k/top_10_categorical_accuracy: 0.9688 - factorized_top_k/top_50_categorical_accuracy: 1.0000 - factorized_top_k/top_100_categorical_accuracy: 1.0000 - loss: 2970.4384 - regularization_loss: 0.0000e+00 - total_loss: 2970.4384 - val_factorized_top_k/top_1_categorical_accuracy: 0.4050 - val_factorized_top_k/top_5_categorical_accuracy: 0.8710 - val_factorized_top_k/top_10_categorical_accuracy: 0.9640 - val_factorized_top_k/top_50_categorical_accuracy: 1.0000 - val_factorized_top_k/top_100_categorical_accuracy: 1.0000 - val_loss: 1221.9397 - val_regularization_loss: 0.0000e+00 - val_total_loss: 1221.9397\n",
            "Epoch 6/20\n",
            "8/8 [==============================] - 2s 209ms/step - factorized_top_k/top_1_categorical_accuracy: 0.2915 - factorized_top_k/top_5_categorical_accuracy: 0.7623 - factorized_top_k/top_10_categorical_accuracy: 0.9670 - factorized_top_k/top_50_categorical_accuracy: 1.0000 - factorized_top_k/top_100_categorical_accuracy: 1.0000 - loss: 2912.7600 - regularization_loss: 0.0000e+00 - total_loss: 2912.7600 - val_factorized_top_k/top_1_categorical_accuracy: 0.4060 - val_factorized_top_k/top_5_categorical_accuracy: 0.8640 - val_factorized_top_k/top_10_categorical_accuracy: 0.9590 - val_factorized_top_k/top_50_categorical_accuracy: 1.0000 - val_factorized_top_k/top_100_categorical_accuracy: 1.0000 - val_loss: 1191.4290 - val_regularization_loss: 0.0000e+00 - val_total_loss: 1191.4290\n",
            "Epoch 7/20\n",
            "8/8 [==============================] - 2s 233ms/step - factorized_top_k/top_1_categorical_accuracy: 0.2915 - factorized_top_k/top_5_categorical_accuracy: 0.7533 - factorized_top_k/top_10_categorical_accuracy: 0.9647 - factorized_top_k/top_50_categorical_accuracy: 1.0000 - factorized_top_k/top_100_categorical_accuracy: 1.0000 - loss: 2830.1314 - regularization_loss: 0.0000e+00 - total_loss: 2830.1314 - val_factorized_top_k/top_1_categorical_accuracy: 0.4010 - val_factorized_top_k/top_5_categorical_accuracy: 0.8720 - val_factorized_top_k/top_10_categorical_accuracy: 0.9620 - val_factorized_top_k/top_50_categorical_accuracy: 1.0000 - val_factorized_top_k/top_100_categorical_accuracy: 1.0000 - val_loss: 1151.6956 - val_regularization_loss: 0.0000e+00 - val_total_loss: 1151.6956\n",
            "Epoch 8/20\n",
            "8/8 [==============================] - 2s 268ms/step - factorized_top_k/top_1_categorical_accuracy: 0.2915 - factorized_top_k/top_5_categorical_accuracy: 0.7620 - factorized_top_k/top_10_categorical_accuracy: 0.9690 - factorized_top_k/top_50_categorical_accuracy: 1.0000 - factorized_top_k/top_100_categorical_accuracy: 1.0000 - loss: 2736.6926 - regularization_loss: 0.0000e+00 - total_loss: 2736.6926 - val_factorized_top_k/top_1_categorical_accuracy: 0.4070 - val_factorized_top_k/top_5_categorical_accuracy: 0.8780 - val_factorized_top_k/top_10_categorical_accuracy: 0.9660 - val_factorized_top_k/top_50_categorical_accuracy: 1.0000 - val_factorized_top_k/top_100_categorical_accuracy: 1.0000 - val_loss: 1111.9175 - val_regularization_loss: 0.0000e+00 - val_total_loss: 1111.9175\n",
            "Epoch 9/20\n",
            "8/8 [==============================] - 2s 169ms/step - factorized_top_k/top_1_categorical_accuracy: 0.2915 - factorized_top_k/top_5_categorical_accuracy: 0.7772 - factorized_top_k/top_10_categorical_accuracy: 0.9800 - factorized_top_k/top_50_categorical_accuracy: 1.0000 - factorized_top_k/top_100_categorical_accuracy: 1.0000 - loss: 2655.3811 - regularization_loss: 0.0000e+00 - total_loss: 2655.3811 - val_factorized_top_k/top_1_categorical_accuracy: 0.4140 - val_factorized_top_k/top_5_categorical_accuracy: 0.8760 - val_factorized_top_k/top_10_categorical_accuracy: 0.9770 - val_factorized_top_k/top_50_categorical_accuracy: 1.0000 - val_factorized_top_k/top_100_categorical_accuracy: 1.0000 - val_loss: 1080.1333 - val_regularization_loss: 0.0000e+00 - val_total_loss: 1080.1333\n",
            "Epoch 10/20\n",
            "8/8 [==============================] - 1s 172ms/step - factorized_top_k/top_1_categorical_accuracy: 0.2840 - factorized_top_k/top_5_categorical_accuracy: 0.7820 - factorized_top_k/top_10_categorical_accuracy: 0.9945 - factorized_top_k/top_50_categorical_accuracy: 1.0000 - factorized_top_k/top_100_categorical_accuracy: 1.0000 - loss: 2596.6919 - regularization_loss: 0.0000e+00 - total_loss: 2596.6919 - val_factorized_top_k/top_1_categorical_accuracy: 0.3960 - val_factorized_top_k/top_5_categorical_accuracy: 0.9050 - val_factorized_top_k/top_10_categorical_accuracy: 0.9920 - val_factorized_top_k/top_50_categorical_accuracy: 1.0000 - val_factorized_top_k/top_100_categorical_accuracy: 1.0000 - val_loss: 1057.3440 - val_regularization_loss: 0.0000e+00 - val_total_loss: 1057.3440\n",
            "Epoch 11/20\n",
            "8/8 [==============================] - 1s 163ms/step - factorized_top_k/top_1_categorical_accuracy: 0.1610 - factorized_top_k/top_5_categorical_accuracy: 0.7745 - factorized_top_k/top_10_categorical_accuracy: 0.9998 - factorized_top_k/top_50_categorical_accuracy: 1.0000 - factorized_top_k/top_100_categorical_accuracy: 1.0000 - loss: 2559.6956 - regularization_loss: 0.0000e+00 - total_loss: 2559.6956 - val_factorized_top_k/top_1_categorical_accuracy: 0.2490 - val_factorized_top_k/top_5_categorical_accuracy: 0.9090 - val_factorized_top_k/top_10_categorical_accuracy: 0.9980 - val_factorized_top_k/top_50_categorical_accuracy: 1.0000 - val_factorized_top_k/top_100_categorical_accuracy: 1.0000 - val_loss: 1042.8115 - val_regularization_loss: 0.0000e+00 - val_total_loss: 1042.8115\n",
            "Epoch 12/20\n",
            "8/8 [==============================] - 1s 176ms/step - factorized_top_k/top_1_categorical_accuracy: 0.1075 - factorized_top_k/top_5_categorical_accuracy: 0.7707 - factorized_top_k/top_10_categorical_accuracy: 1.0000 - factorized_top_k/top_50_categorical_accuracy: 1.0000 - factorized_top_k/top_100_categorical_accuracy: 1.0000 - loss: 2538.2659 - regularization_loss: 0.0000e+00 - total_loss: 2538.2659 - val_factorized_top_k/top_1_categorical_accuracy: 0.2690 - val_factorized_top_k/top_5_categorical_accuracy: 0.9230 - val_factorized_top_k/top_10_categorical_accuracy: 1.0000 - val_factorized_top_k/top_50_categorical_accuracy: 1.0000 - val_factorized_top_k/top_100_categorical_accuracy: 1.0000 - val_loss: 1034.2427 - val_regularization_loss: 0.0000e+00 - val_total_loss: 1034.2427\n",
            "Epoch 13/20\n",
            "8/8 [==============================] - 2s 183ms/step - factorized_top_k/top_1_categorical_accuracy: 0.1922 - factorized_top_k/top_5_categorical_accuracy: 0.7742 - factorized_top_k/top_10_categorical_accuracy: 1.0000 - factorized_top_k/top_50_categorical_accuracy: 1.0000 - factorized_top_k/top_100_categorical_accuracy: 1.0000 - loss: 2523.9689 - regularization_loss: 0.0000e+00 - total_loss: 2523.9689 - val_factorized_top_k/top_1_categorical_accuracy: 0.3240 - val_factorized_top_k/top_5_categorical_accuracy: 0.9150 - val_factorized_top_k/top_10_categorical_accuracy: 1.0000 - val_factorized_top_k/top_50_categorical_accuracy: 1.0000 - val_factorized_top_k/top_100_categorical_accuracy: 1.0000 - val_loss: 1028.9331 - val_regularization_loss: 0.0000e+00 - val_total_loss: 1028.9331\n",
            "Epoch 14/20\n",
            "8/8 [==============================] - 2s 187ms/step - factorized_top_k/top_1_categorical_accuracy: 0.2142 - factorized_top_k/top_5_categorical_accuracy: 0.8363 - factorized_top_k/top_10_categorical_accuracy: 1.0000 - factorized_top_k/top_50_categorical_accuracy: 1.0000 - factorized_top_k/top_100_categorical_accuracy: 1.0000 - loss: 2513.8451 - regularization_loss: 0.0000e+00 - total_loss: 2513.8451 - val_factorized_top_k/top_1_categorical_accuracy: 0.3170 - val_factorized_top_k/top_5_categorical_accuracy: 0.9160 - val_factorized_top_k/top_10_categorical_accuracy: 1.0000 - val_factorized_top_k/top_50_categorical_accuracy: 1.0000 - val_factorized_top_k/top_100_categorical_accuracy: 1.0000 - val_loss: 1025.2361 - val_regularization_loss: 0.0000e+00 - val_total_loss: 1025.2361\n",
            "Epoch 15/20\n",
            "8/8 [==============================] - 2s 213ms/step - factorized_top_k/top_1_categorical_accuracy: 0.2125 - factorized_top_k/top_5_categorical_accuracy: 0.8558 - factorized_top_k/top_10_categorical_accuracy: 1.0000 - factorized_top_k/top_50_categorical_accuracy: 1.0000 - factorized_top_k/top_100_categorical_accuracy: 1.0000 - loss: 2504.0958 - regularization_loss: 0.0000e+00 - total_loss: 2504.0958 - val_factorized_top_k/top_1_categorical_accuracy: 0.2950 - val_factorized_top_k/top_5_categorical_accuracy: 0.9060 - val_factorized_top_k/top_10_categorical_accuracy: 1.0000 - val_factorized_top_k/top_50_categorical_accuracy: 1.0000 - val_factorized_top_k/top_100_categorical_accuracy: 1.0000 - val_loss: 1022.8865 - val_regularization_loss: 0.0000e+00 - val_total_loss: 1022.8865\n",
            "Epoch 16/20\n",
            "8/8 [==============================] - 3s 387ms/step - factorized_top_k/top_1_categorical_accuracy: 0.2208 - factorized_top_k/top_5_categorical_accuracy: 0.8808 - factorized_top_k/top_10_categorical_accuracy: 1.0000 - factorized_top_k/top_50_categorical_accuracy: 1.0000 - factorized_top_k/top_100_categorical_accuracy: 1.0000 - loss: 2498.1526 - regularization_loss: 0.0000e+00 - total_loss: 2498.1526 - val_factorized_top_k/top_1_categorical_accuracy: 0.3030 - val_factorized_top_k/top_5_categorical_accuracy: 0.9170 - val_factorized_top_k/top_10_categorical_accuracy: 1.0000 - val_factorized_top_k/top_50_categorical_accuracy: 1.0000 - val_factorized_top_k/top_100_categorical_accuracy: 1.0000 - val_loss: 1022.0582 - val_regularization_loss: 0.0000e+00 - val_total_loss: 1022.0582\n",
            "Epoch 17/20\n",
            "8/8 [==============================] - 2s 213ms/step - factorized_top_k/top_1_categorical_accuracy: 0.2373 - factorized_top_k/top_5_categorical_accuracy: 0.8978 - factorized_top_k/top_10_categorical_accuracy: 1.0000 - factorized_top_k/top_50_categorical_accuracy: 1.0000 - factorized_top_k/top_100_categorical_accuracy: 1.0000 - loss: 2491.0954 - regularization_loss: 0.0000e+00 - total_loss: 2491.0954 - val_factorized_top_k/top_1_categorical_accuracy: 0.2920 - val_factorized_top_k/top_5_categorical_accuracy: 0.9080 - val_factorized_top_k/top_10_categorical_accuracy: 1.0000 - val_factorized_top_k/top_50_categorical_accuracy: 1.0000 - val_factorized_top_k/top_100_categorical_accuracy: 1.0000 - val_loss: 1022.5074 - val_regularization_loss: 0.0000e+00 - val_total_loss: 1022.5074\n",
            "Epoch 18/20\n",
            "8/8 [==============================] - 1s 163ms/step - factorized_top_k/top_1_categorical_accuracy: 0.2310 - factorized_top_k/top_5_categorical_accuracy: 0.9125 - factorized_top_k/top_10_categorical_accuracy: 1.0000 - factorized_top_k/top_50_categorical_accuracy: 1.0000 - factorized_top_k/top_100_categorical_accuracy: 1.0000 - loss: 2483.5622 - regularization_loss: 0.0000e+00 - total_loss: 2483.5622 - val_factorized_top_k/top_1_categorical_accuracy: 0.2800 - val_factorized_top_k/top_5_categorical_accuracy: 0.9050 - val_factorized_top_k/top_10_categorical_accuracy: 1.0000 - val_factorized_top_k/top_50_categorical_accuracy: 1.0000 - val_factorized_top_k/top_100_categorical_accuracy: 1.0000 - val_loss: 1023.8832 - val_regularization_loss: 0.0000e+00 - val_total_loss: 1023.8832\n",
            "Epoch 19/20\n",
            "8/8 [==============================] - 2s 183ms/step - factorized_top_k/top_1_categorical_accuracy: 0.2420 - factorized_top_k/top_5_categorical_accuracy: 0.9290 - factorized_top_k/top_10_categorical_accuracy: 1.0000 - factorized_top_k/top_50_categorical_accuracy: 1.0000 - factorized_top_k/top_100_categorical_accuracy: 1.0000 - loss: 2477.0102 - regularization_loss: 0.0000e+00 - total_loss: 2477.0102 - val_factorized_top_k/top_1_categorical_accuracy: 0.2980 - val_factorized_top_k/top_5_categorical_accuracy: 0.9060 - val_factorized_top_k/top_10_categorical_accuracy: 1.0000 - val_factorized_top_k/top_50_categorical_accuracy: 1.0000 - val_factorized_top_k/top_100_categorical_accuracy: 1.0000 - val_loss: 1026.6104 - val_regularization_loss: 0.0000e+00 - val_total_loss: 1026.6104\n",
            "Epoch 20/20\n",
            "8/8 [==============================] - 2s 215ms/step - factorized_top_k/top_1_categorical_accuracy: 0.2438 - factorized_top_k/top_5_categorical_accuracy: 0.9325 - factorized_top_k/top_10_categorical_accuracy: 1.0000 - factorized_top_k/top_50_categorical_accuracy: 1.0000 - factorized_top_k/top_100_categorical_accuracy: 1.0000 - loss: 2467.1743 - regularization_loss: 0.0000e+00 - total_loss: 2467.1743 - val_factorized_top_k/top_1_categorical_accuracy: 0.2920 - val_factorized_top_k/top_5_categorical_accuracy: 0.9140 - val_factorized_top_k/top_10_categorical_accuracy: 1.0000 - val_factorized_top_k/top_50_categorical_accuracy: 1.0000 - val_factorized_top_k/top_100_categorical_accuracy: 1.0000 - val_loss: 1030.5138 - val_regularization_loss: 0.0000e+00 - val_total_loss: 1030.5138\n",
            "8/8 [==============================] - 1s 107ms/step - factorized_top_k/top_1_categorical_accuracy: 0.4235 - factorized_top_k/top_5_categorical_accuracy: 0.9628 - factorized_top_k/top_10_categorical_accuracy: 1.0000 - factorized_top_k/top_50_categorical_accuracy: 1.0000 - factorized_top_k/top_100_categorical_accuracy: 1.0000 - loss: 2461.6804 - regularization_loss: 0.0000e+00 - total_loss: 2461.6804\n",
            "4/4 [==============================] - 0s 90ms/step - factorized_top_k/top_1_categorical_accuracy: 0.2920 - factorized_top_k/top_5_categorical_accuracy: 0.9140 - factorized_top_k/top_10_categorical_accuracy: 1.0000 - factorized_top_k/top_50_categorical_accuracy: 1.0000 - factorized_top_k/top_100_categorical_accuracy: 1.0000 - loss: 1106.7882 - regularization_loss: 0.0000e+00 - total_loss: 1106.7882\n",
            "Top-100 accuracy (train): 1.00.\n",
            "Top-100 accuracy (test): 1.00.\n"
          ]
        }
      ],
      "source": [
        "model = MountLensModel(use_ratings=True)\n",
        "#model.compile(optimizer=tf.keras.optimizers.Adagrad(0.1))\n",
        "model.compile(optimizer='adam')\n",
        "\n",
        "history = model.fit(cached_train, validation_data=cached_test,\n",
        "    validation_freq=1, epochs=20)\n",
        "\n",
        "train_accuracy = model.evaluate(\n",
        "    cached_train, return_dict=True)[\"factorized_top_k/top_100_categorical_accuracy\"]\n",
        "test_accuracy = model.evaluate(\n",
        "    cached_test, return_dict=True)[\"factorized_top_k/top_100_categorical_accuracy\"]\n",
        "\n",
        "print(f\"Top-100 accuracy (train): {train_accuracy:.2f}.\")\n",
        "print(f\"Top-100 accuracy (test): {test_accuracy:.2f}.\")"
      ]
    },
    {
      "cell_type": "code",
      "execution_count": 31,
      "metadata": {
        "colab": {
          "base_uri": "https://localhost:8080/",
          "height": 472
        },
        "id": "bvUaC_mskAzk",
        "outputId": "9f55d382-3f5f-45f0-c087-3d33c9f46abc"
      },
      "outputs": [
        {
          "output_type": "display_data",
          "data": {
            "text/plain": [
              "<Figure size 640x480 with 1 Axes>"
            ],
            "image/png": "[encoded data removed]"
          },
          "metadata": {}
        }
      ],
      "source": [
        "import matplotlib.pyplot as plt\n",
        "\n",
        "# Plot changes in model loss during training\n",
        "plt.plot(history.history[\"loss\"])\n",
        "plt.plot(history.history[\"val_loss\"])\n",
        "plt.title(\"Model losses during training\")\n",
        "plt.xlabel(\"epoch\")\n",
        "plt.ylabel(\"loss\")\n",
        "plt.legend([\"train\", \"test\"], loc=\"upper right\")\n",
        "plt.show()"
      ]
    },
    {
      "cell_type": "code",
      "source": [
        "\n",
        "# Plot changes in model accuracy during training\n",
        "plt.plot(history.history[\"factorized_top_k/top_5_categorical_accuracy\"])\n",
        "plt.plot(history.history[\"val_factorized_top_k/top_5_categorical_accuracy\"])\n",
        "plt.title(\"Model accuracies during training\")\n",
        "plt.xlabel(\"epoch\")\n",
        "plt.ylabel(\"accuracy\")\n",
        "plt.legend([\"train\", \"test\"], loc=\"upper right\")\n",
        "plt.show()"
      ],
      "metadata": {
        "colab": {
          "base_uri": "https://localhost:8080/",
          "height": 472
        },
        "id": "W9tJixKbwyq7",
        "outputId": "bccc260f-f939-47e5-b56e-185d35023bbe"
      },
      "execution_count": 32,
      "outputs": [
        {
          "output_type": "display_data",
          "data": {
            "text/plain": [
              "<Figure size 640x480 with 1 Axes>"
            ],
            "image/png": "[encoded data removed]"
          },
          "metadata": {}
        }
      ]
    },
    {
      "cell_type": "code",
      "source": [
        "print(cached_test.take(1))"
      ],
      "metadata": {
        "colab": {
          "base_uri": "https://localhost:8080/"
        },
        "id": "Cbdc_cr538rm",
        "outputId": "1c6f4392-a8fa-40a7-8826-9600998dc300"
      },
      "execution_count": 79,
      "outputs": [
        {
          "output_type": "stream",
          "name": "stdout",
          "text": [
            "<_TakeDataset element_spec={'mount_name': TensorSpec(shape=(None,), dtype=tf.string, name=None), 'user_id': TensorSpec(shape=(None,), dtype=tf.int64, name=None), 'rating': TensorSpec(shape=(None,), dtype=tf.int64, name=None), 'level': TensorSpec(shape=(None,), dtype=tf.int64, name=None)}>\n"
          ]
        }
      ]
    },
    {
      "cell_type": "code",
      "source": [
        "model.summary()"
      ],
      "metadata": {
        "colab": {
          "base_uri": "https://localhost:8080/"
        },
        "id": "FLRwbgEQEpka",
        "outputId": "a2d2821b-78c9-4fbb-b419-da806d960473"
      },
      "execution_count": 83,
      "outputs": [
        {
          "output_type": "stream",
          "name": "stdout",
          "text": [
            "Model: \"mount_lens_model\"\n",
            "_________________________________________________________________\n",
            " Layer (type)                Output Shape              Param #   \n",
            "=================================================================\n",
            " sequential_3 (Sequential)   multiple                  33488     \n",
            "                                                                 \n",
            " sequential_6 (Sequential)   (None, 16)                321616    \n",
            "                                                                 \n",
            " retrieval (Retrieval)       multiple                  1         \n",
            "                                                                 \n",
            " dropout (Dropout)           multiple                  0         \n",
            "                                                                 \n",
            "=================================================================\n",
            "Total params: 355,105\n",
            "Trainable params: 355,104\n",
            "Non-trainable params: 1\n",
            "_________________________________________________________________\n"
          ]
        }
      ]
    },
    {
      "cell_type": "code",
      "source": [
        "# Create a model that takes in raw query features, and\n",
        "index = tfrs.layers.factorized_top_k.BruteForce(model.query_model)\n",
        "# recommends movies out of the entire movies dataset.\n",
        "index.index_from_dataset(\n",
        "  tf.data.Dataset.zip((gunung.batch(100), gunung.batch(100).map(model.candidate_model)))\n",
        ")\n",
        "\n",
        "# Get recommendations.\n",
        "_, titles = index({\n",
        "      \"user_id\": 46,\n",
        "      \"level\":1,\n",
        "      \"rating\":0\n",
        "  })\n",
        "print(f\"Recommendations for user 42: {titles[0, :3]}\")"
      ],
      "metadata": {
        "colab": {
          "base_uri": "https://localhost:8080/",
          "height": 504
        },
        "id": "QE3sob3_mQ_8",
        "outputId": "41c8e3ee-333e-417a-eb38-da15a03e175f"
      },
      "execution_count": 82,
      "outputs": [
        {
          "output_type": "stream",
          "name": "stderr",
          "text": [
            "WARNING:tensorflow:Layers in a Sequential model should only have a single input tensor. Received: inputs={'user_id': <tf.Tensor: shape=(), dtype=int32, numpy=46>, 'level': <tf.Tensor: shape=(), dtype=int32, numpy=1>, 'rating': <tf.Tensor: shape=(), dtype=int32, numpy=0>}. Consider rewriting this model with the Functional API.\n"
          ]
        },
        {
          "output_type": "error",
          "ename": "InvalidArgumentError",
          "evalue": "ignored",
          "traceback": [
            "\u001b[0;31m---------------------------------------------------------------------------\u001b[0m",
            "\u001b[0;31mInvalidArgumentError\u001b[0m                      Traceback (most recent call last)",
            "\u001b[0;32m<ipython-input-82-f950ddc03750>\u001b[0m in \u001b[0;36m<cell line: 9>\u001b[0;34m()\u001b[0m\n\u001b[1;32m      7\u001b[0m \u001b[0;34m\u001b[0m\u001b[0m\n\u001b[1;32m      8\u001b[0m \u001b[0;31m# Get recommendations.\u001b[0m\u001b[0;34m\u001b[0m\u001b[0;34m\u001b[0m\u001b[0m\n\u001b[0;32m----> 9\u001b[0;31m _, titles = index({\n\u001b[0m\u001b[1;32m     10\u001b[0m       \u001b[0;34m\"user_id\"\u001b[0m\u001b[0;34m:\u001b[0m \u001b[0;36m46\u001b[0m\u001b[0;34m,\u001b[0m\u001b[0;34m\u001b[0m\u001b[0;34m\u001b[0m\u001b[0m\n\u001b[1;32m     11\u001b[0m       \u001b[0;34m\"level\"\u001b[0m\u001b[0;34m:\u001b[0m\u001b[0;36m1\u001b[0m\u001b[0;34m,\u001b[0m\u001b[0;34m\u001b[0m\u001b[0;34m\u001b[0m\u001b[0m\n",
            "\u001b[0;32m/usr/local/lib/python3.10/dist-packages/keras/utils/traceback_utils.py\u001b[0m in \u001b[0;36merror_handler\u001b[0;34m(*args, **kwargs)\u001b[0m\n\u001b[1;32m     68\u001b[0m             \u001b[0;31m# To get the full stack trace, call:\u001b[0m\u001b[0;34m\u001b[0m\u001b[0;34m\u001b[0m\u001b[0m\n\u001b[1;32m     69\u001b[0m             \u001b[0;31m# `tf.debugging.disable_traceback_filtering()`\u001b[0m\u001b[0;34m\u001b[0m\u001b[0;34m\u001b[0m\u001b[0m\n\u001b[0;32m---> 70\u001b[0;31m             \u001b[0;32mraise\u001b[0m \u001b[0me\u001b[0m\u001b[0;34m.\u001b[0m\u001b[0mwith_traceback\u001b[0m\u001b[0;34m(\u001b[0m\u001b[0mfiltered_tb\u001b[0m\u001b[0;34m)\u001b[0m \u001b[0;32mfrom\u001b[0m \u001b[0;32mNone\u001b[0m\u001b[0;34m\u001b[0m\u001b[0;34m\u001b[0m\u001b[0m\n\u001b[0m\u001b[1;32m     71\u001b[0m         \u001b[0;32mfinally\u001b[0m\u001b[0;34m:\u001b[0m\u001b[0;34m\u001b[0m\u001b[0;34m\u001b[0m\u001b[0m\n\u001b[1;32m     72\u001b[0m             \u001b[0;32mdel\u001b[0m \u001b[0mfiltered_tb\u001b[0m\u001b[0;34m\u001b[0m\u001b[0;34m\u001b[0m\u001b[0m\n",
            "\u001b[0;32m/usr/local/lib/python3.10/dist-packages/tensorflow_recommenders/layers/factorized_top_k.py\u001b[0m in \u001b[0;36mcall\u001b[0;34m(self, queries, k)\u001b[0m\n\u001b[1;32m    582\u001b[0m \u001b[0;34m\u001b[0m\u001b[0m\n\u001b[1;32m    583\u001b[0m     \u001b[0;32mif\u001b[0m \u001b[0mself\u001b[0m\u001b[0;34m.\u001b[0m\u001b[0mquery_model\u001b[0m \u001b[0;32mis\u001b[0m \u001b[0;32mnot\u001b[0m \u001b[0;32mNone\u001b[0m\u001b[0;34m:\u001b[0m\u001b[0;34m\u001b[0m\u001b[0;34m\u001b[0m\u001b[0m\n\u001b[0;32m--> 584\u001b[0;31m       \u001b[0mqueries\u001b[0m \u001b[0;34m=\u001b[0m \u001b[0mself\u001b[0m\u001b[0;34m.\u001b[0m\u001b[0mquery_model\u001b[0m\u001b[0;34m(\u001b[0m\u001b[0mqueries\u001b[0m\u001b[0;34m)\u001b[0m\u001b[0;34m\u001b[0m\u001b[0;34m\u001b[0m\u001b[0m\n\u001b[0m\u001b[1;32m    585\u001b[0m \u001b[0;34m\u001b[0m\u001b[0m\n\u001b[1;32m    586\u001b[0m     \u001b[0mscores\u001b[0m \u001b[0;34m=\u001b[0m \u001b[0mself\u001b[0m\u001b[0;34m.\u001b[0m\u001b[0m_compute_score\u001b[0m\u001b[0;34m(\u001b[0m\u001b[0mqueries\u001b[0m\u001b[0;34m,\u001b[0m \u001b[0mself\u001b[0m\u001b[0;34m.\u001b[0m\u001b[0m_candidates\u001b[0m\u001b[0;34m)\u001b[0m\u001b[0;34m\u001b[0m\u001b[0;34m\u001b[0m\u001b[0m\n",
            "\u001b[0;32m<ipython-input-26-f9e22c5c887a>\u001b[0m in \u001b[0;36mcall\u001b[0;34m(self, inputs)\u001b[0m\n\u001b[1;32m     36\u001b[0m     ], axis=1)\n\u001b[1;32m     37\u001b[0m \u001b[0;34m\u001b[0m\u001b[0m\n\u001b[0;32m---> 38\u001b[0;31m     return tf.concat([\n\u001b[0m\u001b[1;32m     39\u001b[0m         \u001b[0mself\u001b[0m\u001b[0;34m.\u001b[0m\u001b[0muser_embedding\u001b[0m\u001b[0;34m(\u001b[0m\u001b[0minputs\u001b[0m\u001b[0;34m[\u001b[0m\u001b[0;34m\"user_id\"\u001b[0m\u001b[0;34m]\u001b[0m\u001b[0;34m)\u001b[0m\u001b[0;34m,\u001b[0m\u001b[0;34m\u001b[0m\u001b[0;34m\u001b[0m\u001b[0m\n\u001b[1;32m     40\u001b[0m         \u001b[0mself\u001b[0m\u001b[0;34m.\u001b[0m\u001b[0mlevel_embedding\u001b[0m\u001b[0;34m(\u001b[0m\u001b[0minputs\u001b[0m\u001b[0;34m[\u001b[0m\u001b[0;34m\"level\"\u001b[0m\u001b[0;34m]\u001b[0m\u001b[0;34m)\u001b[0m\u001b[0;34m,\u001b[0m\u001b[0;34m\u001b[0m\u001b[0;34m\u001b[0m\u001b[0m\n",
            "\u001b[0;31mInvalidArgumentError\u001b[0m: Exception encountered when calling layer 'user_model' (type UserModel).\n\n{{function_node __wrapped__ConcatV2_N_3_device_/job:localhost/replica:0/task:0/device:CPU:0}} ConcatOp : Expected concatenating dimensions in the range [-1, 1), but got 1 [Op:ConcatV2] name: concat\n\nCall arguments received by layer 'user_model' (type UserModel):\n  • inputs={'user_id': 'tf.Tensor(shape=(), dtype=int32)', 'level': 'tf.Tensor(shape=(), dtype=int32)', 'rating': 'tf.Tensor(shape=(), dtype=int32)'}"
          ]
        }
      ]
    },
    {
      "cell_type": "markdown",
      "source": [],
      "metadata": {
        "id": "QUnfYPi-EXIW"
      }
    },
    {
      "cell_type": "code",
      "source": [
        "scann_index = tfrs.layers.factorized_top_k.ScaNN(model.query_model)\n",
        "scann_index.index_from_dataset(\n",
        "  tf.data.Dataset.zip((gunung.batch(100), gunung.batch(100).map(model.candidate_model)))\n",
        ")\n",
        "\n",
        "_, titles = scann_index(tf.constant([\"42\"]))\n",
        "print(f\"Recommendations for user 42: {titles[0, :3]}\")"
      ],
      "metadata": {
        "colab": {
          "base_uri": "https://localhost:8080/",
          "height": 512
        },
        "id": "1r1MRaSSzkIJ",
        "outputId": "4d332cf8-b913-42ba-acc0-a295d4711984"
      },
      "execution_count": 51,
      "outputs": [
        {
          "output_type": "error",
          "ename": "ImportError",
          "evalue": "ignored",
          "traceback": [
            "\u001b[0;31m---------------------------------------------------------------------------\u001b[0m",
            "\u001b[0;31mImportError\u001b[0m                               Traceback (most recent call last)",
            "\u001b[0;32m<ipython-input-51-bdf586445d03>\u001b[0m in \u001b[0;36m<cell line: 1>\u001b[0;34m()\u001b[0m\n\u001b[0;32m----> 1\u001b[0;31m \u001b[0mscann_index\u001b[0m \u001b[0;34m=\u001b[0m \u001b[0mtfrs\u001b[0m\u001b[0;34m.\u001b[0m\u001b[0mlayers\u001b[0m\u001b[0;34m.\u001b[0m\u001b[0mfactorized_top_k\u001b[0m\u001b[0;34m.\u001b[0m\u001b[0mScaNN\u001b[0m\u001b[0;34m(\u001b[0m\u001b[0mmodel\u001b[0m\u001b[0;34m.\u001b[0m\u001b[0mquery_model\u001b[0m\u001b[0;34m)\u001b[0m\u001b[0;34m\u001b[0m\u001b[0;34m\u001b[0m\u001b[0m\n\u001b[0m\u001b[1;32m      2\u001b[0m scann_index.index_from_dataset(\n\u001b[1;32m      3\u001b[0m   \u001b[0mtf\u001b[0m\u001b[0;34m.\u001b[0m\u001b[0mdata\u001b[0m\u001b[0;34m.\u001b[0m\u001b[0mDataset\u001b[0m\u001b[0;34m.\u001b[0m\u001b[0mzip\u001b[0m\u001b[0;34m(\u001b[0m\u001b[0;34m(\u001b[0m\u001b[0mgunung\u001b[0m\u001b[0;34m.\u001b[0m\u001b[0mbatch\u001b[0m\u001b[0;34m(\u001b[0m\u001b[0;36m100\u001b[0m\u001b[0;34m)\u001b[0m\u001b[0;34m,\u001b[0m \u001b[0mgunung\u001b[0m\u001b[0;34m.\u001b[0m\u001b[0mbatch\u001b[0m\u001b[0;34m(\u001b[0m\u001b[0;36m100\u001b[0m\u001b[0;34m)\u001b[0m\u001b[0;34m.\u001b[0m\u001b[0mmap\u001b[0m\u001b[0;34m(\u001b[0m\u001b[0mmodel\u001b[0m\u001b[0;34m.\u001b[0m\u001b[0mcandidate_model\u001b[0m\u001b[0;34m)\u001b[0m\u001b[0;34m)\u001b[0m\u001b[0;34m)\u001b[0m\u001b[0;34m\u001b[0m\u001b[0;34m\u001b[0m\u001b[0m\n\u001b[1;32m      4\u001b[0m )\n\u001b[1;32m      5\u001b[0m \u001b[0;34m\u001b[0m\u001b[0m\n",
            "\u001b[0;32m/usr/local/lib/python3.10/dist-packages/tensorflow_recommenders/layers/factorized_top_k.py\u001b[0m in \u001b[0;36m__init__\u001b[0;34m(self, query_model, k, distance_measure, num_leaves, num_leaves_to_search, training_iterations, dimensions_per_block, num_reordering_candidates, parallelize_batch_searches, name)\u001b[0m\n\u001b[1;32m    655\u001b[0m \u001b[0;34m\u001b[0m\u001b[0m\n\u001b[1;32m    656\u001b[0m     \u001b[0;32mif\u001b[0m \u001b[0;32mnot\u001b[0m \u001b[0m_HAVE_SCANN\u001b[0m\u001b[0;34m:\u001b[0m\u001b[0;34m\u001b[0m\u001b[0;34m\u001b[0m\u001b[0m\n\u001b[0;32m--> 657\u001b[0;31m       raise ImportError(\n\u001b[0m\u001b[1;32m    658\u001b[0m           \u001b[0;34m\"The scann library is not present. Please install it using \"\u001b[0m\u001b[0;34m\u001b[0m\u001b[0;34m\u001b[0m\u001b[0m\n\u001b[1;32m    659\u001b[0m           \"`pip install scann` to use the ScaNN layer.\")\n",
            "\u001b[0;31mImportError\u001b[0m: The scann library is not present. Please install it using `pip install scann` to use the ScaNN layer.",
            "",
            "\u001b[0;31m---------------------------------------------------------------------------\u001b[0;32m\nNOTE: If your import is failing due to a missing package, you can\nmanually install dependencies using either !pip or !apt.\n\nTo view examples of installing some common dependencies, click the\n\"Open Examples\" button below.\n\u001b[0;31m---------------------------------------------------------------------------\u001b[0m\n"
          ],
          "errorDetails": {
            "actions": [
              {
                "action": "open_url",
                "actionText": "Open Examples",
                "url": "/notebooks/snippets/importing_libraries.ipynb"
              }
            ]
          }
        }
      ]
    },
    {
      "cell_type": "markdown",
      "metadata": {
        "id": "VVLp7jmNEr4c"
      },
      "source": [
        "# Build Ranking task\n"
      ]
    },
    {
      "cell_type": "code",
      "execution_count": null,
      "metadata": {
        "id": "TiXRscFWJ6CM"
      },
      "outputs": [],
      "source": [
        "## feature selection\n",
        "# we just use column mount_name and user_id from ratings dataset \n",
        "# and Nama_Gunung column from gunung dataset\n",
        "\n",
        "rank_ratings = tf_rating.map(lambda x: {\n",
        "    \"mount_name\": x[\"mount_name\"],\n",
        "    \"user_id\": x[\"user_id\"],\n",
        "    \"rating\": x[\"rating\"]\n",
        "})\n",
        "rank_gunung = tf_gunung.map(lambda x: {\n",
        "    \"mountain_id\": x[\"mountain_id\"],\n",
        "    \"mount_name\": x[\"Nama_Gunung \"],\n",
        "    \"location\": x[\"Lokasi \"]\n",
        "\n",
        "})"
      ]
    },
    {
      "cell_type": "code",
      "execution_count": null,
      "metadata": {
        "id": "FcD6s7cWLC_I"
      },
      "outputs": [],
      "source": [
        "## Split dataset randomly (80% for train and 20% for test)\n",
        "trainset_size = 0.8 * ratings.__len__().numpy()\n",
        "# In an industrial recommender system, this would most likely be done by time:\n",
        "# The data up to time T would be used to predict interactions after T.\n",
        "\n",
        "# set the global seed:\n",
        "tf.random.set_seed(42)\n",
        "# More info: https://www.tensorflow.org/api_docs/python/tf/random/set_seed\n",
        "\n",
        "# Shuffle the elements of the dataset randomly.\n",
        "rank_ratings_dataset_shuffled = rank_ratings.shuffle(\n",
        "    # the new dataset will be sampled from a buffer window of first `buffer_size`\n",
        "    # elements of the dataset\n",
        "    buffer_size=100_000,\n",
        "    # set the random seed that will be used to create the distribution.\n",
        "    seed=42,\n",
        "    # `list(dataset.as_numpy_iterator()` yields different result for each call\n",
        "    # Because reshuffle_each_iteration defaults to True.\n",
        "    reshuffle_each_iteration=False\n",
        ")\n",
        "# More info: https://www.tensorflow.org/api_docs/python/tf/data/Dataset#shuffle\n",
        " \n",
        "rank_ratings_trainset = rank_ratings_dataset_shuffled.take(trainset_size)\n",
        "rank_ratings_testset = rank_ratings_dataset_shuffled.skip(trainset_size)\n"
      ]
    },
    {
      "cell_type": "code",
      "execution_count": null,
      "metadata": {
        "id": "9a2p-Z4pKfAS"
      },
      "outputs": [],
      "source": [
        "user_ids_vocabulary = tf.keras.layers.IntegerLookup(mask_token=None)\n",
        "user_ids_vocabulary.adapt(rank_ratings_trainset.map(lambda x: x[\"user_id\"]))\n",
        " \n",
        " \n",
        "gunung_name_vocabulary = tf.keras.layers.StringLookup(mask_token=None)\n",
        "gunung_name_vocabulary.adapt(rank_gunung.map(lambda x: x[\"mount_name\"]))"
      ]
    },
    {
      "cell_type": "code",
      "execution_count": null,
      "metadata": {
        "id": "OtokFDgyEzIH"
      },
      "outputs": [],
      "source": [
        "class RankingModel(tfrs.models.Model):\n",
        "  \"\"\"MovieLens ranking model\"\"\"\n",
        "\n",
        "  def __init__(self, query_model, candidate_model):\n",
        "    super().__init__()\n",
        "\n",
        "    self.query_model: tf.keras.Model = user_model\n",
        "    self.candidate_model: tf.keras.Model = gunung_model\n",
        "    self.rating_model = tf.keras.Sequential(\n",
        "        [\n",
        "            tf.keras.layers.Dense(256, activation='relu'),\n",
        "            tf.keras.layers.Dense(64, activation='relu'),\n",
        "            tf.keras.layers.Dense(1)\n",
        "        ]\n",
        "    )\n",
        "    self.ranking_task_layer: tf.keras.layers.Layer = tfrs.tasks.Ranking(\n",
        "        loss=tf.keras.losses.MeanSquaredError(),\n",
        "        metrics=[\n",
        "            tf.keras.metrics.RootMeanSquaredError()\n",
        "        ]\n",
        "    )\n",
        "\n",
        "  def compute_loss(self, features, training=False) -> tf.Tensor:\n",
        "    query_embeddings = self.query_model(features['user_id'])\n",
        "    candidate_embeddings = self.candidate_model(features['mount_name'])\n",
        "    rating_predictions = self.rating_model(\n",
        "        tf.concat(\n",
        "            [query_embeddings, candidate_embeddings],\n",
        "            axis=1\n",
        "        )\n",
        "        # We could use `tf.keras.layers.Concatenate(axis=1)([x, y])`\n",
        "    )\n",
        "\n",
        "    loss = self.ranking_task_layer(\n",
        "        predictions=rating_predictions,\n",
        "        labels=features[\"rating\"]\n",
        "    )\n",
        "    return loss"
      ]
    },
    {
      "cell_type": "code",
      "execution_count": null,
      "metadata": {
        "id": "CRQooM3gGlgQ"
      },
      "outputs": [],
      "source": [
        "\n",
        "movielens_ranking_model = RankingModel(user_model, gunung_model)\n",
        "\n",
        "optimizer_step_size = 0.1\n",
        "movielens_ranking_model.compile(\n",
        "    optimizer=tf.keras.optimizers.Adagrad(\n",
        "        learning_rate=optimizer_step_size\n",
        "    )\n",
        ")"
      ]
    },
    {
      "cell_type": "code",
      "execution_count": null,
      "metadata": {
        "colab": {
          "base_uri": "https://localhost:8080/"
        },
        "id": "rGfEo1k5Grt8",
        "outputId": "38adce3f-9e75-4ef3-8520-009f6d93bc4a"
      },
      "outputs": [
        {
          "name": "stdout",
          "output_type": "stream",
          "text": [
            "Epoch 1/10\n",
            "1/1 [==============================] - 1s 751ms/step - root_mean_squared_error: 3.0359 - loss: 9.2166 - regularization_loss: 0.0000e+00 - total_loss: 9.2166 - val_root_mean_squared_error: 2.9378 - val_loss: 8.6305 - val_regularization_loss: 0.0000e+00 - val_total_loss: 8.6305\n",
            "Epoch 2/10\n",
            "1/1 [==============================] - 0s 125ms/step - root_mean_squared_error: 2.8583 - loss: 8.1699 - regularization_loss: 0.0000e+00 - total_loss: 8.1699 - val_root_mean_squared_error: 2.6097 - val_loss: 6.8106 - val_regularization_loss: 0.0000e+00 - val_total_loss: 6.8106\n",
            "Epoch 3/10\n",
            "1/1 [==============================] - 0s 120ms/step - root_mean_squared_error: 2.5195 - loss: 6.3479 - regularization_loss: 0.0000e+00 - total_loss: 6.3479 - val_root_mean_squared_error: 2.0278 - val_loss: 4.1120 - val_regularization_loss: 0.0000e+00 - val_total_loss: 4.1120\n",
            "Epoch 4/10\n",
            "1/1 [==============================] - 0s 141ms/step - root_mean_squared_error: 1.9343 - loss: 3.7413 - regularization_loss: 0.0000e+00 - total_loss: 3.7413 - val_root_mean_squared_error: 1.5586 - val_loss: 2.4294 - val_regularization_loss: 0.0000e+00 - val_total_loss: 2.4294\n",
            "Epoch 5/10\n",
            "1/1 [==============================] - 0s 118ms/step - root_mean_squared_error: 1.5538 - loss: 2.4141 - regularization_loss: 0.0000e+00 - total_loss: 2.4141 - val_root_mean_squared_error: 1.5116 - val_loss: 2.2850 - val_regularization_loss: 0.0000e+00 - val_total_loss: 2.2850\n",
            "Epoch 6/10\n",
            "1/1 [==============================] - 0s 129ms/step - root_mean_squared_error: 1.4724 - loss: 2.1678 - regularization_loss: 0.0000e+00 - total_loss: 2.1678 - val_root_mean_squared_error: 1.4499 - val_loss: 2.1022 - val_regularization_loss: 0.0000e+00 - val_total_loss: 2.1022\n",
            "Epoch 7/10\n",
            "1/1 [==============================] - 0s 135ms/step - root_mean_squared_error: 1.4486 - loss: 2.0985 - regularization_loss: 0.0000e+00 - total_loss: 2.0985 - val_root_mean_squared_error: 1.4793 - val_loss: 2.1883 - val_regularization_loss: 0.0000e+00 - val_total_loss: 2.1883\n",
            "Epoch 8/10\n",
            "1/1 [==============================] - 0s 84ms/step - root_mean_squared_error: 1.4398 - loss: 2.0732 - regularization_loss: 0.0000e+00 - total_loss: 2.0732 - val_root_mean_squared_error: 1.4426 - val_loss: 2.0810 - val_regularization_loss: 0.0000e+00 - val_total_loss: 2.0810\n",
            "Epoch 9/10\n",
            "1/1 [==============================] - 0s 118ms/step - root_mean_squared_error: 1.4313 - loss: 2.0487 - regularization_loss: 0.0000e+00 - total_loss: 2.0487 - val_root_mean_squared_error: 1.4651 - val_loss: 2.1466 - val_regularization_loss: 0.0000e+00 - val_total_loss: 2.1466\n",
            "Epoch 10/10\n",
            "1/1 [==============================] - 0s 89ms/step - root_mean_squared_error: 1.4268 - loss: 2.0357 - regularization_loss: 0.0000e+00 - total_loss: 2.0357 - val_root_mean_squared_error: 1.4389 - val_loss: 2.0703 - val_regularization_loss: 0.0000e+00 - val_total_loss: 2.0703\n"
          ]
        }
      ],
      "source": [
        "ranking_ratings_trainset = rank_ratings_trainset.shuffle(100_000).batch(8192).cache()\n",
        "ranking_ratings_testset = rank_ratings_testset.batch(4096).cache()\n",
        "\n",
        "history = movielens_ranking_model.fit(\n",
        "    ranking_ratings_trainset,\n",
        "    validation_data=ranking_ratings_testset,\n",
        "    validation_freq=1,\n",
        "    epochs=10\n",
        ")"
      ]
    },
    {
      "cell_type": "code",
      "execution_count": null,
      "metadata": {
        "colab": {
          "base_uri": "https://localhost:8080/",
          "height": 472
        },
        "id": "GWdxoUyjMgVE",
        "outputId": "9ac7ecf4-930a-4167-e549-61b9129ee815"
      },
      "outputs": [
        {
          "data": {
            "image/png": "[encoded data removed]",
            "text/plain": [
              "<Figure size 640x480 with 1 Axes>"
            ]
          },
          "metadata": {},
          "output_type": "display_data"
        }
      ],
      "source": [
        "# Plot changes in model loss during training\n",
        "plt.plot(history.history[\"loss\"])\n",
        "plt.plot(history.history[\"val_loss\"])\n",
        "plt.title(\"Model losses during training\")\n",
        "plt.xlabel(\"epoch\")\n",
        "plt.ylabel(\"loss\")\n",
        "plt.legend([\"train\", \"test\"], loc=\"upper right\")\n",
        "plt.show()"
      ]
    }
  ],
  "metadata": {
    "colab": {
      "provenance": []
    },
    "kernelspec": {
      "display_name": "Python 3",
      "name": "python3"
    },
    "language_info": {
      "name": "python"
    }
  },
  "nbformat": 4,
  "nbformat_minor": 0
}