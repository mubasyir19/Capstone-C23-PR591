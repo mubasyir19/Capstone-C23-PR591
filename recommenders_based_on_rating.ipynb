{
  "nbformat": 4,
  "nbformat_minor": 0,
  "metadata": {
    "colab": {
      "provenance": []
    },
    "kernelspec": {
      "name": "python3",
      "display_name": "Python 3"
    },
    "language_info": {
      "name": "python"
    }
  },
  "cells": [
    {
      "cell_type": "code",
      "execution_count": 1,
      "metadata": {
        "id": "uw-2w1jxHiBA"
      },
      "outputs": [],
      "source": [
        "import numpy as np\n",
        "import pandas as pd"
      ]
    },
    {
      "cell_type": "code",
      "source": [
        "from google.colab import drive\n",
        "drive.mount('/content/drive')"
      ],
      "metadata": {
        "colab": {
          "base_uri": "https://localhost:8080/"
        },
        "id": "1oCH86G1Rupa",
        "outputId": "6f36112a-f311-46a9-b7ad-3ad127f3b7c8"
      },
      "execution_count": 2,
      "outputs": [
        {
          "output_type": "stream",
          "name": "stdout",
          "text": [
            "Drive already mounted at /content/drive; to attempt to forcibly remount, call drive.mount(\"/content/drive\", force_remount=True).\n"
          ]
        }
      ]
    },
    {
      "cell_type": "code",
      "source": [
        "df_gunung = pd.read_csv('/content/drive/My Drive/dataset/datagunung_lvl.csv',delimiter=',')\n",
        "df_gunung = df_gunung.rename(columns={\"Id\": \"mountain_id\"})\n",
        "df_gunung.head()"
      ],
      "metadata": {
        "id": "HTPq8c1hI6GV",
        "colab": {
          "base_uri": "https://localhost:8080/",
          "height": 206
        },
        "outputId": "ebc9cf5d-1e95-46c1-bb89-8a6e3731c23b"
      },
      "execution_count": 105,
      "outputs": [
        {
          "output_type": "execute_result",
          "data": {
            "text/plain": [
              "   mountain_id     Daerah             Nama_Gunung  Ketinggian   \\\n",
              "0          101  Jawa barat          Gunung Cermai        3,078   \n",
              "1          102  Jawa barat          Gunung Puntang       2,223   \n",
              "2          103  Jawa barat      Gunung Papandayan        2,666   \n",
              "3          104  Jawa barat  Gunung Gede Pangrango        2,958   \n",
              "4          105  Jawa barat        Gunung Pangrango       3,019   \n",
              "\n",
              "                               Lokasi            Trek  \\\n",
              "0  Kuningan, Majalengka, dan Cirebon.    Tanah Kering   \n",
              "1                         Kab. Bandung   Tanah kering   \n",
              "2                          Kab. Garut.      bebatuan    \n",
              "3                                Bogor  Tangga Buatan   \n",
              "4                              Cibodas   Akar Pohon     \n",
              "\n",
              "                                          Jalur  Simaksi   Level  \n",
              "0  Jalur Apuy, Linggarjati dan Jalur Palutungan  Rp30.000      1  \n",
              "1                                             -  Rp40.000      1  \n",
              "2                                             -  Rp60.000      1  \n",
              "3                Jalur Cibodas dan Jalur Putri   Rp75.000      1  \n",
              "4                                 Jalur Cibodas  Rp75.000      2  "
            ],
            "text/html": [
              "\n",
              "  <div id=\"df-c295b94e-633f-43f0-9dc5-9293d027cd75\">\n",
              "    <div class=\"colab-df-container\">\n",
              "      <div>\n",
              "<style scoped>\n",
              "    .dataframe tbody tr th:only-of-type {\n",
              "        vertical-align: middle;\n",
              "    }\n",
              "\n",
              "    .dataframe tbody tr th {\n",
              "        vertical-align: top;\n",
              "    }\n",
              "\n",
              "    .dataframe thead th {\n",
              "        text-align: right;\n",
              "    }\n",
              "</style>\n",
              "<table border=\"1\" class=\"dataframe\">\n",
              "  <thead>\n",
              "    <tr style=\"text-align: right;\">\n",
              "      <th></th>\n",
              "      <th>mountain_id</th>\n",
              "      <th>Daerah</th>\n",
              "      <th>Nama_Gunung</th>\n",
              "      <th>Ketinggian</th>\n",
              "      <th>Lokasi</th>\n",
              "      <th>Trek</th>\n",
              "      <th>Jalur</th>\n",
              "      <th>Simaksi</th>\n",
              "      <th>Level</th>\n",
              "    </tr>\n",
              "  </thead>\n",
              "  <tbody>\n",
              "    <tr>\n",
              "      <th>0</th>\n",
              "      <td>101</td>\n",
              "      <td>Jawa barat</td>\n",
              "      <td>Gunung Cermai</td>\n",
              "      <td>3,078</td>\n",
              "      <td>Kuningan, Majalengka, dan Cirebon.</td>\n",
              "      <td>Tanah Kering</td>\n",
              "      <td>Jalur Apuy, Linggarjati dan Jalur Palutungan</td>\n",
              "      <td>Rp30.000</td>\n",
              "      <td>1</td>\n",
              "    </tr>\n",
              "    <tr>\n",
              "      <th>1</th>\n",
              "      <td>102</td>\n",
              "      <td>Jawa barat</td>\n",
              "      <td>Gunung Puntang</td>\n",
              "      <td>2,223</td>\n",
              "      <td>Kab. Bandung</td>\n",
              "      <td>Tanah kering</td>\n",
              "      <td>-</td>\n",
              "      <td>Rp40.000</td>\n",
              "      <td>1</td>\n",
              "    </tr>\n",
              "    <tr>\n",
              "      <th>2</th>\n",
              "      <td>103</td>\n",
              "      <td>Jawa barat</td>\n",
              "      <td>Gunung Papandayan</td>\n",
              "      <td>2,666</td>\n",
              "      <td>Kab. Garut.</td>\n",
              "      <td>bebatuan</td>\n",
              "      <td>-</td>\n",
              "      <td>Rp60.000</td>\n",
              "      <td>1</td>\n",
              "    </tr>\n",
              "    <tr>\n",
              "      <th>3</th>\n",
              "      <td>104</td>\n",
              "      <td>Jawa barat</td>\n",
              "      <td>Gunung Gede Pangrango</td>\n",
              "      <td>2,958</td>\n",
              "      <td>Bogor</td>\n",
              "      <td>Tangga Buatan</td>\n",
              "      <td>Jalur Cibodas dan Jalur Putri</td>\n",
              "      <td>Rp75.000</td>\n",
              "      <td>1</td>\n",
              "    </tr>\n",
              "    <tr>\n",
              "      <th>4</th>\n",
              "      <td>105</td>\n",
              "      <td>Jawa barat</td>\n",
              "      <td>Gunung Pangrango</td>\n",
              "      <td>3,019</td>\n",
              "      <td>Cibodas</td>\n",
              "      <td>Akar Pohon</td>\n",
              "      <td>Jalur Cibodas</td>\n",
              "      <td>Rp75.000</td>\n",
              "      <td>2</td>\n",
              "    </tr>\n",
              "  </tbody>\n",
              "</table>\n",
              "</div>\n",
              "      <button class=\"colab-df-convert\" onclick=\"convertToInteractive('df-c295b94e-633f-43f0-9dc5-9293d027cd75')\"\n",
              "              title=\"Convert this dataframe to an interactive table.\"\n",
              "              style=\"display:none;\">\n",
              "        \n",
              "  <svg xmlns=\"http://www.w3.org/2000/svg\" height=\"24px\"viewBox=\"0 0 24 24\"\n",
              "       width=\"24px\">\n",
              "    <path d=\"M0 0h24v24H0V0z\" fill=\"none\"/>\n",
              "    <path d=\"M18.56 5.44l.94 2.06.94-2.06 2.06-.94-2.06-.94-.94-2.06-.94 2.06-2.06.94zm-11 1L8.5 8.5l.94-2.06 2.06-.94-2.06-.94L8.5 2.5l-.94 2.06-2.06.94zm10 10l.94 2.06.94-2.06 2.06-.94-2.06-.94-.94-2.06-.94 2.06-2.06.94z\"/><path d=\"M17.41 7.96l-1.37-1.37c-.4-.4-.92-.59-1.43-.59-.52 0-1.04.2-1.43.59L10.3 9.45l-7.72 7.72c-.78.78-.78 2.05 0 2.83L4 21.41c.39.39.9.59 1.41.59.51 0 1.02-.2 1.41-.59l7.78-7.78 2.81-2.81c.8-.78.8-2.07 0-2.86zM5.41 20L4 18.59l7.72-7.72 1.47 1.35L5.41 20z\"/>\n",
              "  </svg>\n",
              "      </button>\n",
              "      \n",
              "  <style>\n",
              "    .colab-df-container {\n",
              "      display:flex;\n",
              "      flex-wrap:wrap;\n",
              "      gap: 12px;\n",
              "    }\n",
              "\n",
              "    .colab-df-convert {\n",
              "      background-color: #E8F0FE;\n",
              "      border: none;\n",
              "      border-radius: 50%;\n",
              "      cursor: pointer;\n",
              "      display: none;\n",
              "      fill: #1967D2;\n",
              "      height: 32px;\n",
              "      padding: 0 0 0 0;\n",
              "      width: 32px;\n",
              "    }\n",
              "\n",
              "    .colab-df-convert:hover {\n",
              "      background-color: #E2EBFA;\n",
              "      box-shadow: 0px 1px 2px rgba(60, 64, 67, 0.3), 0px 1px 3px 1px rgba(60, 64, 67, 0.15);\n",
              "      fill: #174EA6;\n",
              "    }\n",
              "\n",
              "    [theme=dark] .colab-df-convert {\n",
              "      background-color: #3B4455;\n",
              "      fill: #D2E3FC;\n",
              "    }\n",
              "\n",
              "    [theme=dark] .colab-df-convert:hover {\n",
              "      background-color: #434B5C;\n",
              "      box-shadow: 0px 1px 3px 1px rgba(0, 0, 0, 0.15);\n",
              "      filter: drop-shadow(0px 1px 2px rgba(0, 0, 0, 0.3));\n",
              "      fill: #FFFFFF;\n",
              "    }\n",
              "  </style>\n",
              "\n",
              "      <script>\n",
              "        const buttonEl =\n",
              "          document.querySelector('#df-c295b94e-633f-43f0-9dc5-9293d027cd75 button.colab-df-convert');\n",
              "        buttonEl.style.display =\n",
              "          google.colab.kernel.accessAllowed ? 'block' : 'none';\n",
              "\n",
              "        async function convertToInteractive(key) {\n",
              "          const element = document.querySelector('#df-c295b94e-633f-43f0-9dc5-9293d027cd75');\n",
              "          const dataTable =\n",
              "            await google.colab.kernel.invokeFunction('convertToInteractive',\n",
              "                                                     [key], {});\n",
              "          if (!dataTable) return;\n",
              "\n",
              "          const docLinkHtml = 'Like what you see? Visit the ' +\n",
              "            '<a target=\"_blank\" href=https://colab.research.google.com/notebooks/data_table.ipynb>data table notebook</a>'\n",
              "            + ' to learn more about interactive tables.';\n",
              "          element.innerHTML = '';\n",
              "          dataTable['output_type'] = 'display_data';\n",
              "          await google.colab.output.renderOutput(dataTable, element);\n",
              "          const docLink = document.createElement('div');\n",
              "          docLink.innerHTML = docLinkHtml;\n",
              "          element.appendChild(docLink);\n",
              "        }\n",
              "      </script>\n",
              "    </div>\n",
              "  </div>\n",
              "  "
            ]
          },
          "metadata": {},
          "execution_count": 105
        }
      ]
    },
    {
      "cell_type": "code",
      "source": [
        "df_gunung.shape"
      ],
      "metadata": {
        "colab": {
          "base_uri": "https://localhost:8080/"
        },
        "id": "siydG1HsJiY-",
        "outputId": "3c825248-9d7c-4dd7-ee84-5a0e203835a5"
      },
      "execution_count": 4,
      "outputs": [
        {
          "output_type": "execute_result",
          "data": {
            "text/plain": [
              "(17, 9)"
            ]
          },
          "metadata": {},
          "execution_count": 4
        }
      ]
    },
    {
      "cell_type": "code",
      "source": [
        "df_user = pd.read_csv('/content/drive/My Drive/dataset/MOCK_DATA.csv',delimiter=',')\n",
        "df_user.head()"
      ],
      "metadata": {
        "id": "wWPkrehxJqcR",
        "colab": {
          "base_uri": "https://localhost:8080/",
          "height": 206
        },
        "outputId": "14df6b3a-5d8c-457b-a7e7-261cd92678e9"
      },
      "execution_count": 5,
      "outputs": [
        {
          "output_type": "execute_result",
          "data": {
            "text/plain": [
              "   Id                 Nama                         Email      Password  \\\n",
              "0   1  Harcourt Leppington    hleppington0@reference.com        Zjvy1t   \n",
              "1   2         Cristi Weeds     cweeds1@blogtalkradio.com     GRjASvqhv   \n",
              "2   3        Thorny Gidden  tgidden2@acquirethisname.com  hTBgDny2C2p7   \n",
              "3   4     Thibaut Spurdens       tspurdens3@omniture.com     aUz4mmfRq   \n",
              "4   5      Cristionna Gaul            cgaul4@storify.com       5dU6hdn   \n",
              "\n",
              "     Domisili Jenis Kelamin  Umur  Pengalaman  \n",
              "0  Yogyakarta     Perempuan    24          12  \n",
              "1     Cilacap     Laki-laki    18           5  \n",
              "2    Semarang     Perempuan    48           9  \n",
              "3     Cilacap     Perempuan    54          10  \n",
              "4      Malang     Laki-laki    61          18  "
            ],
            "text/html": [
              "\n",
              "  <div id=\"df-bd07d712-1dd0-445f-adcc-6556392d9837\">\n",
              "    <div class=\"colab-df-container\">\n",
              "      <div>\n",
              "<style scoped>\n",
              "    .dataframe tbody tr th:only-of-type {\n",
              "        vertical-align: middle;\n",
              "    }\n",
              "\n",
              "    .dataframe tbody tr th {\n",
              "        vertical-align: top;\n",
              "    }\n",
              "\n",
              "    .dataframe thead th {\n",
              "        text-align: right;\n",
              "    }\n",
              "</style>\n",
              "<table border=\"1\" class=\"dataframe\">\n",
              "  <thead>\n",
              "    <tr style=\"text-align: right;\">\n",
              "      <th></th>\n",
              "      <th>Id</th>\n",
              "      <th>Nama</th>\n",
              "      <th>Email</th>\n",
              "      <th>Password</th>\n",
              "      <th>Domisili</th>\n",
              "      <th>Jenis Kelamin</th>\n",
              "      <th>Umur</th>\n",
              "      <th>Pengalaman</th>\n",
              "    </tr>\n",
              "  </thead>\n",
              "  <tbody>\n",
              "    <tr>\n",
              "      <th>0</th>\n",
              "      <td>1</td>\n",
              "      <td>Harcourt Leppington</td>\n",
              "      <td>hleppington0@reference.com</td>\n",
              "      <td>Zjvy1t</td>\n",
              "      <td>Yogyakarta</td>\n",
              "      <td>Perempuan</td>\n",
              "      <td>24</td>\n",
              "      <td>12</td>\n",
              "    </tr>\n",
              "    <tr>\n",
              "      <th>1</th>\n",
              "      <td>2</td>\n",
              "      <td>Cristi Weeds</td>\n",
              "      <td>cweeds1@blogtalkradio.com</td>\n",
              "      <td>GRjASvqhv</td>\n",
              "      <td>Cilacap</td>\n",
              "      <td>Laki-laki</td>\n",
              "      <td>18</td>\n",
              "      <td>5</td>\n",
              "    </tr>\n",
              "    <tr>\n",
              "      <th>2</th>\n",
              "      <td>3</td>\n",
              "      <td>Thorny Gidden</td>\n",
              "      <td>tgidden2@acquirethisname.com</td>\n",
              "      <td>hTBgDny2C2p7</td>\n",
              "      <td>Semarang</td>\n",
              "      <td>Perempuan</td>\n",
              "      <td>48</td>\n",
              "      <td>9</td>\n",
              "    </tr>\n",
              "    <tr>\n",
              "      <th>3</th>\n",
              "      <td>4</td>\n",
              "      <td>Thibaut Spurdens</td>\n",
              "      <td>tspurdens3@omniture.com</td>\n",
              "      <td>aUz4mmfRq</td>\n",
              "      <td>Cilacap</td>\n",
              "      <td>Perempuan</td>\n",
              "      <td>54</td>\n",
              "      <td>10</td>\n",
              "    </tr>\n",
              "    <tr>\n",
              "      <th>4</th>\n",
              "      <td>5</td>\n",
              "      <td>Cristionna Gaul</td>\n",
              "      <td>cgaul4@storify.com</td>\n",
              "      <td>5dU6hdn</td>\n",
              "      <td>Malang</td>\n",
              "      <td>Laki-laki</td>\n",
              "      <td>61</td>\n",
              "      <td>18</td>\n",
              "    </tr>\n",
              "  </tbody>\n",
              "</table>\n",
              "</div>\n",
              "      <button class=\"colab-df-convert\" onclick=\"convertToInteractive('df-bd07d712-1dd0-445f-adcc-6556392d9837')\"\n",
              "              title=\"Convert this dataframe to an interactive table.\"\n",
              "              style=\"display:none;\">\n",
              "        \n",
              "  <svg xmlns=\"http://www.w3.org/2000/svg\" height=\"24px\"viewBox=\"0 0 24 24\"\n",
              "       width=\"24px\">\n",
              "    <path d=\"M0 0h24v24H0V0z\" fill=\"none\"/>\n",
              "    <path d=\"M18.56 5.44l.94 2.06.94-2.06 2.06-.94-2.06-.94-.94-2.06-.94 2.06-2.06.94zm-11 1L8.5 8.5l.94-2.06 2.06-.94-2.06-.94L8.5 2.5l-.94 2.06-2.06.94zm10 10l.94 2.06.94-2.06 2.06-.94-2.06-.94-.94-2.06-.94 2.06-2.06.94z\"/><path d=\"M17.41 7.96l-1.37-1.37c-.4-.4-.92-.59-1.43-.59-.52 0-1.04.2-1.43.59L10.3 9.45l-7.72 7.72c-.78.78-.78 2.05 0 2.83L4 21.41c.39.39.9.59 1.41.59.51 0 1.02-.2 1.41-.59l7.78-7.78 2.81-2.81c.8-.78.8-2.07 0-2.86zM5.41 20L4 18.59l7.72-7.72 1.47 1.35L5.41 20z\"/>\n",
              "  </svg>\n",
              "      </button>\n",
              "      \n",
              "  <style>\n",
              "    .colab-df-container {\n",
              "      display:flex;\n",
              "      flex-wrap:wrap;\n",
              "      gap: 12px;\n",
              "    }\n",
              "\n",
              "    .colab-df-convert {\n",
              "      background-color: #E8F0FE;\n",
              "      border: none;\n",
              "      border-radius: 50%;\n",
              "      cursor: pointer;\n",
              "      display: none;\n",
              "      fill: #1967D2;\n",
              "      height: 32px;\n",
              "      padding: 0 0 0 0;\n",
              "      width: 32px;\n",
              "    }\n",
              "\n",
              "    .colab-df-convert:hover {\n",
              "      background-color: #E2EBFA;\n",
              "      box-shadow: 0px 1px 2px rgba(60, 64, 67, 0.3), 0px 1px 3px 1px rgba(60, 64, 67, 0.15);\n",
              "      fill: #174EA6;\n",
              "    }\n",
              "\n",
              "    [theme=dark] .colab-df-convert {\n",
              "      background-color: #3B4455;\n",
              "      fill: #D2E3FC;\n",
              "    }\n",
              "\n",
              "    [theme=dark] .colab-df-convert:hover {\n",
              "      background-color: #434B5C;\n",
              "      box-shadow: 0px 1px 3px 1px rgba(0, 0, 0, 0.15);\n",
              "      filter: drop-shadow(0px 1px 2px rgba(0, 0, 0, 0.3));\n",
              "      fill: #FFFFFF;\n",
              "    }\n",
              "  </style>\n",
              "\n",
              "      <script>\n",
              "        const buttonEl =\n",
              "          document.querySelector('#df-bd07d712-1dd0-445f-adcc-6556392d9837 button.colab-df-convert');\n",
              "        buttonEl.style.display =\n",
              "          google.colab.kernel.accessAllowed ? 'block' : 'none';\n",
              "\n",
              "        async function convertToInteractive(key) {\n",
              "          const element = document.querySelector('#df-bd07d712-1dd0-445f-adcc-6556392d9837');\n",
              "          const dataTable =\n",
              "            await google.colab.kernel.invokeFunction('convertToInteractive',\n",
              "                                                     [key], {});\n",
              "          if (!dataTable) return;\n",
              "\n",
              "          const docLinkHtml = 'Like what you see? Visit the ' +\n",
              "            '<a target=\"_blank\" href=https://colab.research.google.com/notebooks/data_table.ipynb>data table notebook</a>'\n",
              "            + ' to learn more about interactive tables.';\n",
              "          element.innerHTML = '';\n",
              "          dataTable['output_type'] = 'display_data';\n",
              "          await google.colab.output.renderOutput(dataTable, element);\n",
              "          const docLink = document.createElement('div');\n",
              "          docLink.innerHTML = docLinkHtml;\n",
              "          element.appendChild(docLink);\n",
              "        }\n",
              "      </script>\n",
              "    </div>\n",
              "  </div>\n",
              "  "
            ]
          },
          "metadata": {},
          "execution_count": 5
        }
      ]
    },
    {
      "cell_type": "code",
      "source": [
        "df_rating = pd.read_csv('/content/drive/My Drive/dataset/rating_data.csv',delimiter=',')\n",
        "df_rating['mountain_id'] = df_rating['mountain_id']+100 \n",
        "df_rating.head()"
      ],
      "metadata": {
        "id": "B5jrtZ9eJNma",
        "colab": {
          "base_uri": "https://localhost:8080/",
          "height": 206
        },
        "outputId": "13d76419-3f11-4c33-9f3d-8e110095d96b"
      },
      "execution_count": 106,
      "outputs": [
        {
          "output_type": "execute_result",
          "data": {
            "text/plain": [
              "   user_id  mountain_id  rating\n",
              "0      284          113       2\n",
              "1       33          111       5\n",
              "2      167          108       1\n",
              "3      623          105       5\n",
              "4      378          110       1"
            ],
            "text/html": [
              "\n",
              "  <div id=\"df-cedc4d14-ab18-4d09-bf78-ad044eab4d16\">\n",
              "    <div class=\"colab-df-container\">\n",
              "      <div>\n",
              "<style scoped>\n",
              "    .dataframe tbody tr th:only-of-type {\n",
              "        vertical-align: middle;\n",
              "    }\n",
              "\n",
              "    .dataframe tbody tr th {\n",
              "        vertical-align: top;\n",
              "    }\n",
              "\n",
              "    .dataframe thead th {\n",
              "        text-align: right;\n",
              "    }\n",
              "</style>\n",
              "<table border=\"1\" class=\"dataframe\">\n",
              "  <thead>\n",
              "    <tr style=\"text-align: right;\">\n",
              "      <th></th>\n",
              "      <th>user_id</th>\n",
              "      <th>mountain_id</th>\n",
              "      <th>rating</th>\n",
              "    </tr>\n",
              "  </thead>\n",
              "  <tbody>\n",
              "    <tr>\n",
              "      <th>0</th>\n",
              "      <td>284</td>\n",
              "      <td>113</td>\n",
              "      <td>2</td>\n",
              "    </tr>\n",
              "    <tr>\n",
              "      <th>1</th>\n",
              "      <td>33</td>\n",
              "      <td>111</td>\n",
              "      <td>5</td>\n",
              "    </tr>\n",
              "    <tr>\n",
              "      <th>2</th>\n",
              "      <td>167</td>\n",
              "      <td>108</td>\n",
              "      <td>1</td>\n",
              "    </tr>\n",
              "    <tr>\n",
              "      <th>3</th>\n",
              "      <td>623</td>\n",
              "      <td>105</td>\n",
              "      <td>5</td>\n",
              "    </tr>\n",
              "    <tr>\n",
              "      <th>4</th>\n",
              "      <td>378</td>\n",
              "      <td>110</td>\n",
              "      <td>1</td>\n",
              "    </tr>\n",
              "  </tbody>\n",
              "</table>\n",
              "</div>\n",
              "      <button class=\"colab-df-convert\" onclick=\"convertToInteractive('df-cedc4d14-ab18-4d09-bf78-ad044eab4d16')\"\n",
              "              title=\"Convert this dataframe to an interactive table.\"\n",
              "              style=\"display:none;\">\n",
              "        \n",
              "  <svg xmlns=\"http://www.w3.org/2000/svg\" height=\"24px\"viewBox=\"0 0 24 24\"\n",
              "       width=\"24px\">\n",
              "    <path d=\"M0 0h24v24H0V0z\" fill=\"none\"/>\n",
              "    <path d=\"M18.56 5.44l.94 2.06.94-2.06 2.06-.94-2.06-.94-.94-2.06-.94 2.06-2.06.94zm-11 1L8.5 8.5l.94-2.06 2.06-.94-2.06-.94L8.5 2.5l-.94 2.06-2.06.94zm10 10l.94 2.06.94-2.06 2.06-.94-2.06-.94-.94-2.06-.94 2.06-2.06.94z\"/><path d=\"M17.41 7.96l-1.37-1.37c-.4-.4-.92-.59-1.43-.59-.52 0-1.04.2-1.43.59L10.3 9.45l-7.72 7.72c-.78.78-.78 2.05 0 2.83L4 21.41c.39.39.9.59 1.41.59.51 0 1.02-.2 1.41-.59l7.78-7.78 2.81-2.81c.8-.78.8-2.07 0-2.86zM5.41 20L4 18.59l7.72-7.72 1.47 1.35L5.41 20z\"/>\n",
              "  </svg>\n",
              "      </button>\n",
              "      \n",
              "  <style>\n",
              "    .colab-df-container {\n",
              "      display:flex;\n",
              "      flex-wrap:wrap;\n",
              "      gap: 12px;\n",
              "    }\n",
              "\n",
              "    .colab-df-convert {\n",
              "      background-color: #E8F0FE;\n",
              "      border: none;\n",
              "      border-radius: 50%;\n",
              "      cursor: pointer;\n",
              "      display: none;\n",
              "      fill: #1967D2;\n",
              "      height: 32px;\n",
              "      padding: 0 0 0 0;\n",
              "      width: 32px;\n",
              "    }\n",
              "\n",
              "    .colab-df-convert:hover {\n",
              "      background-color: #E2EBFA;\n",
              "      box-shadow: 0px 1px 2px rgba(60, 64, 67, 0.3), 0px 1px 3px 1px rgba(60, 64, 67, 0.15);\n",
              "      fill: #174EA6;\n",
              "    }\n",
              "\n",
              "    [theme=dark] .colab-df-convert {\n",
              "      background-color: #3B4455;\n",
              "      fill: #D2E3FC;\n",
              "    }\n",
              "\n",
              "    [theme=dark] .colab-df-convert:hover {\n",
              "      background-color: #434B5C;\n",
              "      box-shadow: 0px 1px 3px 1px rgba(0, 0, 0, 0.15);\n",
              "      filter: drop-shadow(0px 1px 2px rgba(0, 0, 0, 0.3));\n",
              "      fill: #FFFFFF;\n",
              "    }\n",
              "  </style>\n",
              "\n",
              "      <script>\n",
              "        const buttonEl =\n",
              "          document.querySelector('#df-cedc4d14-ab18-4d09-bf78-ad044eab4d16 button.colab-df-convert');\n",
              "        buttonEl.style.display =\n",
              "          google.colab.kernel.accessAllowed ? 'block' : 'none';\n",
              "\n",
              "        async function convertToInteractive(key) {\n",
              "          const element = document.querySelector('#df-cedc4d14-ab18-4d09-bf78-ad044eab4d16');\n",
              "          const dataTable =\n",
              "            await google.colab.kernel.invokeFunction('convertToInteractive',\n",
              "                                                     [key], {});\n",
              "          if (!dataTable) return;\n",
              "\n",
              "          const docLinkHtml = 'Like what you see? Visit the ' +\n",
              "            '<a target=\"_blank\" href=https://colab.research.google.com/notebooks/data_table.ipynb>data table notebook</a>'\n",
              "            + ' to learn more about interactive tables.';\n",
              "          element.innerHTML = '';\n",
              "          dataTable['output_type'] = 'display_data';\n",
              "          await google.colab.output.renderOutput(dataTable, element);\n",
              "          const docLink = document.createElement('div');\n",
              "          docLink.innerHTML = docLinkHtml;\n",
              "          element.appendChild(docLink);\n",
              "        }\n",
              "      </script>\n",
              "    </div>\n",
              "  </div>\n",
              "  "
            ]
          },
          "metadata": {},
          "execution_count": 106
        }
      ]
    },
    {
      "cell_type": "code",
      "source": [
        "mountain_id = df_rating['mountain_id']\n",
        "# List of conditions\n",
        "conditions = [\n",
        "    (mountain_id == 101),\n",
        "    (mountain_id == 102),\n",
        "    (mountain_id == 103),\n",
        "    (mountain_id == 104),\n",
        "    (mountain_id == 105),\n",
        "    (mountain_id == 106),\n",
        "    (mountain_id == 107),\n",
        "    (mountain_id == 108),\n",
        "    (mountain_id == 109),\n",
        "    (mountain_id == 110),\n",
        "    (mountain_id == 111),\n",
        "    (mountain_id == 112),\n",
        "    (mountain_id == 113),\n",
        "    (mountain_id == 114),\n",
        "    (mountain_id == 115),\n",
        "    (mountain_id == 116),\n",
        "    (mountain_id == 117)]\n",
        "# List of values to return\n",
        "choices  = [\n",
        "    \"Gunung Cermai\",\n",
        "    \"Gunung Puntang\",\n",
        "    \"Gunung Papandayan\",\n",
        "    \"Gunung Gede\",\n",
        "    \"Gunung Pangrango\",\n",
        "    \"Gunung Cikuray\",\n",
        "    \"Gunung Prau\",\n",
        "    \"Gunung Merbabu\",\n",
        "    \"Gunung Sindoro\",\n",
        "    \"Gunung Slamet\",\n",
        "    \"Gunung Sumbing\",\n",
        "    \"Gunung Arjuno\",\n",
        "    \"Gunung Argopuro\",\n",
        "    \"Gunung Lawu\",\n",
        "    \"Gunung Semeru\",\n",
        "    \"Gunung Raung\",\n",
        "    \"Gunung Panderman\",\n",
        "    \n",
        "]\n",
        "# create a new column in the DF based on the conditions\n",
        "df_rating.insert(2, 'mount_name', np.select(conditions, choices, \"ERROR\")) "
      ],
      "metadata": {
        "id": "ApNDvzMpDe0t"
      },
      "execution_count": 107,
      "outputs": []
    },
    {
      "cell_type": "code",
      "source": [
        "mountain_id = df_rating['mountain_id']\n",
        "# List of conditions\n",
        "conditions = [\n",
        "    (mountain_id == 101),\n",
        "    (mountain_id == 102),\n",
        "    (mountain_id == 103),\n",
        "    (mountain_id == 104),\n",
        "    (mountain_id == 105),\n",
        "    (mountain_id == 106),\n",
        "    (mountain_id == 107),\n",
        "    (mountain_id == 108),\n",
        "    (mountain_id == 109),\n",
        "    (mountain_id == 110),\n",
        "    (mountain_id == 111),\n",
        "    (mountain_id == 112),\n",
        "    (mountain_id == 113),\n",
        "    (mountain_id == 114),\n",
        "    (mountain_id == 115),\n",
        "    (mountain_id == 116),\n",
        "    (mountain_id == 117)]\n",
        "# List of values to return\n",
        "choices  = [\n",
        "    1,1,1,1,2,1,1,2,2,2,3,3,3,2,3,3,2\n",
        "    \n",
        "]\n",
        "# create a new column in the DF based on the conditions\n",
        "df_rating.insert(3, 'level', np.select(conditions, choices, \"ERROR\")) "
      ],
      "metadata": {
        "id": "h8FWZHeRKjle"
      },
      "execution_count": 108,
      "outputs": []
    },
    {
      "cell_type": "code",
      "source": [
        "df_rating = df_rating.sort_values(['mountain_id']).reset_index(drop=True)\n",
        "df_rating.head(15)"
      ],
      "metadata": {
        "id": "o1AHQavFJ0VN",
        "colab": {
          "base_uri": "https://localhost:8080/",
          "height": 520
        },
        "outputId": "0e225cda-cdab-4826-f681-4f452095f09d"
      },
      "execution_count": 109,
      "outputs": [
        {
          "output_type": "execute_result",
          "data": {
            "text/plain": [
              "    user_id  mountain_id     mount_name level  rating\n",
              "0       210          101  Gunung Cermai     1       4\n",
              "1       851          101  Gunung Cermai     1       4\n",
              "2       760          101  Gunung Cermai     1       1\n",
              "3       723          101  Gunung Cermai     1       5\n",
              "4       660          101  Gunung Cermai     1       1\n",
              "5       725          101  Gunung Cermai     1       2\n",
              "6       844          101  Gunung Cermai     1       2\n",
              "7       450          101  Gunung Cermai     1       5\n",
              "8       520          101  Gunung Cermai     1       5\n",
              "9       513          101  Gunung Cermai     1       5\n",
              "10      353          101  Gunung Cermai     1       5\n",
              "11      832          101  Gunung Cermai     1       5\n",
              "12      597          101  Gunung Cermai     1       1\n",
              "13      485          101  Gunung Cermai     1       3\n",
              "14       47          101  Gunung Cermai     1       2"
            ],
            "text/html": [
              "\n",
              "  <div id=\"df-8288048a-e68e-4202-8a3c-b6f87c0151ef\">\n",
              "    <div class=\"colab-df-container\">\n",
              "      <div>\n",
              "<style scoped>\n",
              "    .dataframe tbody tr th:only-of-type {\n",
              "        vertical-align: middle;\n",
              "    }\n",
              "\n",
              "    .dataframe tbody tr th {\n",
              "        vertical-align: top;\n",
              "    }\n",
              "\n",
              "    .dataframe thead th {\n",
              "        text-align: right;\n",
              "    }\n",
              "</style>\n",
              "<table border=\"1\" class=\"dataframe\">\n",
              "  <thead>\n",
              "    <tr style=\"text-align: right;\">\n",
              "      <th></th>\n",
              "      <th>user_id</th>\n",
              "      <th>mountain_id</th>\n",
              "      <th>mount_name</th>\n",
              "      <th>level</th>\n",
              "      <th>rating</th>\n",
              "    </tr>\n",
              "  </thead>\n",
              "  <tbody>\n",
              "    <tr>\n",
              "      <th>0</th>\n",
              "      <td>210</td>\n",
              "      <td>101</td>\n",
              "      <td>Gunung Cermai</td>\n",
              "      <td>1</td>\n",
              "      <td>4</td>\n",
              "    </tr>\n",
              "    <tr>\n",
              "      <th>1</th>\n",
              "      <td>851</td>\n",
              "      <td>101</td>\n",
              "      <td>Gunung Cermai</td>\n",
              "      <td>1</td>\n",
              "      <td>4</td>\n",
              "    </tr>\n",
              "    <tr>\n",
              "      <th>2</th>\n",
              "      <td>760</td>\n",
              "      <td>101</td>\n",
              "      <td>Gunung Cermai</td>\n",
              "      <td>1</td>\n",
              "      <td>1</td>\n",
              "    </tr>\n",
              "    <tr>\n",
              "      <th>3</th>\n",
              "      <td>723</td>\n",
              "      <td>101</td>\n",
              "      <td>Gunung Cermai</td>\n",
              "      <td>1</td>\n",
              "      <td>5</td>\n",
              "    </tr>\n",
              "    <tr>\n",
              "      <th>4</th>\n",
              "      <td>660</td>\n",
              "      <td>101</td>\n",
              "      <td>Gunung Cermai</td>\n",
              "      <td>1</td>\n",
              "      <td>1</td>\n",
              "    </tr>\n",
              "    <tr>\n",
              "      <th>5</th>\n",
              "      <td>725</td>\n",
              "      <td>101</td>\n",
              "      <td>Gunung Cermai</td>\n",
              "      <td>1</td>\n",
              "      <td>2</td>\n",
              "    </tr>\n",
              "    <tr>\n",
              "      <th>6</th>\n",
              "      <td>844</td>\n",
              "      <td>101</td>\n",
              "      <td>Gunung Cermai</td>\n",
              "      <td>1</td>\n",
              "      <td>2</td>\n",
              "    </tr>\n",
              "    <tr>\n",
              "      <th>7</th>\n",
              "      <td>450</td>\n",
              "      <td>101</td>\n",
              "      <td>Gunung Cermai</td>\n",
              "      <td>1</td>\n",
              "      <td>5</td>\n",
              "    </tr>\n",
              "    <tr>\n",
              "      <th>8</th>\n",
              "      <td>520</td>\n",
              "      <td>101</td>\n",
              "      <td>Gunung Cermai</td>\n",
              "      <td>1</td>\n",
              "      <td>5</td>\n",
              "    </tr>\n",
              "    <tr>\n",
              "      <th>9</th>\n",
              "      <td>513</td>\n",
              "      <td>101</td>\n",
              "      <td>Gunung Cermai</td>\n",
              "      <td>1</td>\n",
              "      <td>5</td>\n",
              "    </tr>\n",
              "    <tr>\n",
              "      <th>10</th>\n",
              "      <td>353</td>\n",
              "      <td>101</td>\n",
              "      <td>Gunung Cermai</td>\n",
              "      <td>1</td>\n",
              "      <td>5</td>\n",
              "    </tr>\n",
              "    <tr>\n",
              "      <th>11</th>\n",
              "      <td>832</td>\n",
              "      <td>101</td>\n",
              "      <td>Gunung Cermai</td>\n",
              "      <td>1</td>\n",
              "      <td>5</td>\n",
              "    </tr>\n",
              "    <tr>\n",
              "      <th>12</th>\n",
              "      <td>597</td>\n",
              "      <td>101</td>\n",
              "      <td>Gunung Cermai</td>\n",
              "      <td>1</td>\n",
              "      <td>1</td>\n",
              "    </tr>\n",
              "    <tr>\n",
              "      <th>13</th>\n",
              "      <td>485</td>\n",
              "      <td>101</td>\n",
              "      <td>Gunung Cermai</td>\n",
              "      <td>1</td>\n",
              "      <td>3</td>\n",
              "    </tr>\n",
              "    <tr>\n",
              "      <th>14</th>\n",
              "      <td>47</td>\n",
              "      <td>101</td>\n",
              "      <td>Gunung Cermai</td>\n",
              "      <td>1</td>\n",
              "      <td>2</td>\n",
              "    </tr>\n",
              "  </tbody>\n",
              "</table>\n",
              "</div>\n",
              "      <button class=\"colab-df-convert\" onclick=\"convertToInteractive('df-8288048a-e68e-4202-8a3c-b6f87c0151ef')\"\n",
              "              title=\"Convert this dataframe to an interactive table.\"\n",
              "              style=\"display:none;\">\n",
              "        \n",
              "  <svg xmlns=\"http://www.w3.org/2000/svg\" height=\"24px\"viewBox=\"0 0 24 24\"\n",
              "       width=\"24px\">\n",
              "    <path d=\"M0 0h24v24H0V0z\" fill=\"none\"/>\n",
              "    <path d=\"M18.56 5.44l.94 2.06.94-2.06 2.06-.94-2.06-.94-.94-2.06-.94 2.06-2.06.94zm-11 1L8.5 8.5l.94-2.06 2.06-.94-2.06-.94L8.5 2.5l-.94 2.06-2.06.94zm10 10l.94 2.06.94-2.06 2.06-.94-2.06-.94-.94-2.06-.94 2.06-2.06.94z\"/><path d=\"M17.41 7.96l-1.37-1.37c-.4-.4-.92-.59-1.43-.59-.52 0-1.04.2-1.43.59L10.3 9.45l-7.72 7.72c-.78.78-.78 2.05 0 2.83L4 21.41c.39.39.9.59 1.41.59.51 0 1.02-.2 1.41-.59l7.78-7.78 2.81-2.81c.8-.78.8-2.07 0-2.86zM5.41 20L4 18.59l7.72-7.72 1.47 1.35L5.41 20z\"/>\n",
              "  </svg>\n",
              "      </button>\n",
              "      \n",
              "  <style>\n",
              "    .colab-df-container {\n",
              "      display:flex;\n",
              "      flex-wrap:wrap;\n",
              "      gap: 12px;\n",
              "    }\n",
              "\n",
              "    .colab-df-convert {\n",
              "      background-color: #E8F0FE;\n",
              "      border: none;\n",
              "      border-radius: 50%;\n",
              "      cursor: pointer;\n",
              "      display: none;\n",
              "      fill: #1967D2;\n",
              "      height: 32px;\n",
              "      padding: 0 0 0 0;\n",
              "      width: 32px;\n",
              "    }\n",
              "\n",
              "    .colab-df-convert:hover {\n",
              "      background-color: #E2EBFA;\n",
              "      box-shadow: 0px 1px 2px rgba(60, 64, 67, 0.3), 0px 1px 3px 1px rgba(60, 64, 67, 0.15);\n",
              "      fill: #174EA6;\n",
              "    }\n",
              "\n",
              "    [theme=dark] .colab-df-convert {\n",
              "      background-color: #3B4455;\n",
              "      fill: #D2E3FC;\n",
              "    }\n",
              "\n",
              "    [theme=dark] .colab-df-convert:hover {\n",
              "      background-color: #434B5C;\n",
              "      box-shadow: 0px 1px 3px 1px rgba(0, 0, 0, 0.15);\n",
              "      filter: drop-shadow(0px 1px 2px rgba(0, 0, 0, 0.3));\n",
              "      fill: #FFFFFF;\n",
              "    }\n",
              "  </style>\n",
              "\n",
              "      <script>\n",
              "        const buttonEl =\n",
              "          document.querySelector('#df-8288048a-e68e-4202-8a3c-b6f87c0151ef button.colab-df-convert');\n",
              "        buttonEl.style.display =\n",
              "          google.colab.kernel.accessAllowed ? 'block' : 'none';\n",
              "\n",
              "        async function convertToInteractive(key) {\n",
              "          const element = document.querySelector('#df-8288048a-e68e-4202-8a3c-b6f87c0151ef');\n",
              "          const dataTable =\n",
              "            await google.colab.kernel.invokeFunction('convertToInteractive',\n",
              "                                                     [key], {});\n",
              "          if (!dataTable) return;\n",
              "\n",
              "          const docLinkHtml = 'Like what you see? Visit the ' +\n",
              "            '<a target=\"_blank\" href=https://colab.research.google.com/notebooks/data_table.ipynb>data table notebook</a>'\n",
              "            + ' to learn more about interactive tables.';\n",
              "          element.innerHTML = '';\n",
              "          dataTable['output_type'] = 'display_data';\n",
              "          await google.colab.output.renderOutput(dataTable, element);\n",
              "          const docLink = document.createElement('div');\n",
              "          docLink.innerHTML = docLinkHtml;\n",
              "          element.appendChild(docLink);\n",
              "        }\n",
              "      </script>\n",
              "    </div>\n",
              "  </div>\n",
              "  "
            ]
          },
          "metadata": {},
          "execution_count": 109
        }
      ]
    },
    {
      "cell_type": "code",
      "source": [
        "df_rating = df_rating.sort_values(['user_id']).reset_index(drop=True)\n",
        "print(df_rating.head())\n",
        "print(df_rating.shape)\n"
      ],
      "metadata": {
        "colab": {
          "base_uri": "https://localhost:8080/"
        },
        "id": "X5RuLCHxDUiQ",
        "outputId": "290644b7-8f2f-4300-99a6-ec16583a546e"
      },
      "execution_count": 88,
      "outputs": [
        {
          "output_type": "stream",
          "name": "stdout",
          "text": [
            "   user_id  mountain_id        mount_name level  rating\n",
            "0        1          113   Gunung Argopuro     3       1\n",
            "1        1          112     Gunung Arjuno     3       2\n",
            "2        1          109    Gunung Sindoro     2       1\n",
            "3        1          117  Gunung Panderman     2       4\n",
            "4        2          109    Gunung Sindoro     2       4\n",
            "(5000, 5)\n"
          ]
        }
      ]
    },
    {
      "cell_type": "code",
      "source": [
        "avg_mount_rate = df_rating.groupby(['mountain_id']).mean()\n",
        "avg_mount_rate = avg_mount_rate.drop(['user_id'],axis=1)\n",
        "avg_mount_rate = avg_mount_rate.sort_values(['rating'], ascending=False)\n",
        "avg_mount_rate.head()"
      ],
      "metadata": {
        "colab": {
          "base_uri": "https://localhost:8080/",
          "height": 292
        },
        "id": "dFUXMZpkLjlp",
        "outputId": "a22c8632-31fa-4ca9-d046-93e1ad22e894"
      },
      "execution_count": 42,
      "outputs": [
        {
          "output_type": "stream",
          "name": "stderr",
          "text": [
            "<ipython-input-42-6b694f445c44>:1: FutureWarning: The default value of numeric_only in DataFrameGroupBy.mean is deprecated. In a future version, numeric_only will default to False. Either specify numeric_only or select only columns which should be valid for the function.\n",
            "  avg_mount_rate = df_rating.groupby(['mountain_id']).mean()\n"
          ]
        },
        {
          "output_type": "execute_result",
          "data": {
            "text/plain": [
              "               rating\n",
              "mountain_id          \n",
              "117          3.190000\n",
              "114          3.151724\n",
              "103          3.104418\n",
              "107          3.048544\n",
              "101          3.045752"
            ],
            "text/html": [
              "\n",
              "  <div id=\"df-d9b3de16-92b5-4465-8e52-82781f8b241d\">\n",
              "    <div class=\"colab-df-container\">\n",
              "      <div>\n",
              "<style scoped>\n",
              "    .dataframe tbody tr th:only-of-type {\n",
              "        vertical-align: middle;\n",
              "    }\n",
              "\n",
              "    .dataframe tbody tr th {\n",
              "        vertical-align: top;\n",
              "    }\n",
              "\n",
              "    .dataframe thead th {\n",
              "        text-align: right;\n",
              "    }\n",
              "</style>\n",
              "<table border=\"1\" class=\"dataframe\">\n",
              "  <thead>\n",
              "    <tr style=\"text-align: right;\">\n",
              "      <th></th>\n",
              "      <th>rating</th>\n",
              "    </tr>\n",
              "    <tr>\n",
              "      <th>mountain_id</th>\n",
              "      <th></th>\n",
              "    </tr>\n",
              "  </thead>\n",
              "  <tbody>\n",
              "    <tr>\n",
              "      <th>117</th>\n",
              "      <td>3.190000</td>\n",
              "    </tr>\n",
              "    <tr>\n",
              "      <th>114</th>\n",
              "      <td>3.151724</td>\n",
              "    </tr>\n",
              "    <tr>\n",
              "      <th>103</th>\n",
              "      <td>3.104418</td>\n",
              "    </tr>\n",
              "    <tr>\n",
              "      <th>107</th>\n",
              "      <td>3.048544</td>\n",
              "    </tr>\n",
              "    <tr>\n",
              "      <th>101</th>\n",
              "      <td>3.045752</td>\n",
              "    </tr>\n",
              "  </tbody>\n",
              "</table>\n",
              "</div>\n",
              "      <button class=\"colab-df-convert\" onclick=\"convertToInteractive('df-d9b3de16-92b5-4465-8e52-82781f8b241d')\"\n",
              "              title=\"Convert this dataframe to an interactive table.\"\n",
              "              style=\"display:none;\">\n",
              "        \n",
              "  <svg xmlns=\"http://www.w3.org/2000/svg\" height=\"24px\"viewBox=\"0 0 24 24\"\n",
              "       width=\"24px\">\n",
              "    <path d=\"M0 0h24v24H0V0z\" fill=\"none\"/>\n",
              "    <path d=\"M18.56 5.44l.94 2.06.94-2.06 2.06-.94-2.06-.94-.94-2.06-.94 2.06-2.06.94zm-11 1L8.5 8.5l.94-2.06 2.06-.94-2.06-.94L8.5 2.5l-.94 2.06-2.06.94zm10 10l.94 2.06.94-2.06 2.06-.94-2.06-.94-.94-2.06-.94 2.06-2.06.94z\"/><path d=\"M17.41 7.96l-1.37-1.37c-.4-.4-.92-.59-1.43-.59-.52 0-1.04.2-1.43.59L10.3 9.45l-7.72 7.72c-.78.78-.78 2.05 0 2.83L4 21.41c.39.39.9.59 1.41.59.51 0 1.02-.2 1.41-.59l7.78-7.78 2.81-2.81c.8-.78.8-2.07 0-2.86zM5.41 20L4 18.59l7.72-7.72 1.47 1.35L5.41 20z\"/>\n",
              "  </svg>\n",
              "      </button>\n",
              "      \n",
              "  <style>\n",
              "    .colab-df-container {\n",
              "      display:flex;\n",
              "      flex-wrap:wrap;\n",
              "      gap: 12px;\n",
              "    }\n",
              "\n",
              "    .colab-df-convert {\n",
              "      background-color: #E8F0FE;\n",
              "      border: none;\n",
              "      border-radius: 50%;\n",
              "      cursor: pointer;\n",
              "      display: none;\n",
              "      fill: #1967D2;\n",
              "      height: 32px;\n",
              "      padding: 0 0 0 0;\n",
              "      width: 32px;\n",
              "    }\n",
              "\n",
              "    .colab-df-convert:hover {\n",
              "      background-color: #E2EBFA;\n",
              "      box-shadow: 0px 1px 2px rgba(60, 64, 67, 0.3), 0px 1px 3px 1px rgba(60, 64, 67, 0.15);\n",
              "      fill: #174EA6;\n",
              "    }\n",
              "\n",
              "    [theme=dark] .colab-df-convert {\n",
              "      background-color: #3B4455;\n",
              "      fill: #D2E3FC;\n",
              "    }\n",
              "\n",
              "    [theme=dark] .colab-df-convert:hover {\n",
              "      background-color: #434B5C;\n",
              "      box-shadow: 0px 1px 3px 1px rgba(0, 0, 0, 0.15);\n",
              "      filter: drop-shadow(0px 1px 2px rgba(0, 0, 0, 0.3));\n",
              "      fill: #FFFFFF;\n",
              "    }\n",
              "  </style>\n",
              "\n",
              "      <script>\n",
              "        const buttonEl =\n",
              "          document.querySelector('#df-d9b3de16-92b5-4465-8e52-82781f8b241d button.colab-df-convert');\n",
              "        buttonEl.style.display =\n",
              "          google.colab.kernel.accessAllowed ? 'block' : 'none';\n",
              "\n",
              "        async function convertToInteractive(key) {\n",
              "          const element = document.querySelector('#df-d9b3de16-92b5-4465-8e52-82781f8b241d');\n",
              "          const dataTable =\n",
              "            await google.colab.kernel.invokeFunction('convertToInteractive',\n",
              "                                                     [key], {});\n",
              "          if (!dataTable) return;\n",
              "\n",
              "          const docLinkHtml = 'Like what you see? Visit the ' +\n",
              "            '<a target=\"_blank\" href=https://colab.research.google.com/notebooks/data_table.ipynb>data table notebook</a>'\n",
              "            + ' to learn more about interactive tables.';\n",
              "          element.innerHTML = '';\n",
              "          dataTable['output_type'] = 'display_data';\n",
              "          await google.colab.output.renderOutput(dataTable, element);\n",
              "          const docLink = document.createElement('div');\n",
              "          docLink.innerHTML = docLinkHtml;\n",
              "          element.appendChild(docLink);\n",
              "        }\n",
              "      </script>\n",
              "    </div>\n",
              "  </div>\n",
              "  "
            ]
          },
          "metadata": {},
          "execution_count": 42
        }
      ]
    },
    {
      "cell_type": "code",
      "source": [
        "avg_mount_rate.shape"
      ],
      "metadata": {
        "colab": {
          "base_uri": "https://localhost:8080/"
        },
        "id": "ZUUlVQugNYK_",
        "outputId": "961934c0-b3dd-43e8-c520-51b5bf9402cd"
      },
      "execution_count": 44,
      "outputs": [
        {
          "output_type": "execute_result",
          "data": {
            "text/plain": [
              "(17, 1)"
            ]
          },
          "metadata": {},
          "execution_count": 44
        }
      ]
    },
    {
      "cell_type": "code",
      "source": [
        "import tensorflow as tf"
      ],
      "metadata": {
        "id": "-j6vyA6HSKx1"
      },
      "execution_count": 45,
      "outputs": []
    },
    {
      "cell_type": "code",
      "source": [
        "tf_rating = tf.data.Dataset.from_tensor_slices(dict(df_rating))\n",
        "tf_gunung = tf.data.Dataset.from_tensor_slices(dict(df_gunung))"
      ],
      "metadata": {
        "id": "w0O_wF5VSXmo"
      },
      "execution_count": 122,
      "outputs": []
    },
    {
      "cell_type": "code",
      "source": [
        "# get the first rows of the movies dataset\n",
        "for m in tf_gunung.take(5):\n",
        "  print(m)"
      ],
      "metadata": {
        "colab": {
          "base_uri": "https://localhost:8080/"
        },
        "id": "12j5oz1vS1kE",
        "outputId": "c0384b2c-be9e-49b7-98b2-f1f2c1abebf3"
      },
      "execution_count": 123,
      "outputs": [
        {
          "output_type": "stream",
          "name": "stdout",
          "text": [
            "{'mountain_id': <tf.Tensor: shape=(), dtype=int64, numpy=101>, 'Daerah ': <tf.Tensor: shape=(), dtype=string, numpy=b'Jawa barat'>, 'Nama_Gunung ': <tf.Tensor: shape=(), dtype=string, numpy=b'Gunung Cermai '>, 'Ketinggian ': <tf.Tensor: shape=(), dtype=string, numpy=b'3,078'>, 'Lokasi ': <tf.Tensor: shape=(), dtype=string, numpy=b'Kuningan, Majalengka, dan Cirebon. '>, 'Trek': <tf.Tensor: shape=(), dtype=string, numpy=b'Tanah Kering'>, 'Jalur': <tf.Tensor: shape=(), dtype=string, numpy=b'Jalur Apuy, Linggarjati dan Jalur Palutungan'>, 'Simaksi ': <tf.Tensor: shape=(), dtype=string, numpy=b'Rp30.000'>, 'Level': <tf.Tensor: shape=(), dtype=int64, numpy=1>}\n",
            "{'mountain_id': <tf.Tensor: shape=(), dtype=int64, numpy=102>, 'Daerah ': <tf.Tensor: shape=(), dtype=string, numpy=b'Jawa barat'>, 'Nama_Gunung ': <tf.Tensor: shape=(), dtype=string, numpy=b'Gunung Puntang'>, 'Ketinggian ': <tf.Tensor: shape=(), dtype=string, numpy=b'2,223'>, 'Lokasi ': <tf.Tensor: shape=(), dtype=string, numpy=b'Kab. Bandung'>, 'Trek': <tf.Tensor: shape=(), dtype=string, numpy=b'Tanah kering'>, 'Jalur': <tf.Tensor: shape=(), dtype=string, numpy=b'-'>, 'Simaksi ': <tf.Tensor: shape=(), dtype=string, numpy=b'Rp40.000'>, 'Level': <tf.Tensor: shape=(), dtype=int64, numpy=1>}\n",
            "{'mountain_id': <tf.Tensor: shape=(), dtype=int64, numpy=103>, 'Daerah ': <tf.Tensor: shape=(), dtype=string, numpy=b'Jawa barat'>, 'Nama_Gunung ': <tf.Tensor: shape=(), dtype=string, numpy=b'Gunung Papandayan '>, 'Ketinggian ': <tf.Tensor: shape=(), dtype=string, numpy=b'2,666'>, 'Lokasi ': <tf.Tensor: shape=(), dtype=string, numpy=b'Kab. Garut.'>, 'Trek': <tf.Tensor: shape=(), dtype=string, numpy=b'bebatuan '>, 'Jalur': <tf.Tensor: shape=(), dtype=string, numpy=b'-'>, 'Simaksi ': <tf.Tensor: shape=(), dtype=string, numpy=b'Rp60.000'>, 'Level': <tf.Tensor: shape=(), dtype=int64, numpy=1>}\n",
            "{'mountain_id': <tf.Tensor: shape=(), dtype=int64, numpy=104>, 'Daerah ': <tf.Tensor: shape=(), dtype=string, numpy=b'Jawa barat'>, 'Nama_Gunung ': <tf.Tensor: shape=(), dtype=string, numpy=b'Gunung Gede Pangrango '>, 'Ketinggian ': <tf.Tensor: shape=(), dtype=string, numpy=b'2,958'>, 'Lokasi ': <tf.Tensor: shape=(), dtype=string, numpy=b'Bogor'>, 'Trek': <tf.Tensor: shape=(), dtype=string, numpy=b'Tangga Buatan'>, 'Jalur': <tf.Tensor: shape=(), dtype=string, numpy=b'Jalur Cibodas dan Jalur Putri '>, 'Simaksi ': <tf.Tensor: shape=(), dtype=string, numpy=b'Rp75.000'>, 'Level': <tf.Tensor: shape=(), dtype=int64, numpy=1>}\n",
            "{'mountain_id': <tf.Tensor: shape=(), dtype=int64, numpy=105>, 'Daerah ': <tf.Tensor: shape=(), dtype=string, numpy=b'Jawa barat'>, 'Nama_Gunung ': <tf.Tensor: shape=(), dtype=string, numpy=b'Gunung Pangrango'>, 'Ketinggian ': <tf.Tensor: shape=(), dtype=string, numpy=b'3,019'>, 'Lokasi ': <tf.Tensor: shape=(), dtype=string, numpy=b'Cibodas'>, 'Trek': <tf.Tensor: shape=(), dtype=string, numpy=b'Akar Pohon  '>, 'Jalur': <tf.Tensor: shape=(), dtype=string, numpy=b'Jalur Cibodas'>, 'Simaksi ': <tf.Tensor: shape=(), dtype=string, numpy=b'Rp75.000'>, 'Level': <tf.Tensor: shape=(), dtype=int64, numpy=2>}\n"
          ]
        }
      ]
    },
    {
      "cell_type": "code",
      "source": [
        "ratings = tf_rating.map(lambda x: {\n",
        "    \"mount_name\": x[\"mount_name\"],\n",
        "    \"user_id\": x[\"user_id\"]\n",
        "})\n",
        "gunung = tf_gunung.map(lambda x: x[\"Nama_Gunung \"])"
      ],
      "metadata": {
        "id": "NDBtID9uS67I"
      },
      "execution_count": 124,
      "outputs": []
    },
    {
      "cell_type": "code",
      "source": [
        "tf.random.set_seed(42)\n",
        "shuffled = ratings.shuffle(100_000, seed=42, reshuffle_each_iteration=False)\n",
        "\n",
        "train = shuffled.take(80_000)\n",
        "test = shuffled.skip(80_000).take(20_000)"
      ],
      "metadata": {
        "id": "WKmH596VQlyn"
      },
      "execution_count": 125,
      "outputs": []
    },
    {
      "cell_type": "code",
      "source": [
        "test.__len__()"
      ],
      "metadata": {
        "colab": {
          "base_uri": "https://localhost:8080/"
        },
        "id": "Dh4yy19oUxAX",
        "outputId": "7614b77c-7a14-4ea7-b0ff-b0f19f1085f9"
      },
      "execution_count": 129,
      "outputs": [
        {
          "output_type": "execute_result",
          "data": {
            "text/plain": [
              "<tf.Tensor: shape=(), dtype=int64, numpy=0>"
            ]
          },
          "metadata": {},
          "execution_count": 129
        }
      ]
    },
    {
      "cell_type": "code",
      "source": [
        "user_ids_vocabulary = tf.keras.layers.IntegerLookup(mask_token=None)\n",
        "user_ids_vocabulary.adapt(ratings.map(lambda x: x[\"user_id\"]))\n",
        " \n",
        " \n",
        "gunung_name_vocabulary = tf.keras.layers.StringLookup(mask_token=None)\n",
        "gunung_name_vocabulary.adapt(gunung)"
      ],
      "metadata": {
        "id": "8ciFev-sTWqQ"
      },
      "execution_count": 130,
      "outputs": []
    },
    {
      "cell_type": "code",
      "source": [
        "!pip install -q tensorflow-recommenders"
      ],
      "metadata": {
        "colab": {
          "base_uri": "https://localhost:8080/"
        },
        "id": "ftVvX7tJTjev",
        "outputId": "4401edb5-23eb-4e4c-8fcf-95815e92b762"
      },
      "execution_count": 62,
      "outputs": [
        {
          "output_type": "stream",
          "name": "stdout",
          "text": [
            "\u001b[?25l     \u001b[90m━━━━━━━━━━━━━━━━━━━━━━━━━━━━━━━━━━━━━━━━\u001b[0m \u001b[32m0.0/96.2 kB\u001b[0m \u001b[31m?\u001b[0m eta \u001b[36m-:--:--\u001b[0m\r\u001b[2K     \u001b[90m━━━━━━━━━━━━━━━━━━━━━━━━━━━━━━━━━━━━━━━━\u001b[0m \u001b[32m96.2/96.2 kB\u001b[0m \u001b[31m4.0 MB/s\u001b[0m eta \u001b[36m0:00:00\u001b[0m\n",
            "\u001b[?25h"
          ]
        }
      ]
    },
    {
      "cell_type": "code",
      "source": [
        "from typing import Dict, Text\n",
        " \n",
        "import tensorflow_recommenders as tfrs "
      ],
      "metadata": {
        "id": "2OgObcYDTmWY"
      },
      "execution_count": 115,
      "outputs": []
    },
    {
      "cell_type": "code",
      "source": [
        "class GunungModel(tfrs.Model):\n",
        "  # We derive from a custom base class to help reduce boilerplate. Under the hood,\n",
        "  # these are still plain Keras Models.\n",
        " \n",
        "  def __init__(\n",
        "      self,\n",
        "      user_model: tf.keras.Model,\n",
        "      gunung_model: tf.keras.Model,\n",
        "      task: tfrs.tasks.Retrieval):\n",
        "    super().__init__()\n",
        " \n",
        "    # Set up user and movie representations.\n",
        "    self.user_model = user_model\n",
        "    self.gunung_model = gunung_model\n",
        " \n",
        "    # Set up a retrieval task.\n",
        "    self.task = task\n",
        " \n",
        "  def compute_loss(self, features: Dict[Text, tf.Tensor], training=False) -> tf.Tensor:\n",
        "    # Define how the loss is computed.\n",
        " \n",
        "    user_embeddings = self.user_model(features[\"user_id\"])\n",
        "    gunung_embeddings = self.gunung_model(features[\"mount_name\"])\n",
        " \n",
        "    return self.task(user_embeddings, gunung_embeddings)"
      ],
      "metadata": {
        "id": "3URC35XbTq2E"
      },
      "execution_count": 131,
      "outputs": []
    },
    {
      "cell_type": "code",
      "source": [
        "# Define user and movie models.\n",
        "user_model = tf.keras.Sequential([\n",
        "    user_ids_vocabulary,\n",
        "    tf.keras.layers.Embedding(user_ids_vocabulary.vocabulary_size(), 64)\n",
        "])\n",
        "gunung_model = tf.keras.Sequential([\n",
        "    gunung_name_vocabulary,\n",
        "    tf.keras.layers.Embedding(gunung_name_vocabulary.vocabulary_size(), 64)\n",
        "])\n",
        " \n",
        "# Define your objectives.\n",
        "task = tfrs.tasks.Retrieval(metrics=tfrs.metrics.FactorizedTopK(\n",
        "    gunung.batch(128).map(gunung_model)\n",
        "  )\n",
        ")"
      ],
      "metadata": {
        "id": "r69y5QRKT2sm"
      },
      "execution_count": 132,
      "outputs": []
    },
    {
      "cell_type": "code",
      "source": [
        "cached_train = train.shuffle(100_000).batch(8192).cache()\n",
        "cached_test = test.batch(4096).cache()"
      ],
      "metadata": {
        "id": "mPZzHgIJTxeO"
      },
      "execution_count": 133,
      "outputs": []
    },
    {
      "cell_type": "code",
      "source": [
        "cached_train.__len__()"
      ],
      "metadata": {
        "colab": {
          "base_uri": "https://localhost:8080/"
        },
        "id": "MeHQjS1pVBxc",
        "outputId": "dcec02c6-0524-4e21-c4b8-0c827b797a72"
      },
      "execution_count": 136,
      "outputs": [
        {
          "output_type": "execute_result",
          "data": {
            "text/plain": [
              "<tf.Tensor: shape=(), dtype=int64, numpy=1>"
            ]
          },
          "metadata": {},
          "execution_count": 136
        }
      ]
    },
    {
      "cell_type": "code",
      "source": [
        "# Create a retrieval model.\n",
        "model = GunungModel(user_model, gunung_model, task)\n",
        "model.compile(optimizer=tf.keras.optimizers.Adagrad(0.1))\n",
        " \n",
        "# Train for 3 epochs.\n",
        "model.fit(cached_train, epochs=3)"
      ],
      "metadata": {
        "colab": {
          "base_uri": "https://localhost:8080/"
        },
        "id": "1UF3L3_hT9-f",
        "outputId": "929618ce-a684-4134-87b7-c889dc8c9b13"
      },
      "execution_count": 137,
      "outputs": [
        {
          "output_type": "stream",
          "name": "stdout",
          "text": [
            "Epoch 1/3\n",
            "1/1 [==============================] - 2s 2s/step - factorized_top_k/top_1_categorical_accuracy: 0.0342 - factorized_top_k/top_5_categorical_accuracy: 0.2596 - factorized_top_k/top_10_categorical_accuracy: 0.5430 - factorized_top_k/top_50_categorical_accuracy: 1.0000 - factorized_top_k/top_100_categorical_accuracy: 1.0000 - loss: 42586.1562 - regularization_loss: 0.0000e+00 - total_loss: 42586.1562\n",
            "Epoch 2/3\n",
            "1/1 [==============================] - 0s 343ms/step - factorized_top_k/top_1_categorical_accuracy: 0.1874 - factorized_top_k/top_5_categorical_accuracy: 0.6346 - factorized_top_k/top_10_categorical_accuracy: 0.7880 - factorized_top_k/top_50_categorical_accuracy: 1.0000 - factorized_top_k/top_100_categorical_accuracy: 1.0000 - loss: 42499.8711 - regularization_loss: 0.0000e+00 - total_loss: 42499.8711\n",
            "Epoch 3/3\n",
            "1/1 [==============================] - 0s 340ms/step - factorized_top_k/top_1_categorical_accuracy: 0.2952 - factorized_top_k/top_5_categorical_accuracy: 0.8538 - factorized_top_k/top_10_categorical_accuracy: 0.9016 - factorized_top_k/top_50_categorical_accuracy: 1.0000 - factorized_top_k/top_100_categorical_accuracy: 1.0000 - loss: 41793.9375 - regularization_loss: 0.0000e+00 - total_loss: 41793.9375\n"
          ]
        },
        {
          "output_type": "execute_result",
          "data": {
            "text/plain": [
              "<keras.callbacks.History at 0x7ff240767760>"
            ]
          },
          "metadata": {},
          "execution_count": 137
        }
      ]
    },
    {
      "cell_type": "code",
      "source": [
        "cached_test.__len__()"
      ],
      "metadata": {
        "colab": {
          "base_uri": "https://localhost:8080/"
        },
        "id": "FAMp5P0QUbHJ",
        "outputId": "857cbe6c-722c-4a34-9c3d-08199be24793"
      },
      "execution_count": 121,
      "outputs": [
        {
          "output_type": "execute_result",
          "data": {
            "text/plain": [
              "<tf.Tensor: shape=(), dtype=int64, numpy=0>"
            ]
          },
          "metadata": {},
          "execution_count": 121
        }
      ]
    },
    {
      "cell_type": "code",
      "source": [
        "model.evaluate(ratings.batch(40), return_dict=True)"
      ],
      "metadata": {
        "colab": {
          "base_uri": "https://localhost:8080/"
        },
        "id": "mVJlwzjtXr2n",
        "outputId": "1fd460af-976b-41df-887a-2c7e5cdf6bbd"
      },
      "execution_count": 138,
      "outputs": [
        {
          "output_type": "stream",
          "name": "stdout",
          "text": [
            "125/125 [==============================] - 6s 43ms/step - factorized_top_k/top_1_categorical_accuracy: 0.2964 - factorized_top_k/top_5_categorical_accuracy: 0.8680 - factorized_top_k/top_10_categorical_accuracy: 0.9016 - factorized_top_k/top_50_categorical_accuracy: 1.0000 - factorized_top_k/top_100_categorical_accuracy: 1.0000 - loss: 146.8842 - regularization_loss: 0.0000e+00 - total_loss: 146.8842\n"
          ]
        },
        {
          "output_type": "execute_result",
          "data": {
            "text/plain": [
              "{'factorized_top_k/top_1_categorical_accuracy': 0.2964000105857849,\n",
              " 'factorized_top_k/top_5_categorical_accuracy': 0.8679999709129333,\n",
              " 'factorized_top_k/top_10_categorical_accuracy': 0.9016000032424927,\n",
              " 'factorized_top_k/top_50_categorical_accuracy': 1.0,\n",
              " 'factorized_top_k/top_100_categorical_accuracy': 1.0,\n",
              " 'loss': 147.55517578125,\n",
              " 'regularization_loss': 0,\n",
              " 'total_loss': 147.55517578125}"
            ]
          },
          "metadata": {},
          "execution_count": 138
        }
      ]
    },
    {
      "cell_type": "code",
      "source": [
        "# Use brute-force search to set up retrieval using the trained representations.\n",
        "index = tfrs.layers.factorized_top_k.BruteForce(model.user_model)\n",
        "index.index_from_dataset(\n",
        "    gunung.batch(100).map(lambda title: (title, model.gunung_model(title))))\n",
        " \n",
        "# Get some recommendations.\n",
        "_, mountain_id = index(np.array([2]))\n",
        "print(f\"Top 10 recommendations for user 1: {mountain_id[0, :10]}\")"
      ],
      "metadata": {
        "colab": {
          "base_uri": "https://localhost:8080/"
        },
        "id": "xE2fi3H2UDCJ",
        "outputId": "5819ec0a-d8e4-4cef-d05e-f2490cfd2166"
      },
      "execution_count": 145,
      "outputs": [
        {
          "output_type": "stream",
          "name": "stdout",
          "text": [
            "Top 10 recommendations for user 1: [b'Gunung Arjuno' b'Gunung Merbabu' b'Gunung Sindoro' b'Gunung Semeru'\n",
            " b'Gunung Gede Pangrango ' b'Gunung Cikuray ' b'Gunung Prau '\n",
            " b'Gunung Cermai ' b'Gunung Papandayan ' b'Gunung Argupuro']\n"
          ]
        }
      ]
    }
  ]
}